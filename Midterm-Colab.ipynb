{
 "cells": [
  {
   "cell_type": "markdown",
   "id": "a5430957",
   "metadata": {},
   "source": [
    "# Midterm Notebook"
   ]
  },
  {
   "cell_type": "markdown",
   "id": "0afed911",
   "metadata": {},
   "source": [
    "Welcome to your midterm. Logistics:\n",
    "- Open book/open note/**no internet**\n",
    "- You are not allowed to discuss the exam with each other\n",
    "- All questions about the exam will come to me, through email. Do not send any public messages to me, or each other about the exam.\n",
    "- If there are any clarifications required, I will post them on brightspace and update this document.\n",
    "\n",
    "A note on the **kinds** of answers I expect: As is our style on HW and in class, many of these questions are open ended and are **not** asking you to repeat what you've read or heard in class. On the contrary, if I read my own words (or a texts) I will mark that down! I expect you to demonstrate your original thoughts. Almost none of these questions require 3-word answers (some do though, those should be clear by the question!). Having said that, I also don't want you to start just typing out vocabulary words that we've used in class. \n",
    "\n",
    "\n",
    "\n",
    "<br/>\n",
    "<div class='alert alert-danger'>\n",
    "\n",
    "<font size='5'>🤔</font> **Tip**: If you feel you can't answer a question, **skip it and come back**. Sometimes reading the entire thing will help clarify the individual parts. If all else fails, I will award partial credit for effort, and a clear explanation of what you're confused about and why. \n",
    "\n",
    "</div>\n",
    "\n",
    "<br/>\n",
    "<div class='alert alert-danger'>\n",
    "\n",
    "<font size='5'>🤔</font> **Tip**: If you're really confused, **try and thoroughly explain your confusion!**\n",
    "\n",
    "</div>\n",
    "\n",
    "    "
   ]
  },
  {
   "cell_type": "markdown",
   "id": "40257366",
   "metadata": {},
   "source": [
    "## Changelog\n",
    "\n",
    "If there are any updates/errors, I will update this section and email the class.\n",
    "<br/>\n",
    "<div class='alert alert-info'>\n",
    "\n",
    "<font size='5'>👾</font> **Note:** \n",
    "* This is **version 2**, updated on 2022-10-10 at 6pm for use on Colab\n",
    " * Colab uses an old version of python (from 2019!) and an old version of `sklearn` so I had to update the last problem \n",
    "* ~This is **version 1**, updated on 2022-10-10 at 9:00am.~\n",
    "\n",
    "</div>"
   ]
  },
  {
   "cell_type": "markdown",
   "id": "6bfb489d",
   "metadata": {},
   "source": [
    "## Notebook Setup"
   ]
  },
  {
   "cell_type": "code",
   "execution_count": 936,
   "id": "e3ef05c5",
   "metadata": {
    "code_folding": [
     0,
     17
    ]
   },
   "outputs": [
    {
     "data": {
      "text/html": [
       "\n",
       "    <style>\n",
       "        div.info{\n",
       "            padding: 15px; \n",
       "            border: 1px solid transparent; \n",
       "            border-left: 5px solid #dfb5b4; \n",
       "            border-color: transparent; \n",
       "            margin-bottom: 10px; \n",
       "            border-radius: 4px; \n",
       "            background-color: #fcf8e3; \n",
       "            border-color: #faebcc;\n",
       "        }\n",
       "        hr{\n",
       "            border: 1px solid;\n",
       "            border-radius: 5px;\n",
       "        }\n",
       "    </style>"
      ],
      "text/plain": [
       "<IPython.core.display.HTML object>"
      ]
     },
     "execution_count": 936,
     "metadata": {},
     "output_type": "execute_result"
    }
   ],
   "source": [
    "# imports\n",
    "import numpy as np\n",
    "import matplotlib.pyplot as plt\n",
    "colors = plt.rcParams[\"axes.prop_cycle\"].by_key()[\"color\"]\n",
    "import seaborn as sns\n",
    "import pandas as pd\n",
    "\n",
    "# 3d figures\n",
    "import matplotlib as mpl\n",
    "from mpl_toolkits.mplot3d import Axes3D\n",
    "from matplotlib import cm\n",
    "\n",
    "# creating animations\n",
    "import matplotlib.animation\n",
    "from IPython.display import HTML\n",
    "\n",
    "# styling additions\n",
    "from IPython.display import HTML\n",
    "style = '''\n",
    "    <style>\n",
    "        div.info{\n",
    "            padding: 15px; \n",
    "            border: 1px solid transparent; \n",
    "            border-left: 5px solid #dfb5b4; \n",
    "            border-color: transparent; \n",
    "            margin-bottom: 10px; \n",
    "            border-radius: 4px; \n",
    "            background-color: #fcf8e3; \n",
    "            border-color: #faebcc;\n",
    "        }\n",
    "        hr{\n",
    "            border: 1px solid;\n",
    "            border-radius: 5px;\n",
    "        }\n",
    "    </style>'''\n",
    "HTML(style)"
   ]
  },
  {
   "cell_type": "markdown",
   "id": "598abcf8",
   "metadata": {},
   "source": [
    "# Problem 0\n",
    "\n",
    "Lets do a simple exercise using `numpy`! \n",
    "\n",
    "## 0.A\n",
    "Write some code to specify an array representing a point in \"the **unit-cube** in 3-D space. That is, give me a single **random** point whose $(x,y,z)$ values are each between (0,1)."
   ]
  },
  {
   "cell_type": "code",
   "execution_count": 937,
   "id": "e940ee23",
   "metadata": {},
   "outputs": [
    {
     "data": {
      "text/plain": [
       "array([0.08644973, 0.18177138, 0.59290022])"
      ]
     },
     "execution_count": 937,
     "metadata": {},
     "output_type": "execute_result"
    }
   ],
   "source": [
    "a_point = np.random.random_sample(3)\n",
    "a_point"
   ]
  },
  {
   "cell_type": "markdown",
   "id": "eb652419",
   "metadata": {},
   "source": [
    "## 0.B\n",
    "Now, give me a single array with `1000` many points in the unit cube:"
   ]
  },
  {
   "cell_type": "code",
   "execution_count": 938,
   "id": "fb24ab0f",
   "metadata": {},
   "outputs": [
    {
     "data": {
      "text/plain": [
       "(1000, 3)"
      ]
     },
     "execution_count": 938,
     "metadata": {},
     "output_type": "execute_result"
    }
   ],
   "source": [
    "random_points = np.random.random_sample((1000,3))\n",
    "random_points.shape"
   ]
  },
  {
   "cell_type": "markdown",
   "id": "1bf30ffe",
   "metadata": {},
   "source": [
    "## 0.C\n",
    "Give me the **minimum**, **maximum** and **mean** of **each column**, to verify that we've done this correctly:"
   ]
  },
  {
   "cell_type": "code",
   "execution_count": 939,
   "id": "83d4931a",
   "metadata": {},
   "outputs": [
    {
     "data": {
      "text/plain": [
       "(array([0.00101354, 0.00044989, 0.00068134]),\n",
       " array([0.99817499, 0.99994275, 0.99971509]),\n",
       " array([0.49962307, 0.48301588, 0.49550206]))"
      ]
     },
     "execution_count": 939,
     "metadata": {},
     "output_type": "execute_result"
    }
   ],
   "source": [
    "min_vals=np.min(random_points, axis =0)\n",
    "max_vals=np.max(random_points, axis =0)\n",
    "mean_vals=np.mean(random_points, axis =0)\n",
    "\n",
    "min_vals, max_vals, mean_vals"
   ]
  },
  {
   "cell_type": "markdown",
   "id": "39c11e29",
   "metadata": {},
   "source": [
    "## 0.D\n",
    "<br/>\n",
    "<div class='info'>\n",
    "\n",
    "<font size='5'>🤔</font> **Pause-and-Ponder:**  According to the above, where is the **center** of this cube? Does this make sense? Why or why not? Comment below!\n",
    "\n",
    "</div>\n",
    "\n",
    "---"
   ]
  },
  {
   "cell_type": "markdown",
   "id": "f3d79293",
   "metadata": {},
   "source": [
    "The mean_vals would be the direct center of the unit cube because out of the 1000 sampled values along the unit cube, it is the average value meaning it would be the closest to the center possible. It makes sense that the center would round to something close to [.5,.5.,5] since that would be the center of each of the unit axis ranges of (0,1) combined. "
   ]
  },
  {
   "cell_type": "markdown",
   "id": "c22d8e90",
   "metadata": {},
   "source": [
    "---"
   ]
  },
  {
   "cell_type": "markdown",
   "id": "29fa5e05",
   "metadata": {},
   "source": [
    "## 0.E\n",
    "Great! Now lets **shift** the entire cube of points, so that its **new center**, is $(2,1,4)$"
   ]
  },
  {
   "cell_type": "code",
   "execution_count": 940,
   "id": "0b44d5fa",
   "metadata": {},
   "outputs": [],
   "source": [
    "x = random_points[:,0]*4\n",
    "y = random_points[:,1]*2\n",
    "z = random_points[:,2]*8\n",
    "shifted_points = np.vstack((x,y,z))\n",
    "shifted_points=np.transpose(shifted_points)"
   ]
  },
  {
   "cell_type": "markdown",
   "id": "ee22a8b7",
   "metadata": {},
   "source": [
    "## 0.F\n",
    "As we did above, lets verify that the new center of this cube is in the correct place!"
   ]
  },
  {
   "cell_type": "code",
   "execution_count": 941,
   "id": "3c68521f",
   "metadata": {},
   "outputs": [
    {
     "data": {
      "text/plain": [
       "array([1.99849228, 0.96603176, 3.96401648])"
      ]
     },
     "execution_count": 941,
     "metadata": {},
     "output_type": "execute_result"
    }
   ],
   "source": [
    "shifted_mean_vals = np.mean(shifted_points, axis =0)\n",
    "shifted_mean_vals"
   ]
  },
  {
   "cell_type": "markdown",
   "id": "274a7dd0",
   "metadata": {},
   "source": [
    "## 0.G\n",
    "And finally, **how far on average**, according to the *usual* distance measure (which we fancily called the $\\mathcal{L}_2$-norm) is the original single point, from the new shifted cube?\n",
    "\n",
    "<br/>\n",
    "<div class='info'>\n",
    "\n",
    "<font size='5'>🙋🏽‍♀️</font> **Hint** I'm asking you to calculate the $\\mathcal{L}_2$ norm between the original point, and **each point in the shifted cube**, and then average all those distances together.\n",
    "\n",
    "</div>"
   ]
  },
  {
   "cell_type": "code",
   "execution_count": 942,
   "id": "b2cc2b71",
   "metadata": {},
   "outputs": [
    {
     "data": {
      "text/plain": [
       "2.309513505833452"
      ]
     },
     "execution_count": 942,
     "metadata": {},
     "output_type": "execute_result"
    }
   ],
   "source": [
    "#Used the dot product to get the L2 norms of the distance on each dimension \n",
    "dist0=np.dot(x, a_point[0])\n",
    "dist1=np.dot(y,a_point[1])\n",
    "dist2=np.dot(z,a_point[2])\n",
    "#combine each dimension \n",
    "dist_points = np.vstack((x,y,z))\n",
    "dist_points=np.transpose(dist_points)\n",
    "#average over all points\n",
    "np.mean(dist_points)"
   ]
  },
  {
   "cell_type": "markdown",
   "id": "21efd35a",
   "metadata": {},
   "source": [
    "## 0.H\n",
    "<br/>\n",
    "<div class='info'>\n",
    "\n",
    "<font size='5'>🤔</font> **Pause-and-Ponder:**  Does this make sense given how you shifted the points in the first place? Think about it!\n",
    "\n",
    "</div>"
   ]
  },
  {
   "cell_type": "markdown",
   "id": "2134fdd6",
   "metadata": {},
   "source": [
    "---"
   ]
  },
  {
   "cell_type": "markdown",
   "id": "d9bdb4ca",
   "metadata": {},
   "source": [
    "Since I shifted the points by multiplying each column by one factor, it makes sense that the center would be an average distance away from the unit center that is a value in between the factors that were multiplied. Since the dot product is the same as the L2 norm, I used the dot product to find each axis of differences in the values and combined the axises to see the total amount of difference at the end. Since the random points were within the new unit cube and the original point was in a unit cube, it makes sense that there would be a measureable distance between them and that the distance would reflect the shift the unit cube went through which would increase the distance measure. "
   ]
  },
  {
   "cell_type": "markdown",
   "id": "eca407d3",
   "metadata": {},
   "source": [
    "---\n",
    "# Problem 1"
   ]
  },
  {
   "cell_type": "markdown",
   "id": "714e8a07",
   "metadata": {},
   "source": [
    "For this problem, we're going to use the `penguins` dataset built into `seaborn`."
   ]
  },
  {
   "cell_type": "code",
   "execution_count": 981,
   "id": "7562f360",
   "metadata": {},
   "outputs": [],
   "source": [
    "penguins_df = sns.load_dataset(\"penguins\").dropna()"
   ]
  },
  {
   "cell_type": "markdown",
   "id": "578683f0",
   "metadata": {},
   "source": [
    "Note, this gives you a dataframe as:"
   ]
  },
  {
   "cell_type": "code",
   "execution_count": 944,
   "id": "c65caea2",
   "metadata": {},
   "outputs": [
    {
     "data": {
      "text/html": [
       "<div>\n",
       "<style scoped>\n",
       "    .dataframe tbody tr th:only-of-type {\n",
       "        vertical-align: middle;\n",
       "    }\n",
       "\n",
       "    .dataframe tbody tr th {\n",
       "        vertical-align: top;\n",
       "    }\n",
       "\n",
       "    .dataframe thead th {\n",
       "        text-align: right;\n",
       "    }\n",
       "</style>\n",
       "<table border=\"1\" class=\"dataframe\">\n",
       "  <thead>\n",
       "    <tr style=\"text-align: right;\">\n",
       "      <th></th>\n",
       "      <th>species</th>\n",
       "      <th>island</th>\n",
       "      <th>bill_length_mm</th>\n",
       "      <th>bill_depth_mm</th>\n",
       "      <th>flipper_length_mm</th>\n",
       "      <th>body_mass_g</th>\n",
       "      <th>sex</th>\n",
       "    </tr>\n",
       "  </thead>\n",
       "  <tbody>\n",
       "    <tr>\n",
       "      <th>0</th>\n",
       "      <td>Adelie</td>\n",
       "      <td>Torgersen</td>\n",
       "      <td>39.1</td>\n",
       "      <td>18.7</td>\n",
       "      <td>181.0</td>\n",
       "      <td>3750.0</td>\n",
       "      <td>Male</td>\n",
       "    </tr>\n",
       "    <tr>\n",
       "      <th>1</th>\n",
       "      <td>Adelie</td>\n",
       "      <td>Torgersen</td>\n",
       "      <td>39.5</td>\n",
       "      <td>17.4</td>\n",
       "      <td>186.0</td>\n",
       "      <td>3800.0</td>\n",
       "      <td>Female</td>\n",
       "    </tr>\n",
       "    <tr>\n",
       "      <th>2</th>\n",
       "      <td>Adelie</td>\n",
       "      <td>Torgersen</td>\n",
       "      <td>40.3</td>\n",
       "      <td>18.0</td>\n",
       "      <td>195.0</td>\n",
       "      <td>3250.0</td>\n",
       "      <td>Female</td>\n",
       "    </tr>\n",
       "    <tr>\n",
       "      <th>4</th>\n",
       "      <td>Adelie</td>\n",
       "      <td>Torgersen</td>\n",
       "      <td>36.7</td>\n",
       "      <td>19.3</td>\n",
       "      <td>193.0</td>\n",
       "      <td>3450.0</td>\n",
       "      <td>Female</td>\n",
       "    </tr>\n",
       "    <tr>\n",
       "      <th>5</th>\n",
       "      <td>Adelie</td>\n",
       "      <td>Torgersen</td>\n",
       "      <td>39.3</td>\n",
       "      <td>20.6</td>\n",
       "      <td>190.0</td>\n",
       "      <td>3650.0</td>\n",
       "      <td>Male</td>\n",
       "    </tr>\n",
       "    <tr>\n",
       "      <th>...</th>\n",
       "      <td>...</td>\n",
       "      <td>...</td>\n",
       "      <td>...</td>\n",
       "      <td>...</td>\n",
       "      <td>...</td>\n",
       "      <td>...</td>\n",
       "      <td>...</td>\n",
       "    </tr>\n",
       "    <tr>\n",
       "      <th>338</th>\n",
       "      <td>Gentoo</td>\n",
       "      <td>Biscoe</td>\n",
       "      <td>47.2</td>\n",
       "      <td>13.7</td>\n",
       "      <td>214.0</td>\n",
       "      <td>4925.0</td>\n",
       "      <td>Female</td>\n",
       "    </tr>\n",
       "    <tr>\n",
       "      <th>340</th>\n",
       "      <td>Gentoo</td>\n",
       "      <td>Biscoe</td>\n",
       "      <td>46.8</td>\n",
       "      <td>14.3</td>\n",
       "      <td>215.0</td>\n",
       "      <td>4850.0</td>\n",
       "      <td>Female</td>\n",
       "    </tr>\n",
       "    <tr>\n",
       "      <th>341</th>\n",
       "      <td>Gentoo</td>\n",
       "      <td>Biscoe</td>\n",
       "      <td>50.4</td>\n",
       "      <td>15.7</td>\n",
       "      <td>222.0</td>\n",
       "      <td>5750.0</td>\n",
       "      <td>Male</td>\n",
       "    </tr>\n",
       "    <tr>\n",
       "      <th>342</th>\n",
       "      <td>Gentoo</td>\n",
       "      <td>Biscoe</td>\n",
       "      <td>45.2</td>\n",
       "      <td>14.8</td>\n",
       "      <td>212.0</td>\n",
       "      <td>5200.0</td>\n",
       "      <td>Female</td>\n",
       "    </tr>\n",
       "    <tr>\n",
       "      <th>343</th>\n",
       "      <td>Gentoo</td>\n",
       "      <td>Biscoe</td>\n",
       "      <td>49.9</td>\n",
       "      <td>16.1</td>\n",
       "      <td>213.0</td>\n",
       "      <td>5400.0</td>\n",
       "      <td>Male</td>\n",
       "    </tr>\n",
       "  </tbody>\n",
       "</table>\n",
       "<p>333 rows × 7 columns</p>\n",
       "</div>"
      ],
      "text/plain": [
       "    species     island  bill_length_mm  bill_depth_mm  flipper_length_mm  \\\n",
       "0    Adelie  Torgersen            39.1           18.7              181.0   \n",
       "1    Adelie  Torgersen            39.5           17.4              186.0   \n",
       "2    Adelie  Torgersen            40.3           18.0              195.0   \n",
       "4    Adelie  Torgersen            36.7           19.3              193.0   \n",
       "5    Adelie  Torgersen            39.3           20.6              190.0   \n",
       "..      ...        ...             ...            ...                ...   \n",
       "338  Gentoo     Biscoe            47.2           13.7              214.0   \n",
       "340  Gentoo     Biscoe            46.8           14.3              215.0   \n",
       "341  Gentoo     Biscoe            50.4           15.7              222.0   \n",
       "342  Gentoo     Biscoe            45.2           14.8              212.0   \n",
       "343  Gentoo     Biscoe            49.9           16.1              213.0   \n",
       "\n",
       "     body_mass_g     sex  \n",
       "0         3750.0    Male  \n",
       "1         3800.0  Female  \n",
       "2         3250.0  Female  \n",
       "4         3450.0  Female  \n",
       "5         3650.0    Male  \n",
       "..           ...     ...  \n",
       "338       4925.0  Female  \n",
       "340       4850.0  Female  \n",
       "341       5750.0    Male  \n",
       "342       5200.0  Female  \n",
       "343       5400.0    Male  \n",
       "\n",
       "[333 rows x 7 columns]"
      ]
     },
     "execution_count": 944,
     "metadata": {},
     "output_type": "execute_result"
    }
   ],
   "source": [
    "penguins_df"
   ]
  },
  {
   "cell_type": "markdown",
   "id": "e0a96a9f",
   "metadata": {},
   "source": [
    "## 1.A"
   ]
  },
  {
   "cell_type": "markdown",
   "id": "0b47d5aa",
   "metadata": {},
   "source": [
    "As we did in the \"Exploratory Data Analysis\" discussion, draw a \"scatter plot matrix\" of this dataset's 4 numeric features:\n",
    "- `bill_length_mm`\n",
    "- `bill_depth_mm`\n",
    "- `flipper_length_mm`\n",
    "- `body_mass_g`\n",
    "\n",
    "and colored by their `species`.\n",
    "\n",
    "<br/>\n",
    "<div class='info'>\n",
    "    \n",
    "<font size='5'>👇🏽</font> **Note:** This is the figure I want you to generate\n",
    "\n",
    "</div>\n",
    "\n",
    "![](penguins_df.png)"
   ]
  },
  {
   "cell_type": "code",
   "execution_count": 945,
   "id": "3bb80c43",
   "metadata": {},
   "outputs": [
    {
     "data": {
      "image/png": "[encoded data removed]",
      "text/plain": [
       "<Figure size 804.125x720 with 20 Axes>"
      ]
     },
     "metadata": {
      "needs_background": "light"
     },
     "output_type": "display_data"
    }
   ],
   "source": [
    "sns.pairplot(penguins_df, vars=penguins_df.columns[2:6], hue='species',corner=False);"
   ]
  },
  {
   "cell_type": "markdown",
   "id": "844e9f03",
   "metadata": {},
   "source": [
    "<br/>\n",
    "<div class='info'>\n",
    "    \n",
    "<font size='5'>🤔</font> **Question:** Explain what we are looking at in this figure. Explain to me its diagonal, and its off diagonal elements. Why is this kind of graphic helpful? Give a thorough explanation here!\n",
    "\n",
    "</div>\n",
    "\n",
    "---"
   ]
  },
  {
   "cell_type": "markdown",
   "id": "60e201a3",
   "metadata": {},
   "source": [
    "This graph shows all the correlation plots possible for the four numerical factors in the penguin dataset. So in order to read it on the off diagonal plots, you look at each plot to see the relationship between two numeric factors on either axis and the color within the plot shows how the relationship is distributed for each species. The diagonal plots show density plots for each individual variable, which essentially shows how the spread of often each measure occurs for each species to compare their ranges, means, and max values. This kind of paired plot helps visualize all the potential predictors of species at once and determine which would be the best to use for logistic regression based on the plots with the least amount of overlap. If there is a visual distinction between the three species groups signified in the plots, this signals the strong potential for a better seperation in classification later down the line in the linear regression model. Whereas if there is a large amount of overlap in the plots here, showing lots of overlap in species preit will be harder for the logistic regression to make a classifiction about the threshold of species predictors in the training dataset. "
   ]
  },
  {
   "cell_type": "markdown",
   "id": "2114059f",
   "metadata": {},
   "source": [
    "---"
   ]
  },
  {
   "cell_type": "markdown",
   "id": "5feade59",
   "metadata": {},
   "source": [
    "<div class='info'>\n",
    "    \n",
    "<font size='5'>🤔</font> **Question:** Based on the figure and your explanation, if I wanted to tell apart the **Adelie** from the **Chinstrap** penguis, **which two features would be the best?** Why? Give a good explanation here! \n",
    "\n",
    "</div>\n",
    "\n",
    "---"
   ]
  },
  {
   "cell_type": "markdown",
   "id": "79627fba",
   "metadata": {},
   "source": [
    "This would require picking the features in which the Adelie and Chinstrap penguins have the biggest amount of visual distinction on the plots, which looks like bill_length_mm and bill_width_mm. The plots for bill_depth compared to body mass or flipper length have a large amount of overlap between Adelie and Chinstrap, so these would be bad predictors since the two species seem to perform similarly and would be difficult to distinguish between. The same can be said for the plot between flipper length and body mass. All the plots for bill length have a better distinction between the two species, so it is simply a matter of choosing which overlaps the least and for this it seems to be bill_width_mm.\n",
    "\n",
    "Orignally I started making my regressions with bill length and body mass as my two features, but after completing the Knearest neighbors charts for different features and seeing how high the accuracy of the model was when using bill length and bill depth together, I changed my feature selection strategy because ability to have accuracy within the KNN model was a good signifer that the predicttors could lead to more accuracy in the regressions I ran as well."
   ]
  },
  {
   "cell_type": "markdown",
   "id": "a0baa38c",
   "metadata": {},
   "source": [
    "---"
   ]
  },
  {
   "cell_type": "markdown",
   "id": "424f54e3",
   "metadata": {},
   "source": [
    "## 1.B\n",
    "\n",
    "Now that you've picked these two features, perform a **linear regression** and use it to try and classify these two penguins apart. \n",
    "\n",
    "**Make sure you report the weight values you've learned!**\n",
    "\n",
    "<br/>\n",
    "<div class='info'>\n",
    "\n",
    "<font size='5'>☝🏽</font> **Hint:**  This is very similar to what we did on HW1!\n",
    "\n",
    "</div>"
   ]
  },
  {
   "cell_type": "code",
   "execution_count": 946,
   "id": "ca742b36",
   "metadata": {},
   "outputs": [],
   "source": [
    "#First I will slice up the original dataset to give us only the `Adelie` and `Chinstrap` penguins, and as features,\\\n",
    "#`bill_length_mm` and `bill_depth`"
   ]
  },
  {
   "cell_type": "code",
   "execution_count": 982,
   "id": "95f334f1",
   "metadata": {},
   "outputs": [
    {
     "data": {
      "text/plain": [
       "species\n",
       "Adelie       146\n",
       "Chinstrap     68\n",
       "Gentoo       119\n",
       "Name: species, dtype: int64"
      ]
     },
     "execution_count": 982,
     "metadata": {},
     "output_type": "execute_result"
    }
   ],
   "source": [
    "#Checking the count of each species \n",
    "penguins_df.groupby(['species'])['species'].count()"
   ]
  },
  {
   "cell_type": "code",
   "execution_count": 983,
   "id": "72ebda65",
   "metadata": {},
   "outputs": [
    {
     "data": {
      "text/plain": [
       "((146, 7), (68, 7))"
      ]
     },
     "execution_count": 983,
     "metadata": {},
     "output_type": "execute_result"
    }
   ],
   "source": [
    "#I made two seperate dataframes for the adelie and the chinstrap penguin\n",
    "adelie=penguins_df[penguins_df['species'] == 'Adelie']\n",
    "chinstrap=penguins_df[penguins_df['species'] == 'Chinstrap']\n",
    "adelie.shape, chinstrap.shape"
   ]
  },
  {
   "cell_type": "code",
   "execution_count": 984,
   "id": "5f699866",
   "metadata": {},
   "outputs": [
    {
     "data": {
      "text/plain": [
       "(214, 7)"
      ]
     },
     "execution_count": 984,
     "metadata": {},
     "output_type": "execute_result"
    }
   ],
   "source": [
    "#Then I Combined the two dataframes to make a new penguins df without gentoos\n",
    "frames=[adelie,chinstrap]\n",
    "penguinsAC_df = pd.concat(frames)\n",
    "penguinsAC_df.shape"
   ]
  },
  {
   "cell_type": "code",
   "execution_count": 952,
   "id": "bd3e4778",
   "metadata": {
    "scrolled": true
   },
   "outputs": [
    {
     "data": {
      "text/html": [
       "<div>\n",
       "<style scoped>\n",
       "    .dataframe tbody tr th:only-of-type {\n",
       "        vertical-align: middle;\n",
       "    }\n",
       "\n",
       "    .dataframe tbody tr th {\n",
       "        vertical-align: top;\n",
       "    }\n",
       "\n",
       "    .dataframe thead th {\n",
       "        text-align: right;\n",
       "    }\n",
       "</style>\n",
       "<table border=\"1\" class=\"dataframe\">\n",
       "  <thead>\n",
       "    <tr style=\"text-align: right;\">\n",
       "      <th></th>\n",
       "      <th>dummy</th>\n",
       "    </tr>\n",
       "  </thead>\n",
       "  <tbody>\n",
       "    <tr>\n",
       "      <th>0</th>\n",
       "      <td>Adelie</td>\n",
       "    </tr>\n",
       "    <tr>\n",
       "      <th>1</th>\n",
       "      <td>Adelie</td>\n",
       "    </tr>\n",
       "    <tr>\n",
       "      <th>2</th>\n",
       "      <td>Adelie</td>\n",
       "    </tr>\n",
       "    <tr>\n",
       "      <th>4</th>\n",
       "      <td>Adelie</td>\n",
       "    </tr>\n",
       "    <tr>\n",
       "      <th>5</th>\n",
       "      <td>Adelie</td>\n",
       "    </tr>\n",
       "    <tr>\n",
       "      <th>...</th>\n",
       "      <td>...</td>\n",
       "    </tr>\n",
       "    <tr>\n",
       "      <th>215</th>\n",
       "      <td>Chinstrap</td>\n",
       "    </tr>\n",
       "    <tr>\n",
       "      <th>216</th>\n",
       "      <td>Chinstrap</td>\n",
       "    </tr>\n",
       "    <tr>\n",
       "      <th>217</th>\n",
       "      <td>Chinstrap</td>\n",
       "    </tr>\n",
       "    <tr>\n",
       "      <th>218</th>\n",
       "      <td>Chinstrap</td>\n",
       "    </tr>\n",
       "    <tr>\n",
       "      <th>219</th>\n",
       "      <td>Chinstrap</td>\n",
       "    </tr>\n",
       "  </tbody>\n",
       "</table>\n",
       "<p>214 rows × 1 columns</p>\n",
       "</div>"
      ],
      "text/plain": [
       "         dummy\n",
       "0       Adelie\n",
       "1       Adelie\n",
       "2       Adelie\n",
       "4       Adelie\n",
       "5       Adelie\n",
       "..         ...\n",
       "215  Chinstrap\n",
       "216  Chinstrap\n",
       "217  Chinstrap\n",
       "218  Chinstrap\n",
       "219  Chinstrap\n",
       "\n",
       "[214 rows x 1 columns]"
      ]
     },
     "execution_count": 952,
     "metadata": {},
     "output_type": "execute_result"
    }
   ],
   "source": [
    "#I renamed the column name from species to dummy so it would combine with the penguins df more easily\n",
    "speciesdummy= penguinsAC_df[['species']]\n",
    "speciesdummy=speciesdummy.rename(columns={\"species\": \"dummy\"})\n",
    "speciesdummy"
   ]
  },
  {
   "cell_type": "code",
   "execution_count": 953,
   "id": "c1d1c51d",
   "metadata": {
    "scrolled": true
   },
   "outputs": [
    {
     "data": {
      "text/html": [
       "<div>\n",
       "<style scoped>\n",
       "    .dataframe tbody tr th:only-of-type {\n",
       "        vertical-align: middle;\n",
       "    }\n",
       "\n",
       "    .dataframe tbody tr th {\n",
       "        vertical-align: top;\n",
       "    }\n",
       "\n",
       "    .dataframe thead th {\n",
       "        text-align: right;\n",
       "    }\n",
       "</style>\n",
       "<table border=\"1\" class=\"dataframe\">\n",
       "  <thead>\n",
       "    <tr style=\"text-align: right;\">\n",
       "      <th></th>\n",
       "      <th>dummy</th>\n",
       "    </tr>\n",
       "  </thead>\n",
       "  <tbody>\n",
       "    <tr>\n",
       "      <th>0</th>\n",
       "      <td>1</td>\n",
       "    </tr>\n",
       "    <tr>\n",
       "      <th>1</th>\n",
       "      <td>1</td>\n",
       "    </tr>\n",
       "    <tr>\n",
       "      <th>2</th>\n",
       "      <td>1</td>\n",
       "    </tr>\n",
       "    <tr>\n",
       "      <th>4</th>\n",
       "      <td>1</td>\n",
       "    </tr>\n",
       "    <tr>\n",
       "      <th>5</th>\n",
       "      <td>1</td>\n",
       "    </tr>\n",
       "    <tr>\n",
       "      <th>...</th>\n",
       "      <td>...</td>\n",
       "    </tr>\n",
       "    <tr>\n",
       "      <th>215</th>\n",
       "      <td>-1</td>\n",
       "    </tr>\n",
       "    <tr>\n",
       "      <th>216</th>\n",
       "      <td>-1</td>\n",
       "    </tr>\n",
       "    <tr>\n",
       "      <th>217</th>\n",
       "      <td>-1</td>\n",
       "    </tr>\n",
       "    <tr>\n",
       "      <th>218</th>\n",
       "      <td>-1</td>\n",
       "    </tr>\n",
       "    <tr>\n",
       "      <th>219</th>\n",
       "      <td>-1</td>\n",
       "    </tr>\n",
       "  </tbody>\n",
       "</table>\n",
       "<p>214 rows × 1 columns</p>\n",
       "</div>"
      ],
      "text/plain": [
       "     dummy\n",
       "0        1\n",
       "1        1\n",
       "2        1\n",
       "4        1\n",
       "5        1\n",
       "..     ...\n",
       "215     -1\n",
       "216     -1\n",
       "217     -1\n",
       "218     -1\n",
       "219     -1\n",
       "\n",
       "[214 rows x 1 columns]"
      ]
     },
     "execution_count": 953,
     "metadata": {},
     "output_type": "execute_result"
    }
   ],
   "source": [
    "#Replacing the species with -1 and 1 as a dummy variable\n",
    "speciesdummy=speciesdummy.replace({'Adelie': 1, 'Chinstrap': -1})\n",
    "speciesdummy"
   ]
  },
  {
   "cell_type": "code",
   "execution_count": 954,
   "id": "cca7d401",
   "metadata": {},
   "outputs": [
    {
     "data": {
      "text/plain": [
       "((214, 7), (214, 1))"
      ]
     },
     "execution_count": 954,
     "metadata": {},
     "output_type": "execute_result"
    }
   ],
   "source": [
    "#Checking the shape\n",
    "penguinsAC_df.shape,speciesdummy.shape"
   ]
  },
  {
   "cell_type": "code",
   "execution_count": 955,
   "id": "1aa06677",
   "metadata": {},
   "outputs": [],
   "source": [
    "#Merging the two dataframes with each other to add on my new dummy variables for species\n",
    "frames2=[penguinsAC_df,speciesdummy]\n",
    "penguinsAC_df = pd.concat(frames2, axis=1)"
   ]
  },
  {
   "cell_type": "code",
   "execution_count": 956,
   "id": "edaf35f1",
   "metadata": {},
   "outputs": [
    {
     "data": {
      "text/html": [
       "<div>\n",
       "<style scoped>\n",
       "    .dataframe tbody tr th:only-of-type {\n",
       "        vertical-align: middle;\n",
       "    }\n",
       "\n",
       "    .dataframe tbody tr th {\n",
       "        vertical-align: top;\n",
       "    }\n",
       "\n",
       "    .dataframe thead th {\n",
       "        text-align: right;\n",
       "    }\n",
       "</style>\n",
       "<table border=\"1\" class=\"dataframe\">\n",
       "  <thead>\n",
       "    <tr style=\"text-align: right;\">\n",
       "      <th></th>\n",
       "      <th>species</th>\n",
       "      <th>island</th>\n",
       "      <th>bill_length_mm</th>\n",
       "      <th>bill_depth_mm</th>\n",
       "      <th>flipper_length_mm</th>\n",
       "      <th>body_mass_g</th>\n",
       "      <th>sex</th>\n",
       "      <th>dummy</th>\n",
       "    </tr>\n",
       "  </thead>\n",
       "  <tbody>\n",
       "    <tr>\n",
       "      <th>0</th>\n",
       "      <td>Adelie</td>\n",
       "      <td>Torgersen</td>\n",
       "      <td>39.1</td>\n",
       "      <td>18.7</td>\n",
       "      <td>181.0</td>\n",
       "      <td>3750.0</td>\n",
       "      <td>Male</td>\n",
       "      <td>1</td>\n",
       "    </tr>\n",
       "    <tr>\n",
       "      <th>1</th>\n",
       "      <td>Adelie</td>\n",
       "      <td>Torgersen</td>\n",
       "      <td>39.5</td>\n",
       "      <td>17.4</td>\n",
       "      <td>186.0</td>\n",
       "      <td>3800.0</td>\n",
       "      <td>Female</td>\n",
       "      <td>1</td>\n",
       "    </tr>\n",
       "    <tr>\n",
       "      <th>2</th>\n",
       "      <td>Adelie</td>\n",
       "      <td>Torgersen</td>\n",
       "      <td>40.3</td>\n",
       "      <td>18.0</td>\n",
       "      <td>195.0</td>\n",
       "      <td>3250.0</td>\n",
       "      <td>Female</td>\n",
       "      <td>1</td>\n",
       "    </tr>\n",
       "    <tr>\n",
       "      <th>4</th>\n",
       "      <td>Adelie</td>\n",
       "      <td>Torgersen</td>\n",
       "      <td>36.7</td>\n",
       "      <td>19.3</td>\n",
       "      <td>193.0</td>\n",
       "      <td>3450.0</td>\n",
       "      <td>Female</td>\n",
       "      <td>1</td>\n",
       "    </tr>\n",
       "    <tr>\n",
       "      <th>5</th>\n",
       "      <td>Adelie</td>\n",
       "      <td>Torgersen</td>\n",
       "      <td>39.3</td>\n",
       "      <td>20.6</td>\n",
       "      <td>190.0</td>\n",
       "      <td>3650.0</td>\n",
       "      <td>Male</td>\n",
       "      <td>1</td>\n",
       "    </tr>\n",
       "    <tr>\n",
       "      <th>...</th>\n",
       "      <td>...</td>\n",
       "      <td>...</td>\n",
       "      <td>...</td>\n",
       "      <td>...</td>\n",
       "      <td>...</td>\n",
       "      <td>...</td>\n",
       "      <td>...</td>\n",
       "      <td>...</td>\n",
       "    </tr>\n",
       "    <tr>\n",
       "      <th>215</th>\n",
       "      <td>Chinstrap</td>\n",
       "      <td>Dream</td>\n",
       "      <td>55.8</td>\n",
       "      <td>19.8</td>\n",
       "      <td>207.0</td>\n",
       "      <td>4000.0</td>\n",
       "      <td>Male</td>\n",
       "      <td>-1</td>\n",
       "    </tr>\n",
       "    <tr>\n",
       "      <th>216</th>\n",
       "      <td>Chinstrap</td>\n",
       "      <td>Dream</td>\n",
       "      <td>43.5</td>\n",
       "      <td>18.1</td>\n",
       "      <td>202.0</td>\n",
       "      <td>3400.0</td>\n",
       "      <td>Female</td>\n",
       "      <td>-1</td>\n",
       "    </tr>\n",
       "    <tr>\n",
       "      <th>217</th>\n",
       "      <td>Chinstrap</td>\n",
       "      <td>Dream</td>\n",
       "      <td>49.6</td>\n",
       "      <td>18.2</td>\n",
       "      <td>193.0</td>\n",
       "      <td>3775.0</td>\n",
       "      <td>Male</td>\n",
       "      <td>-1</td>\n",
       "    </tr>\n",
       "    <tr>\n",
       "      <th>218</th>\n",
       "      <td>Chinstrap</td>\n",
       "      <td>Dream</td>\n",
       "      <td>50.8</td>\n",
       "      <td>19.0</td>\n",
       "      <td>210.0</td>\n",
       "      <td>4100.0</td>\n",
       "      <td>Male</td>\n",
       "      <td>-1</td>\n",
       "    </tr>\n",
       "    <tr>\n",
       "      <th>219</th>\n",
       "      <td>Chinstrap</td>\n",
       "      <td>Dream</td>\n",
       "      <td>50.2</td>\n",
       "      <td>18.7</td>\n",
       "      <td>198.0</td>\n",
       "      <td>3775.0</td>\n",
       "      <td>Female</td>\n",
       "      <td>-1</td>\n",
       "    </tr>\n",
       "  </tbody>\n",
       "</table>\n",
       "<p>214 rows × 8 columns</p>\n",
       "</div>"
      ],
      "text/plain": [
       "       species     island  bill_length_mm  bill_depth_mm  flipper_length_mm  \\\n",
       "0       Adelie  Torgersen            39.1           18.7              181.0   \n",
       "1       Adelie  Torgersen            39.5           17.4              186.0   \n",
       "2       Adelie  Torgersen            40.3           18.0              195.0   \n",
       "4       Adelie  Torgersen            36.7           19.3              193.0   \n",
       "5       Adelie  Torgersen            39.3           20.6              190.0   \n",
       "..         ...        ...             ...            ...                ...   \n",
       "215  Chinstrap      Dream            55.8           19.8              207.0   \n",
       "216  Chinstrap      Dream            43.5           18.1              202.0   \n",
       "217  Chinstrap      Dream            49.6           18.2              193.0   \n",
       "218  Chinstrap      Dream            50.8           19.0              210.0   \n",
       "219  Chinstrap      Dream            50.2           18.7              198.0   \n",
       "\n",
       "     body_mass_g     sex  dummy  \n",
       "0         3750.0    Male      1  \n",
       "1         3800.0  Female      1  \n",
       "2         3250.0  Female      1  \n",
       "4         3450.0  Female      1  \n",
       "5         3650.0    Male      1  \n",
       "..           ...     ...    ...  \n",
       "215       4000.0    Male     -1  \n",
       "216       3400.0  Female     -1  \n",
       "217       3775.0    Male     -1  \n",
       "218       4100.0    Male     -1  \n",
       "219       3775.0  Female     -1  \n",
       "\n",
       "[214 rows x 8 columns]"
      ]
     },
     "execution_count": 956,
     "metadata": {},
     "output_type": "execute_result"
    }
   ],
   "source": [
    "#Checking to see the sucessful merge\n",
    "penguinsAC_df"
   ]
  },
  {
   "cell_type": "code",
   "execution_count": 957,
   "id": "37ce55bc",
   "metadata": {},
   "outputs": [
    {
     "data": {
      "text/plain": [
       "((214,), (214, 3))"
      ]
     },
     "execution_count": 957,
     "metadata": {},
     "output_type": "execute_result"
    }
   ],
   "source": [
    "#Making y the dummy variables so 1= Adelie and -1= Chinstrap\n",
    "y=penguinsAC_df.dummy.to_numpy()\n",
    "y.shape,X.shape"
   ]
  },
  {
   "cell_type": "code",
   "execution_count": 958,
   "id": "aa3d0032",
   "metadata": {},
   "outputs": [
    {
     "data": {
      "text/plain": [
       "dummy\n",
       "-1     68\n",
       " 1    146\n",
       "Name: dummy, dtype: int64"
      ]
     },
     "execution_count": 958,
     "metadata": {},
     "output_type": "execute_result"
    }
   ],
   "source": [
    "#Checking the count of each species \n",
    "penguinsAC_df.groupby(['dummy'])['dummy'].count()"
   ]
  },
  {
   "cell_type": "code",
   "execution_count": 986,
   "id": "140688fe",
   "metadata": {},
   "outputs": [
    {
     "data": {
      "text/plain": [
       "(214, 2)"
      ]
     },
     "execution_count": 986,
     "metadata": {},
     "output_type": "execute_result"
    }
   ],
   "source": [
    "#Then I spliced to make x the two factor columns and y the species column \n",
    "X = penguinsAC_df.iloc[:214,[2,3]].to_numpy()\n",
    "X.shape\n",
    "#y.shape"
   ]
  },
  {
   "cell_type": "code",
   "execution_count": 987,
   "id": "c68ca799",
   "metadata": {},
   "outputs": [
    {
     "data": {
      "text/plain": [
       "(214, 1)"
      ]
     },
     "execution_count": 987,
     "metadata": {},
     "output_type": "execute_result"
    }
   ],
   "source": [
    "#I made a column of ones to attatch to X\n",
    "ones_col_vec = np.ones(214)\n",
    "ones_col_vec=ones_col_vec.reshape(214,1)\n",
    "ones_col_vec.shape"
   ]
  },
  {
   "cell_type": "code",
   "execution_count": 988,
   "id": "c89790d5",
   "metadata": {},
   "outputs": [
    {
     "data": {
      "text/plain": [
       "(214, 3)"
      ]
     },
     "execution_count": 988,
     "metadata": {},
     "output_type": "execute_result"
    }
   ],
   "source": [
    "#And added it to X\n",
    "X = np.concatenate((ones_col_vec, X), axis=1)\n",
    "X.shape"
   ]
  },
  {
   "cell_type": "code",
   "execution_count": 989,
   "id": "73fc28fc",
   "metadata": {},
   "outputs": [
    {
     "data": {
      "text/plain": [
       "array([[ 1. , 39.1, 18.7],\n",
       "       [ 1. , 39.5, 17.4],\n",
       "       [ 1. , 40.3, 18. ],\n",
       "       [ 1. , 36.7, 19.3],\n",
       "       [ 1. , 39.3, 20.6]])"
      ]
     },
     "execution_count": 989,
     "metadata": {},
     "output_type": "execute_result"
    }
   ],
   "source": [
    "#Checking the first few rows to make sure it looks okay\n",
    "X[:5]"
   ]
  },
  {
   "cell_type": "code",
   "execution_count": 991,
   "id": "d829b39f",
   "metadata": {
    "scrolled": false
   },
   "outputs": [
    {
     "data": {
      "text/plain": [
       "array([ 3.6900905 , -0.15487513,  0.17309622])"
      ]
     },
     "execution_count": 991,
     "metadata": {},
     "output_type": "execute_result"
    }
   ],
   "source": [
    "#Make our weight vector for our regression\n",
    "w_lin = np.linalg.inv(X.T.dot(X)).dot(X.T).dot(y)\n",
    "w_lin"
   ]
  },
  {
   "cell_type": "code",
   "execution_count": 992,
   "id": "d37dae39",
   "metadata": {},
   "outputs": [],
   "source": [
    "#For better readability\n",
    "adelie_X = X[y==1,:]\n",
    "chinstrap_X = X[y==-1,:]"
   ]
  },
  {
   "cell_type": "markdown",
   "id": "afcba2a4",
   "metadata": {},
   "source": [
    "## 1.C\n",
    "\n",
    "Show a figure, plotting the datapoints with your regression line."
   ]
  },
  {
   "cell_type": "code",
   "execution_count": 993,
   "id": "389d15fd",
   "metadata": {},
   "outputs": [
    {
     "data": {
      "text/plain": [
       "array([ 3.6900905 , -0.15487513,  0.17309622])"
      ]
     },
     "execution_count": 993,
     "metadata": {},
     "output_type": "execute_result"
    }
   ],
   "source": [
    "#Repeating the same weight vectors \n",
    "w_lin = np.linalg.inv(X.T.dot(X)).dot(X.T).dot(y)\n",
    "w_lin"
   ]
  },
  {
   "cell_type": "code",
   "execution_count": 994,
   "id": "fc814b83",
   "metadata": {},
   "outputs": [
    {
     "data": {
      "text/plain": [
       "(-21.318145481219076, 0.894734310730835)"
      ]
     },
     "execution_count": 994,
     "metadata": {},
     "output_type": "execute_result"
    }
   ],
   "source": [
    "#Defining the slope and intercept of the regression line\n",
    "slope_lin = -(w_lin[0]/w_lin[2])/(w_lin[0]/w_lin[1])\n",
    "intercept_lin = -w_lin[0]/w_lin[2]\n",
    "intercept_lin, slope_lin"
   ]
  },
  {
   "cell_type": "code",
   "execution_count": 995,
   "id": "f45d4fdb",
   "metadata": {},
   "outputs": [],
   "source": [
    "#Setting the boundaries for my graph\n",
    "px = np.linspace(30,60,20)\n",
    "py = np.linspace(15,25,20)\n",
    "pX,pY = np.meshgrid(px,py)\n",
    "pZ = w_lin[0] + pX*w_lin[1] + pY*w_lin[2]"
   ]
  },
  {
   "cell_type": "code",
   "execution_count": 996,
   "id": "b757d49b",
   "metadata": {},
   "outputs": [
    {
     "data": {
      "image/png": "[encoded data removed]",
      "text/plain": [
       "<Figure size 432x288 with 1 Axes>"
      ]
     },
     "metadata": {
      "needs_background": "light"
     },
     "output_type": "display_data"
    }
   ],
   "source": [
    "#Plot of my regression output \n",
    "plt.figure()\n",
    "plt.scatter(X[y==-1,1],X[y==-1,2],label='chinstrap');\n",
    "plt.scatter(X[y==1,1],X[y==1,2],label='adelie');\n",
    "plt.plot(px, px*slope_lin + intercept_lin, color=colors[5])\n",
    "plt.xlabel('bill_length_mm')\n",
    "plt.ylabel('bill_depth_mm');\n",
    "plt.legend();"
   ]
  },
  {
   "cell_type": "markdown",
   "id": "4439178e",
   "metadata": {},
   "source": [
    "## 1.D\n",
    "\n",
    "Perform a **logistic regression** and use it to try and classify these two penguins apart. **Make sure you report the value's you've learned!**\n",
    "\n",
    "<br/>\n",
    "<div class='info'>\n",
    "    \n",
    "<font size='5'>☝🏽</font> **Hint:** Remember, these are available under the `.coef_` and `.intercept_` names for logistic regression in `sklearn`\n",
    "\n",
    "</div>"
   ]
  },
  {
   "cell_type": "code",
   "execution_count": 997,
   "id": "ccffafa9",
   "metadata": {},
   "outputs": [],
   "source": [
    "from sklearn.linear_model import LogisticRegression\n",
    "penguins_df = sns.load_dataset(\"penguins\").dropna()"
   ]
  },
  {
   "cell_type": "code",
   "execution_count": 998,
   "id": "9162fc67",
   "metadata": {},
   "outputs": [],
   "source": [
    "#splitting my datasets into the two types of penguins\n",
    "adelie=penguins_df[penguins_df['species'] == 'Adelie']\n",
    "chinstrap=penguins_df[penguins_df['species'] == 'Chinstrap']"
   ]
  },
  {
   "cell_type": "code",
   "execution_count": 999,
   "id": "db305d33",
   "metadata": {},
   "outputs": [],
   "source": [
    "#selecting just the two factors for each df\n",
    "adelie_X = adelie.iloc[:147,[2,3]].values\n",
    "chinstrap_X = chinstrap.iloc[:147,[2,3]].values"
   ]
  },
  {
   "cell_type": "code",
   "execution_count": 1000,
   "id": "43660840",
   "metadata": {},
   "outputs": [
    {
     "data": {
      "text/html": [
       "<div>\n",
       "<style scoped>\n",
       "    .dataframe tbody tr th:only-of-type {\n",
       "        vertical-align: middle;\n",
       "    }\n",
       "\n",
       "    .dataframe tbody tr th {\n",
       "        vertical-align: top;\n",
       "    }\n",
       "\n",
       "    .dataframe thead th {\n",
       "        text-align: right;\n",
       "    }\n",
       "</style>\n",
       "<table border=\"1\" class=\"dataframe\">\n",
       "  <thead>\n",
       "    <tr style=\"text-align: right;\">\n",
       "      <th></th>\n",
       "      <th>species</th>\n",
       "      <th>island</th>\n",
       "      <th>bill_length_mm</th>\n",
       "      <th>bill_depth_mm</th>\n",
       "      <th>flipper_length_mm</th>\n",
       "      <th>body_mass_g</th>\n",
       "      <th>sex</th>\n",
       "      <th>Adelie</th>\n",
       "      <th>Chinstrap</th>\n",
       "    </tr>\n",
       "  </thead>\n",
       "  <tbody>\n",
       "    <tr>\n",
       "      <th>0</th>\n",
       "      <td>Adelie</td>\n",
       "      <td>Torgersen</td>\n",
       "      <td>39.1</td>\n",
       "      <td>18.7</td>\n",
       "      <td>181.0</td>\n",
       "      <td>3750.0</td>\n",
       "      <td>Male</td>\n",
       "      <td>1</td>\n",
       "      <td>0</td>\n",
       "    </tr>\n",
       "    <tr>\n",
       "      <th>1</th>\n",
       "      <td>Adelie</td>\n",
       "      <td>Torgersen</td>\n",
       "      <td>39.5</td>\n",
       "      <td>17.4</td>\n",
       "      <td>186.0</td>\n",
       "      <td>3800.0</td>\n",
       "      <td>Female</td>\n",
       "      <td>1</td>\n",
       "      <td>0</td>\n",
       "    </tr>\n",
       "    <tr>\n",
       "      <th>2</th>\n",
       "      <td>Adelie</td>\n",
       "      <td>Torgersen</td>\n",
       "      <td>40.3</td>\n",
       "      <td>18.0</td>\n",
       "      <td>195.0</td>\n",
       "      <td>3250.0</td>\n",
       "      <td>Female</td>\n",
       "      <td>1</td>\n",
       "      <td>0</td>\n",
       "    </tr>\n",
       "    <tr>\n",
       "      <th>4</th>\n",
       "      <td>Adelie</td>\n",
       "      <td>Torgersen</td>\n",
       "      <td>36.7</td>\n",
       "      <td>19.3</td>\n",
       "      <td>193.0</td>\n",
       "      <td>3450.0</td>\n",
       "      <td>Female</td>\n",
       "      <td>1</td>\n",
       "      <td>0</td>\n",
       "    </tr>\n",
       "    <tr>\n",
       "      <th>5</th>\n",
       "      <td>Adelie</td>\n",
       "      <td>Torgersen</td>\n",
       "      <td>39.3</td>\n",
       "      <td>20.6</td>\n",
       "      <td>190.0</td>\n",
       "      <td>3650.0</td>\n",
       "      <td>Male</td>\n",
       "      <td>1</td>\n",
       "      <td>0</td>\n",
       "    </tr>\n",
       "    <tr>\n",
       "      <th>...</th>\n",
       "      <td>...</td>\n",
       "      <td>...</td>\n",
       "      <td>...</td>\n",
       "      <td>...</td>\n",
       "      <td>...</td>\n",
       "      <td>...</td>\n",
       "      <td>...</td>\n",
       "      <td>...</td>\n",
       "      <td>...</td>\n",
       "    </tr>\n",
       "    <tr>\n",
       "      <th>215</th>\n",
       "      <td>Chinstrap</td>\n",
       "      <td>Dream</td>\n",
       "      <td>55.8</td>\n",
       "      <td>19.8</td>\n",
       "      <td>207.0</td>\n",
       "      <td>4000.0</td>\n",
       "      <td>Male</td>\n",
       "      <td>0</td>\n",
       "      <td>1</td>\n",
       "    </tr>\n",
       "    <tr>\n",
       "      <th>216</th>\n",
       "      <td>Chinstrap</td>\n",
       "      <td>Dream</td>\n",
       "      <td>43.5</td>\n",
       "      <td>18.1</td>\n",
       "      <td>202.0</td>\n",
       "      <td>3400.0</td>\n",
       "      <td>Female</td>\n",
       "      <td>0</td>\n",
       "      <td>1</td>\n",
       "    </tr>\n",
       "    <tr>\n",
       "      <th>217</th>\n",
       "      <td>Chinstrap</td>\n",
       "      <td>Dream</td>\n",
       "      <td>49.6</td>\n",
       "      <td>18.2</td>\n",
       "      <td>193.0</td>\n",
       "      <td>3775.0</td>\n",
       "      <td>Male</td>\n",
       "      <td>0</td>\n",
       "      <td>1</td>\n",
       "    </tr>\n",
       "    <tr>\n",
       "      <th>218</th>\n",
       "      <td>Chinstrap</td>\n",
       "      <td>Dream</td>\n",
       "      <td>50.8</td>\n",
       "      <td>19.0</td>\n",
       "      <td>210.0</td>\n",
       "      <td>4100.0</td>\n",
       "      <td>Male</td>\n",
       "      <td>0</td>\n",
       "      <td>1</td>\n",
       "    </tr>\n",
       "    <tr>\n",
       "      <th>219</th>\n",
       "      <td>Chinstrap</td>\n",
       "      <td>Dream</td>\n",
       "      <td>50.2</td>\n",
       "      <td>18.7</td>\n",
       "      <td>198.0</td>\n",
       "      <td>3775.0</td>\n",
       "      <td>Female</td>\n",
       "      <td>0</td>\n",
       "      <td>1</td>\n",
       "    </tr>\n",
       "  </tbody>\n",
       "</table>\n",
       "<p>214 rows × 9 columns</p>\n",
       "</div>"
      ],
      "text/plain": [
       "       species     island  bill_length_mm  bill_depth_mm  flipper_length_mm  \\\n",
       "0       Adelie  Torgersen            39.1           18.7              181.0   \n",
       "1       Adelie  Torgersen            39.5           17.4              186.0   \n",
       "2       Adelie  Torgersen            40.3           18.0              195.0   \n",
       "4       Adelie  Torgersen            36.7           19.3              193.0   \n",
       "5       Adelie  Torgersen            39.3           20.6              190.0   \n",
       "..         ...        ...             ...            ...                ...   \n",
       "215  Chinstrap      Dream            55.8           19.8              207.0   \n",
       "216  Chinstrap      Dream            43.5           18.1              202.0   \n",
       "217  Chinstrap      Dream            49.6           18.2              193.0   \n",
       "218  Chinstrap      Dream            50.8           19.0              210.0   \n",
       "219  Chinstrap      Dream            50.2           18.7              198.0   \n",
       "\n",
       "     body_mass_g     sex  Adelie  Chinstrap  \n",
       "0         3750.0    Male       1          0  \n",
       "1         3800.0  Female       1          0  \n",
       "2         3250.0  Female       1          0  \n",
       "4         3450.0  Female       1          0  \n",
       "5         3650.0    Male       1          0  \n",
       "..           ...     ...     ...        ...  \n",
       "215       4000.0    Male       0          1  \n",
       "216       3400.0  Female       0          1  \n",
       "217       3775.0    Male       0          1  \n",
       "218       4100.0    Male       0          1  \n",
       "219       3775.0  Female       0          1  \n",
       "\n",
       "[214 rows x 9 columns]"
      ]
     },
     "execution_count": 1000,
     "metadata": {},
     "output_type": "execute_result"
    }
   ],
   "source": [
    "#Making a class column\n",
    "penguinsAC_df=pd.concat([penguinsAC_df,pd.get_dummies(penguinsAC_df[\"species\"])], axis=1); penguinsAC_df"
   ]
  },
  {
   "cell_type": "code",
   "execution_count": 1001,
   "id": "3dfaeb3d",
   "metadata": {},
   "outputs": [
    {
     "data": {
      "text/plain": [
       "(214, 9)"
      ]
     },
     "execution_count": 1001,
     "metadata": {},
     "output_type": "execute_result"
    }
   ],
   "source": [
    "penguinsAC_df.shape"
   ]
  },
  {
   "cell_type": "code",
   "execution_count": 1002,
   "id": "8f394732",
   "metadata": {},
   "outputs": [
    {
     "data": {
      "text/plain": [
       "((214, 2), (214,))"
      ]
     },
     "execution_count": 1002,
     "metadata": {},
     "output_type": "execute_result"
    }
   ],
   "source": [
    "#Making my x & y value of species\n",
    "X = penguinsAC_df.iloc[:214,[2,3]].values\n",
    "y = penguinsAC_df['Adelie'].values\n",
    "X.shape, y.shape"
   ]
  },
  {
   "cell_type": "code",
   "execution_count": 1003,
   "id": "e7d3ba23",
   "metadata": {},
   "outputs": [
    {
     "data": {
      "image/png": "[encoded data removed]",
      "text/plain": [
       "<Figure size 432x288 with 1 Axes>"
      ]
     },
     "metadata": {
      "needs_background": "light"
     },
     "output_type": "display_data"
    }
   ],
   "source": [
    "#Looking at the 2D plot of the relationship\n",
    "import plotly.express as px\n",
    "sns.scatterplot(data=penguinsAC_df,x='bill_length_mm',y='bill_depth_mm',hue='species');"
   ]
  },
  {
   "cell_type": "code",
   "execution_count": 1004,
   "id": "f8f1a655",
   "metadata": {},
   "outputs": [
    {
     "data": {
      "application/vnd.plotly.v1+json": {
       "config": {
        "plotlyServerURL": "https://plot.ly"
       },
       "data": [
        {
         "hovertemplate": "species=Adelie<br>bill_length_mm=%{x}<br>bill_depth_mm=%{y}<br>Adelie=%{z}<extra></extra>",
         "legendgroup": "Adelie",
         "marker": {
          "color": "#636efa",
          "size": 4,
          "symbol": "circle"
         },
         "mode": "markers",
         "name": "Adelie",
         "scene": "scene",
         "showlegend": true,
         "type": "scatter3d",
         "x": [
          39.1,
          39.5,
          40.3,
          36.7,
          39.3,
          38.9,
          39.2,
          41.1,
          38.6,
          34.6,
          36.6,
          38.7,
          42.5,
          34.4,
          46,
          37.8,
          37.7,
          35.9,
          38.2,
          38.8,
          35.3,
          40.6,
          40.5,
          37.9,
          40.5,
          39.5,
          37.2,
          39.5,
          40.9,
          36.4,
          39.2,
          38.8,
          42.2,
          37.6,
          39.8,
          36.5,
          40.8,
          36,
          44.1,
          37,
          39.6,
          41.1,
          36,
          42.3,
          39.6,
          40.1,
          35,
          42,
          34.5,
          41.4,
          39,
          40.6,
          36.5,
          37.6,
          35.7,
          41.3,
          37.6,
          41.1,
          36.4,
          41.6,
          35.5,
          41.1,
          35.9,
          41.8,
          33.5,
          39.7,
          39.6,
          45.8,
          35.5,
          42.8,
          40.9,
          37.2,
          36.2,
          42.1,
          34.6,
          42.9,
          36.7,
          35.1,
          37.3,
          41.3,
          36.3,
          36.9,
          38.3,
          38.9,
          35.7,
          41.1,
          34,
          39.6,
          36.2,
          40.8,
          38.1,
          40.3,
          33.1,
          43.2,
          35,
          41,
          37.7,
          37.8,
          37.9,
          39.7,
          38.6,
          38.2,
          38.1,
          43.2,
          38.1,
          45.6,
          39.7,
          42.2,
          39.6,
          42.7,
          38.6,
          37.3,
          35.7,
          41.1,
          36.2,
          37.7,
          40.2,
          41.4,
          35.2,
          40.6,
          38.8,
          41.5,
          39,
          44.1,
          38.5,
          43.1,
          36.8,
          37.5,
          38.1,
          41.1,
          35.6,
          40.2,
          37,
          39.7,
          40.2,
          40.6,
          32.1,
          40.7,
          37.3,
          39,
          39.2,
          36.6,
          36,
          37.8,
          36,
          41.5
         ],
         "y": [
          18.7,
          17.4,
          18,
          19.3,
          20.6,
          17.8,
          19.6,
          17.6,
          21.2,
          21.1,
          17.8,
          19,
          20.7,
          18.4,
          21.5,
          18.3,
          18.7,
          19.2,
          18.1,
          17.2,
          18.9,
          18.6,
          17.9,
          18.6,
          18.9,
          16.7,
          18.1,
          17.8,
          18.9,
          17,
          21.1,
          20,
          18.5,
          19.3,
          19.1,
          18,
          18.4,
          18.5,
          19.7,
          16.9,
          18.8,
          19,
          17.9,
          21.2,
          17.7,
          18.9,
          17.9,
          19.5,
          18.1,
          18.6,
          17.5,
          18.8,
          16.6,
          19.1,
          16.9,
          21.1,
          17,
          18.2,
          17.1,
          18,
          16.2,
          19.1,
          16.6,
          19.4,
          19,
          18.4,
          17.2,
          18.9,
          17.5,
          18.5,
          16.8,
          19.4,
          16.1,
          19.1,
          17.2,
          17.6,
          18.8,
          19.4,
          17.8,
          20.3,
          19.5,
          18.6,
          19.2,
          18.8,
          18,
          18.1,
          17.1,
          18.1,
          17.3,
          18.9,
          18.6,
          18.5,
          16.1,
          18.5,
          17.9,
          20,
          16,
          20,
          18.6,
          18.9,
          17.2,
          20,
          17,
          19,
          16.5,
          20.3,
          17.7,
          19.5,
          20.7,
          18.3,
          17,
          20.5,
          17,
          18.6,
          17.2,
          19.8,
          17,
          18.5,
          15.9,
          19,
          17.6,
          18.3,
          17.1,
          18,
          17.9,
          19.2,
          18.5,
          18.5,
          17.6,
          17.5,
          17.5,
          20.1,
          16.5,
          17.9,
          17.1,
          17.2,
          15.5,
          17,
          16.8,
          18.7,
          18.6,
          18.4,
          17.8,
          18.1,
          17.1,
          18.5
         ],
         "z": [
          1,
          1,
          1,
          1,
          1,
          1,
          1,
          1,
          1,
          1,
          1,
          1,
          1,
          1,
          1,
          1,
          1,
          1,
          1,
          1,
          1,
          1,
          1,
          1,
          1,
          1,
          1,
          1,
          1,
          1,
          1,
          1,
          1,
          1,
          1,
          1,
          1,
          1,
          1,
          1,
          1,
          1,
          1,
          1,
          1,
          1,
          1,
          1,
          1,
          1,
          1,
          1,
          1,
          1,
          1,
          1,
          1,
          1,
          1,
          1,
          1,
          1,
          1,
          1,
          1,
          1,
          1,
          1,
          1,
          1,
          1,
          1,
          1,
          1,
          1,
          1,
          1,
          1,
          1,
          1,
          1,
          1,
          1,
          1,
          1,
          1,
          1,
          1,
          1,
          1,
          1,
          1,
          1,
          1,
          1,
          1,
          1,
          1,
          1,
          1,
          1,
          1,
          1,
          1,
          1,
          1,
          1,
          1,
          1,
          1,
          1,
          1,
          1,
          1,
          1,
          1,
          1,
          1,
          1,
          1,
          1,
          1,
          1,
          1,
          1,
          1,
          1,
          1,
          1,
          1,
          1,
          1,
          1,
          1,
          1,
          1,
          1,
          1,
          1,
          1,
          1,
          1,
          1,
          1,
          1,
          1
         ]
        },
        {
         "hovertemplate": "species=Chinstrap<br>bill_length_mm=%{x}<br>bill_depth_mm=%{y}<br>Adelie=%{z}<extra></extra>",
         "legendgroup": "Chinstrap",
         "marker": {
          "color": "#EF553B",
          "size": 4,
          "symbol": "circle"
         },
         "mode": "markers",
         "name": "Chinstrap",
         "scene": "scene",
         "showlegend": true,
         "type": "scatter3d",
         "x": [
          46.5,
          50,
          51.3,
          45.4,
          52.7,
          45.2,
          46.1,
          51.3,
          46,
          51.3,
          46.6,
          51.7,
          47,
          52,
          45.9,
          50.5,
          50.3,
          58,
          46.4,
          49.2,
          42.4,
          48.5,
          43.2,
          50.6,
          46.7,
          52,
          50.5,
          49.5,
          46.4,
          52.8,
          40.9,
          54.2,
          42.5,
          51,
          49.7,
          47.5,
          47.6,
          52,
          46.9,
          53.5,
          49,
          46.2,
          50.9,
          45.5,
          50.9,
          50.8,
          50.1,
          49,
          51.5,
          49.8,
          48.1,
          51.4,
          45.7,
          50.7,
          42.5,
          52.2,
          45.2,
          49.3,
          50.2,
          45.6,
          51.9,
          46.8,
          45.7,
          55.8,
          43.5,
          49.6,
          50.8,
          50.2
         ],
         "y": [
          17.9,
          19.5,
          19.2,
          18.7,
          19.8,
          17.8,
          18.2,
          18.2,
          18.9,
          19.9,
          17.8,
          20.3,
          17.3,
          18.1,
          17.1,
          19.6,
          20,
          17.8,
          18.6,
          18.2,
          17.3,
          17.5,
          16.6,
          19.4,
          17.9,
          19,
          18.4,
          19,
          17.8,
          20,
          16.6,
          20.8,
          16.7,
          18.8,
          18.6,
          16.8,
          18.3,
          20.7,
          16.6,
          19.9,
          19.5,
          17.5,
          19.1,
          17,
          17.9,
          18.5,
          17.9,
          19.6,
          18.7,
          17.3,
          16.4,
          19,
          17.3,
          19.7,
          17.3,
          18.8,
          16.6,
          19.9,
          18.8,
          19.4,
          19.5,
          16.5,
          17,
          19.8,
          18.1,
          18.2,
          19,
          18.7
         ],
         "z": [
          0,
          0,
          0,
          0,
          0,
          0,
          0,
          0,
          0,
          0,
          0,
          0,
          0,
          0,
          0,
          0,
          0,
          0,
          0,
          0,
          0,
          0,
          0,
          0,
          0,
          0,
          0,
          0,
          0,
          0,
          0,
          0,
          0,
          0,
          0,
          0,
          0,
          0,
          0,
          0,
          0,
          0,
          0,
          0,
          0,
          0,
          0,
          0,
          0,
          0,
          0,
          0,
          0,
          0,
          0,
          0,
          0,
          0,
          0,
          0,
          0,
          0,
          0,
          0,
          0,
          0,
          0,
          0
         ]
        }
       ],
       "layout": {
        "legend": {
         "title": {
          "text": "species"
         },
         "tracegroupgap": 0
        },
        "margin": {
         "t": 60
        },
        "scene": {
         "domain": {
          "x": [
           0,
           1
          ],
          "y": [
           0,
           1
          ]
         },
         "xaxis": {
          "title": {
           "text": "bill_length_mm"
          }
         },
         "yaxis": {
          "title": {
           "text": "bill_depth_mm"
          }
         },
         "zaxis": {
          "title": {
           "text": "Adelie"
          }
         }
        },
        "template": {
         "data": {
          "bar": [
           {
            "error_x": {
             "color": "#2a3f5f"
            },
            "error_y": {
             "color": "#2a3f5f"
            },
            "marker": {
             "line": {
              "color": "#E5ECF6",
              "width": 0.5
             },
             "pattern": {
              "fillmode": "overlay",
              "size": 10,
              "solidity": 0.2
             }
            },
            "type": "bar"
           }
          ],
          "barpolar": [
           {
            "marker": {
             "line": {
              "color": "#E5ECF6",
              "width": 0.5
             },
             "pattern": {
              "fillmode": "overlay",
              "size": 10,
              "solidity": 0.2
             }
            },
            "type": "barpolar"
           }
          ],
          "carpet": [
           {
            "aaxis": {
             "endlinecolor": "#2a3f5f",
             "gridcolor": "white",
             "linecolor": "white",
             "minorgridcolor": "white",
             "startlinecolor": "#2a3f5f"
            },
            "baxis": {
             "endlinecolor": "#2a3f5f",
             "gridcolor": "white",
             "linecolor": "white",
             "minorgridcolor": "white",
             "startlinecolor": "#2a3f5f"
            },
            "type": "carpet"
           }
          ],
          "choropleth": [
           {
            "colorbar": {
             "outlinewidth": 0,
             "ticks": ""
            },
            "type": "choropleth"
           }
          ],
          "contour": [
           {
            "colorbar": {
             "outlinewidth": 0,
             "ticks": ""
            },
            "colorscale": [
             [
              0,
              "#0d0887"
             ],
             [
              0.1111111111111111,
              "#46039f"
             ],
             [
              0.2222222222222222,
              "#7201a8"
             ],
             [
              0.3333333333333333,
              "#9c179e"
             ],
             [
              0.4444444444444444,
              "#bd3786"
             ],
             [
              0.5555555555555556,
              "#d8576b"
             ],
             [
              0.6666666666666666,
              "#ed7953"
             ],
             [
              0.7777777777777778,
              "#fb9f3a"
             ],
             [
              0.8888888888888888,
              "#fdca26"
             ],
             [
              1,
              "#f0f921"
             ]
            ],
            "type": "contour"
           }
          ],
          "contourcarpet": [
           {
            "colorbar": {
             "outlinewidth": 0,
             "ticks": ""
            },
            "type": "contourcarpet"
           }
          ],
          "heatmap": [
           {
            "colorbar": {
             "outlinewidth": 0,
             "ticks": ""
            },
            "colorscale": [
             [
              0,
              "#0d0887"
             ],
             [
              0.1111111111111111,
              "#46039f"
             ],
             [
              0.2222222222222222,
              "#7201a8"
             ],
             [
              0.3333333333333333,
              "#9c179e"
             ],
             [
              0.4444444444444444,
              "#bd3786"
             ],
             [
              0.5555555555555556,
              "#d8576b"
             ],
             [
              0.6666666666666666,
              "#ed7953"
             ],
             [
              0.7777777777777778,
              "#fb9f3a"
             ],
             [
              0.8888888888888888,
              "#fdca26"
             ],
             [
              1,
              "#f0f921"
             ]
            ],
            "type": "heatmap"
           }
          ],
          "heatmapgl": [
           {
            "colorbar": {
             "outlinewidth": 0,
             "ticks": ""
            },
            "colorscale": [
             [
              0,
              "#0d0887"
             ],
             [
              0.1111111111111111,
              "#46039f"
             ],
             [
              0.2222222222222222,
              "#7201a8"
             ],
             [
              0.3333333333333333,
              "#9c179e"
             ],
             [
              0.4444444444444444,
              "#bd3786"
             ],
             [
              0.5555555555555556,
              "#d8576b"
             ],
             [
              0.6666666666666666,
              "#ed7953"
             ],
             [
              0.7777777777777778,
              "#fb9f3a"
             ],
             [
              0.8888888888888888,
              "#fdca26"
             ],
             [
              1,
              "#f0f921"
             ]
            ],
            "type": "heatmapgl"
           }
          ],
          "histogram": [
           {
            "marker": {
             "pattern": {
              "fillmode": "overlay",
              "size": 10,
              "solidity": 0.2
             }
            },
            "type": "histogram"
           }
          ],
          "histogram2d": [
           {
            "colorbar": {
             "outlinewidth": 0,
             "ticks": ""
            },
            "colorscale": [
             [
              0,
              "#0d0887"
             ],
             [
              0.1111111111111111,
              "#46039f"
             ],
             [
              0.2222222222222222,
              "#7201a8"
             ],
             [
              0.3333333333333333,
              "#9c179e"
             ],
             [
              0.4444444444444444,
              "#bd3786"
             ],
             [
              0.5555555555555556,
              "#d8576b"
             ],
             [
              0.6666666666666666,
              "#ed7953"
             ],
             [
              0.7777777777777778,
              "#fb9f3a"
             ],
             [
              0.8888888888888888,
              "#fdca26"
             ],
             [
              1,
              "#f0f921"
             ]
            ],
            "type": "histogram2d"
           }
          ],
          "histogram2dcontour": [
           {
            "colorbar": {
             "outlinewidth": 0,
             "ticks": ""
            },
            "colorscale": [
             [
              0,
              "#0d0887"
             ],
             [
              0.1111111111111111,
              "#46039f"
             ],
             [
              0.2222222222222222,
              "#7201a8"
             ],
             [
              0.3333333333333333,
              "#9c179e"
             ],
             [
              0.4444444444444444,
              "#bd3786"
             ],
             [
              0.5555555555555556,
              "#d8576b"
             ],
             [
              0.6666666666666666,
              "#ed7953"
             ],
             [
              0.7777777777777778,
              "#fb9f3a"
             ],
             [
              0.8888888888888888,
              "#fdca26"
             ],
             [
              1,
              "#f0f921"
             ]
            ],
            "type": "histogram2dcontour"
           }
          ],
          "mesh3d": [
           {
            "colorbar": {
             "outlinewidth": 0,
             "ticks": ""
            },
            "type": "mesh3d"
           }
          ],
          "parcoords": [
           {
            "line": {
             "colorbar": {
              "outlinewidth": 0,
              "ticks": ""
             }
            },
            "type": "parcoords"
           }
          ],
          "pie": [
           {
            "automargin": true,
            "type": "pie"
           }
          ],
          "scatter": [
           {
            "fillpattern": {
             "fillmode": "overlay",
             "size": 10,
             "solidity": 0.2
            },
            "type": "scatter"
           }
          ],
          "scatter3d": [
           {
            "line": {
             "colorbar": {
              "outlinewidth": 0,
              "ticks": ""
             }
            },
            "marker": {
             "colorbar": {
              "outlinewidth": 0,
              "ticks": ""
             }
            },
            "type": "scatter3d"
           }
          ],
          "scattercarpet": [
           {
            "marker": {
             "colorbar": {
              "outlinewidth": 0,
              "ticks": ""
             }
            },
            "type": "scattercarpet"
           }
          ],
          "scattergeo": [
           {
            "marker": {
             "colorbar": {
              "outlinewidth": 0,
              "ticks": ""
             }
            },
            "type": "scattergeo"
           }
          ],
          "scattergl": [
           {
            "marker": {
             "colorbar": {
              "outlinewidth": 0,
              "ticks": ""
             }
            },
            "type": "scattergl"
           }
          ],
          "scattermapbox": [
           {
            "marker": {
             "colorbar": {
              "outlinewidth": 0,
              "ticks": ""
             }
            },
            "type": "scattermapbox"
           }
          ],
          "scatterpolar": [
           {
            "marker": {
             "colorbar": {
              "outlinewidth": 0,
              "ticks": ""
             }
            },
            "type": "scatterpolar"
           }
          ],
          "scatterpolargl": [
           {
            "marker": {
             "colorbar": {
              "outlinewidth": 0,
              "ticks": ""
             }
            },
            "type": "scatterpolargl"
           }
          ],
          "scatterternary": [
           {
            "marker": {
             "colorbar": {
              "outlinewidth": 0,
              "ticks": ""
             }
            },
            "type": "scatterternary"
           }
          ],
          "surface": [
           {
            "colorbar": {
             "outlinewidth": 0,
             "ticks": ""
            },
            "colorscale": [
             [
              0,
              "#0d0887"
             ],
             [
              0.1111111111111111,
              "#46039f"
             ],
             [
              0.2222222222222222,
              "#7201a8"
             ],
             [
              0.3333333333333333,
              "#9c179e"
             ],
             [
              0.4444444444444444,
              "#bd3786"
             ],
             [
              0.5555555555555556,
              "#d8576b"
             ],
             [
              0.6666666666666666,
              "#ed7953"
             ],
             [
              0.7777777777777778,
              "#fb9f3a"
             ],
             [
              0.8888888888888888,
              "#fdca26"
             ],
             [
              1,
              "#f0f921"
             ]
            ],
            "type": "surface"
           }
          ],
          "table": [
           {
            "cells": {
             "fill": {
              "color": "#EBF0F8"
             },
             "line": {
              "color": "white"
             }
            },
            "header": {
             "fill": {
              "color": "#C8D4E3"
             },
             "line": {
              "color": "white"
             }
            },
            "type": "table"
           }
          ]
         },
         "layout": {
          "annotationdefaults": {
           "arrowcolor": "#2a3f5f",
           "arrowhead": 0,
           "arrowwidth": 1
          },
          "autotypenumbers": "strict",
          "coloraxis": {
           "colorbar": {
            "outlinewidth": 0,
            "ticks": ""
           }
          },
          "colorscale": {
           "diverging": [
            [
             0,
             "#8e0152"
            ],
            [
             0.1,
             "#c51b7d"
            ],
            [
             0.2,
             "#de77ae"
            ],
            [
             0.3,
             "#f1b6da"
            ],
            [
             0.4,
             "#fde0ef"
            ],
            [
             0.5,
             "#f7f7f7"
            ],
            [
             0.6,
             "#e6f5d0"
            ],
            [
             0.7,
             "#b8e186"
            ],
            [
             0.8,
             "#7fbc41"
            ],
            [
             0.9,
             "#4d9221"
            ],
            [
             1,
             "#276419"
            ]
           ],
           "sequential": [
            [
             0,
             "#0d0887"
            ],
            [
             0.1111111111111111,
             "#46039f"
            ],
            [
             0.2222222222222222,
             "#7201a8"
            ],
            [
             0.3333333333333333,
             "#9c179e"
            ],
            [
             0.4444444444444444,
             "#bd3786"
            ],
            [
             0.5555555555555556,
             "#d8576b"
            ],
            [
             0.6666666666666666,
             "#ed7953"
            ],
            [
             0.7777777777777778,
             "#fb9f3a"
            ],
            [
             0.8888888888888888,
             "#fdca26"
            ],
            [
             1,
             "#f0f921"
            ]
           ],
           "sequentialminus": [
            [
             0,
             "#0d0887"
            ],
            [
             0.1111111111111111,
             "#46039f"
            ],
            [
             0.2222222222222222,
             "#7201a8"
            ],
            [
             0.3333333333333333,
             "#9c179e"
            ],
            [
             0.4444444444444444,
             "#bd3786"
            ],
            [
             0.5555555555555556,
             "#d8576b"
            ],
            [
             0.6666666666666666,
             "#ed7953"
            ],
            [
             0.7777777777777778,
             "#fb9f3a"
            ],
            [
             0.8888888888888888,
             "#fdca26"
            ],
            [
             1,
             "#f0f921"
            ]
           ]
          },
          "colorway": [
           "#636efa",
           "#EF553B",
           "#00cc96",
           "#ab63fa",
           "#FFA15A",
           "#19d3f3",
           "#FF6692",
           "#B6E880",
           "#FF97FF",
           "#FECB52"
          ],
          "font": {
           "color": "#2a3f5f"
          },
          "geo": {
           "bgcolor": "white",
           "lakecolor": "white",
           "landcolor": "#E5ECF6",
           "showlakes": true,
           "showland": true,
           "subunitcolor": "white"
          },
          "hoverlabel": {
           "align": "left"
          },
          "hovermode": "closest",
          "mapbox": {
           "style": "light"
          },
          "paper_bgcolor": "white",
          "plot_bgcolor": "#E5ECF6",
          "polar": {
           "angularaxis": {
            "gridcolor": "white",
            "linecolor": "white",
            "ticks": ""
           },
           "bgcolor": "#E5ECF6",
           "radialaxis": {
            "gridcolor": "white",
            "linecolor": "white",
            "ticks": ""
           }
          },
          "scene": {
           "xaxis": {
            "backgroundcolor": "#E5ECF6",
            "gridcolor": "white",
            "gridwidth": 2,
            "linecolor": "white",
            "showbackground": true,
            "ticks": "",
            "zerolinecolor": "white"
           },
           "yaxis": {
            "backgroundcolor": "#E5ECF6",
            "gridcolor": "white",
            "gridwidth": 2,
            "linecolor": "white",
            "showbackground": true,
            "ticks": "",
            "zerolinecolor": "white"
           },
           "zaxis": {
            "backgroundcolor": "#E5ECF6",
            "gridcolor": "white",
            "gridwidth": 2,
            "linecolor": "white",
            "showbackground": true,
            "ticks": "",
            "zerolinecolor": "white"
           }
          },
          "shapedefaults": {
           "line": {
            "color": "#2a3f5f"
           }
          },
          "ternary": {
           "aaxis": {
            "gridcolor": "white",
            "linecolor": "white",
            "ticks": ""
           },
           "baxis": {
            "gridcolor": "white",
            "linecolor": "white",
            "ticks": ""
           },
           "bgcolor": "#E5ECF6",
           "caxis": {
            "gridcolor": "white",
            "linecolor": "white",
            "ticks": ""
           }
          },
          "title": {
           "x": 0.05
          },
          "xaxis": {
           "automargin": true,
           "gridcolor": "white",
           "linecolor": "white",
           "ticks": "",
           "title": {
            "standoff": 15
           },
           "zerolinecolor": "white",
           "zerolinewidth": 2
          },
          "yaxis": {
           "automargin": true,
           "gridcolor": "white",
           "linecolor": "white",
           "ticks": "",
           "title": {
            "standoff": 15
           },
           "zerolinecolor": "white",
           "zerolinewidth": 2
          }
         }
        }
       }
      },
      "text/html": [
       "<div>                            <div id=\"f949b643-597e-421b-a2e5-b9d01e901cff\" class=\"plotly-graph-div\" style=\"height:525px; width:100%;\"></div>            <script type=\"text/javascript\">                require([\"plotly\"], function(Plotly) {                    window.PLOTLYENV=window.PLOTLYENV || {};                                    if (document.getElementById(\"f949b643-597e-421b-a2e5-b9d01e901cff\")) {                    Plotly.newPlot(                        \"f949b643-597e-421b-a2e5-b9d01e901cff\",                        [{\"hovertemplate\":\"species=Adelie<br>bill_length_mm=%{x}<br>bill_depth_mm=%{y}<br>Adelie=%{z}<extra></extra>\",\"legendgroup\":\"Adelie\",\"marker\":{\"color\":\"#636efa\",\"symbol\":\"circle\",\"size\":4},\"mode\":\"markers\",\"name\":\"Adelie\",\"scene\":\"scene\",\"showlegend\":true,\"x\":[39.1,39.5,40.3,36.7,39.3,38.9,39.2,41.1,38.6,34.6,36.6,38.7,42.5,34.4,46.0,37.8,37.7,35.9,38.2,38.8,35.3,40.6,40.5,37.9,40.5,39.5,37.2,39.5,40.9,36.4,39.2,38.8,42.2,37.6,39.8,36.5,40.8,36.0,44.1,37.0,39.6,41.1,36.0,42.3,39.6,40.1,35.0,42.0,34.5,41.4,39.0,40.6,36.5,37.6,35.7,41.3,37.6,41.1,36.4,41.6,35.5,41.1,35.9,41.8,33.5,39.7,39.6,45.8,35.5,42.8,40.9,37.2,36.2,42.1,34.6,42.9,36.7,35.1,37.3,41.3,36.3,36.9,38.3,38.9,35.7,41.1,34.0,39.6,36.2,40.8,38.1,40.3,33.1,43.2,35.0,41.0,37.7,37.8,37.9,39.7,38.6,38.2,38.1,43.2,38.1,45.6,39.7,42.2,39.6,42.7,38.6,37.3,35.7,41.1,36.2,37.7,40.2,41.4,35.2,40.6,38.8,41.5,39.0,44.1,38.5,43.1,36.8,37.5,38.1,41.1,35.6,40.2,37.0,39.7,40.2,40.6,32.1,40.7,37.3,39.0,39.2,36.6,36.0,37.8,36.0,41.5],\"y\":[18.7,17.4,18.0,19.3,20.6,17.8,19.6,17.6,21.2,21.1,17.8,19.0,20.7,18.4,21.5,18.3,18.7,19.2,18.1,17.2,18.9,18.6,17.9,18.6,18.9,16.7,18.1,17.8,18.9,17.0,21.1,20.0,18.5,19.3,19.1,18.0,18.4,18.5,19.7,16.9,18.8,19.0,17.9,21.2,17.7,18.9,17.9,19.5,18.1,18.6,17.5,18.8,16.6,19.1,16.9,21.1,17.0,18.2,17.1,18.0,16.2,19.1,16.6,19.4,19.0,18.4,17.2,18.9,17.5,18.5,16.8,19.4,16.1,19.1,17.2,17.6,18.8,19.4,17.8,20.3,19.5,18.6,19.2,18.8,18.0,18.1,17.1,18.1,17.3,18.9,18.6,18.5,16.1,18.5,17.9,20.0,16.0,20.0,18.6,18.9,17.2,20.0,17.0,19.0,16.5,20.3,17.7,19.5,20.7,18.3,17.0,20.5,17.0,18.6,17.2,19.8,17.0,18.5,15.9,19.0,17.6,18.3,17.1,18.0,17.9,19.2,18.5,18.5,17.6,17.5,17.5,20.1,16.5,17.9,17.1,17.2,15.5,17.0,16.8,18.7,18.6,18.4,17.8,18.1,17.1,18.5],\"z\":[1,1,1,1,1,1,1,1,1,1,1,1,1,1,1,1,1,1,1,1,1,1,1,1,1,1,1,1,1,1,1,1,1,1,1,1,1,1,1,1,1,1,1,1,1,1,1,1,1,1,1,1,1,1,1,1,1,1,1,1,1,1,1,1,1,1,1,1,1,1,1,1,1,1,1,1,1,1,1,1,1,1,1,1,1,1,1,1,1,1,1,1,1,1,1,1,1,1,1,1,1,1,1,1,1,1,1,1,1,1,1,1,1,1,1,1,1,1,1,1,1,1,1,1,1,1,1,1,1,1,1,1,1,1,1,1,1,1,1,1,1,1,1,1,1,1],\"type\":\"scatter3d\"},{\"hovertemplate\":\"species=Chinstrap<br>bill_length_mm=%{x}<br>bill_depth_mm=%{y}<br>Adelie=%{z}<extra></extra>\",\"legendgroup\":\"Chinstrap\",\"marker\":{\"color\":\"#EF553B\",\"symbol\":\"circle\",\"size\":4},\"mode\":\"markers\",\"name\":\"Chinstrap\",\"scene\":\"scene\",\"showlegend\":true,\"x\":[46.5,50.0,51.3,45.4,52.7,45.2,46.1,51.3,46.0,51.3,46.6,51.7,47.0,52.0,45.9,50.5,50.3,58.0,46.4,49.2,42.4,48.5,43.2,50.6,46.7,52.0,50.5,49.5,46.4,52.8,40.9,54.2,42.5,51.0,49.7,47.5,47.6,52.0,46.9,53.5,49.0,46.2,50.9,45.5,50.9,50.8,50.1,49.0,51.5,49.8,48.1,51.4,45.7,50.7,42.5,52.2,45.2,49.3,50.2,45.6,51.9,46.8,45.7,55.8,43.5,49.6,50.8,50.2],\"y\":[17.9,19.5,19.2,18.7,19.8,17.8,18.2,18.2,18.9,19.9,17.8,20.3,17.3,18.1,17.1,19.6,20.0,17.8,18.6,18.2,17.3,17.5,16.6,19.4,17.9,19.0,18.4,19.0,17.8,20.0,16.6,20.8,16.7,18.8,18.6,16.8,18.3,20.7,16.6,19.9,19.5,17.5,19.1,17.0,17.9,18.5,17.9,19.6,18.7,17.3,16.4,19.0,17.3,19.7,17.3,18.8,16.6,19.9,18.8,19.4,19.5,16.5,17.0,19.8,18.1,18.2,19.0,18.7],\"z\":[0,0,0,0,0,0,0,0,0,0,0,0,0,0,0,0,0,0,0,0,0,0,0,0,0,0,0,0,0,0,0,0,0,0,0,0,0,0,0,0,0,0,0,0,0,0,0,0,0,0,0,0,0,0,0,0,0,0,0,0,0,0,0,0,0,0,0,0],\"type\":\"scatter3d\"}],                        {\"template\":{\"data\":{\"histogram2dcontour\":[{\"type\":\"histogram2dcontour\",\"colorbar\":{\"outlinewidth\":0,\"ticks\":\"\"},\"colorscale\":[[0.0,\"#0d0887\"],[0.1111111111111111,\"#46039f\"],[0.2222222222222222,\"#7201a8\"],[0.3333333333333333,\"#9c179e\"],[0.4444444444444444,\"#bd3786\"],[0.5555555555555556,\"#d8576b\"],[0.6666666666666666,\"#ed7953\"],[0.7777777777777778,\"#fb9f3a\"],[0.8888888888888888,\"#fdca26\"],[1.0,\"#f0f921\"]]}],\"choropleth\":[{\"type\":\"choropleth\",\"colorbar\":{\"outlinewidth\":0,\"ticks\":\"\"}}],\"histogram2d\":[{\"type\":\"histogram2d\",\"colorbar\":{\"outlinewidth\":0,\"ticks\":\"\"},\"colorscale\":[[0.0,\"#0d0887\"],[0.1111111111111111,\"#46039f\"],[0.2222222222222222,\"#7201a8\"],[0.3333333333333333,\"#9c179e\"],[0.4444444444444444,\"#bd3786\"],[0.5555555555555556,\"#d8576b\"],[0.6666666666666666,\"#ed7953\"],[0.7777777777777778,\"#fb9f3a\"],[0.8888888888888888,\"#fdca26\"],[1.0,\"#f0f921\"]]}],\"heatmap\":[{\"type\":\"heatmap\",\"colorbar\":{\"outlinewidth\":0,\"ticks\":\"\"},\"colorscale\":[[0.0,\"#0d0887\"],[0.1111111111111111,\"#46039f\"],[0.2222222222222222,\"#7201a8\"],[0.3333333333333333,\"#9c179e\"],[0.4444444444444444,\"#bd3786\"],[0.5555555555555556,\"#d8576b\"],[0.6666666666666666,\"#ed7953\"],[0.7777777777777778,\"#fb9f3a\"],[0.8888888888888888,\"#fdca26\"],[1.0,\"#f0f921\"]]}],\"heatmapgl\":[{\"type\":\"heatmapgl\",\"colorbar\":{\"outlinewidth\":0,\"ticks\":\"\"},\"colorscale\":[[0.0,\"#0d0887\"],[0.1111111111111111,\"#46039f\"],[0.2222222222222222,\"#7201a8\"],[0.3333333333333333,\"#9c179e\"],[0.4444444444444444,\"#bd3786\"],[0.5555555555555556,\"#d8576b\"],[0.6666666666666666,\"#ed7953\"],[0.7777777777777778,\"#fb9f3a\"],[0.8888888888888888,\"#fdca26\"],[1.0,\"#f0f921\"]]}],\"contourcarpet\":[{\"type\":\"contourcarpet\",\"colorbar\":{\"outlinewidth\":0,\"ticks\":\"\"}}],\"contour\":[{\"type\":\"contour\",\"colorbar\":{\"outlinewidth\":0,\"ticks\":\"\"},\"colorscale\":[[0.0,\"#0d0887\"],[0.1111111111111111,\"#46039f\"],[0.2222222222222222,\"#7201a8\"],[0.3333333333333333,\"#9c179e\"],[0.4444444444444444,\"#bd3786\"],[0.5555555555555556,\"#d8576b\"],[0.6666666666666666,\"#ed7953\"],[0.7777777777777778,\"#fb9f3a\"],[0.8888888888888888,\"#fdca26\"],[1.0,\"#f0f921\"]]}],\"surface\":[{\"type\":\"surface\",\"colorbar\":{\"outlinewidth\":0,\"ticks\":\"\"},\"colorscale\":[[0.0,\"#0d0887\"],[0.1111111111111111,\"#46039f\"],[0.2222222222222222,\"#7201a8\"],[0.3333333333333333,\"#9c179e\"],[0.4444444444444444,\"#bd3786\"],[0.5555555555555556,\"#d8576b\"],[0.6666666666666666,\"#ed7953\"],[0.7777777777777778,\"#fb9f3a\"],[0.8888888888888888,\"#fdca26\"],[1.0,\"#f0f921\"]]}],\"mesh3d\":[{\"type\":\"mesh3d\",\"colorbar\":{\"outlinewidth\":0,\"ticks\":\"\"}}],\"scatter\":[{\"fillpattern\":{\"fillmode\":\"overlay\",\"size\":10,\"solidity\":0.2},\"type\":\"scatter\"}],\"parcoords\":[{\"type\":\"parcoords\",\"line\":{\"colorbar\":{\"outlinewidth\":0,\"ticks\":\"\"}}}],\"scatterpolargl\":[{\"type\":\"scatterpolargl\",\"marker\":{\"colorbar\":{\"outlinewidth\":0,\"ticks\":\"\"}}}],\"bar\":[{\"error_x\":{\"color\":\"#2a3f5f\"},\"error_y\":{\"color\":\"#2a3f5f\"},\"marker\":{\"line\":{\"color\":\"#E5ECF6\",\"width\":0.5},\"pattern\":{\"fillmode\":\"overlay\",\"size\":10,\"solidity\":0.2}},\"type\":\"bar\"}],\"scattergeo\":[{\"type\":\"scattergeo\",\"marker\":{\"colorbar\":{\"outlinewidth\":0,\"ticks\":\"\"}}}],\"scatterpolar\":[{\"type\":\"scatterpolar\",\"marker\":{\"colorbar\":{\"outlinewidth\":0,\"ticks\":\"\"}}}],\"histogram\":[{\"marker\":{\"pattern\":{\"fillmode\":\"overlay\",\"size\":10,\"solidity\":0.2}},\"type\":\"histogram\"}],\"scattergl\":[{\"type\":\"scattergl\",\"marker\":{\"colorbar\":{\"outlinewidth\":0,\"ticks\":\"\"}}}],\"scatter3d\":[{\"type\":\"scatter3d\",\"line\":{\"colorbar\":{\"outlinewidth\":0,\"ticks\":\"\"}},\"marker\":{\"colorbar\":{\"outlinewidth\":0,\"ticks\":\"\"}}}],\"scattermapbox\":[{\"type\":\"scattermapbox\",\"marker\":{\"colorbar\":{\"outlinewidth\":0,\"ticks\":\"\"}}}],\"scatterternary\":[{\"type\":\"scatterternary\",\"marker\":{\"colorbar\":{\"outlinewidth\":0,\"ticks\":\"\"}}}],\"scattercarpet\":[{\"type\":\"scattercarpet\",\"marker\":{\"colorbar\":{\"outlinewidth\":0,\"ticks\":\"\"}}}],\"carpet\":[{\"aaxis\":{\"endlinecolor\":\"#2a3f5f\",\"gridcolor\":\"white\",\"linecolor\":\"white\",\"minorgridcolor\":\"white\",\"startlinecolor\":\"#2a3f5f\"},\"baxis\":{\"endlinecolor\":\"#2a3f5f\",\"gridcolor\":\"white\",\"linecolor\":\"white\",\"minorgridcolor\":\"white\",\"startlinecolor\":\"#2a3f5f\"},\"type\":\"carpet\"}],\"table\":[{\"cells\":{\"fill\":{\"color\":\"#EBF0F8\"},\"line\":{\"color\":\"white\"}},\"header\":{\"fill\":{\"color\":\"#C8D4E3\"},\"line\":{\"color\":\"white\"}},\"type\":\"table\"}],\"barpolar\":[{\"marker\":{\"line\":{\"color\":\"#E5ECF6\",\"width\":0.5},\"pattern\":{\"fillmode\":\"overlay\",\"size\":10,\"solidity\":0.2}},\"type\":\"barpolar\"}],\"pie\":[{\"automargin\":true,\"type\":\"pie\"}]},\"layout\":{\"autotypenumbers\":\"strict\",\"colorway\":[\"#636efa\",\"#EF553B\",\"#00cc96\",\"#ab63fa\",\"#FFA15A\",\"#19d3f3\",\"#FF6692\",\"#B6E880\",\"#FF97FF\",\"#FECB52\"],\"font\":{\"color\":\"#2a3f5f\"},\"hovermode\":\"closest\",\"hoverlabel\":{\"align\":\"left\"},\"paper_bgcolor\":\"white\",\"plot_bgcolor\":\"#E5ECF6\",\"polar\":{\"bgcolor\":\"#E5ECF6\",\"angularaxis\":{\"gridcolor\":\"white\",\"linecolor\":\"white\",\"ticks\":\"\"},\"radialaxis\":{\"gridcolor\":\"white\",\"linecolor\":\"white\",\"ticks\":\"\"}},\"ternary\":{\"bgcolor\":\"#E5ECF6\",\"aaxis\":{\"gridcolor\":\"white\",\"linecolor\":\"white\",\"ticks\":\"\"},\"baxis\":{\"gridcolor\":\"white\",\"linecolor\":\"white\",\"ticks\":\"\"},\"caxis\":{\"gridcolor\":\"white\",\"linecolor\":\"white\",\"ticks\":\"\"}},\"coloraxis\":{\"colorbar\":{\"outlinewidth\":0,\"ticks\":\"\"}},\"colorscale\":{\"sequential\":[[0.0,\"#0d0887\"],[0.1111111111111111,\"#46039f\"],[0.2222222222222222,\"#7201a8\"],[0.3333333333333333,\"#9c179e\"],[0.4444444444444444,\"#bd3786\"],[0.5555555555555556,\"#d8576b\"],[0.6666666666666666,\"#ed7953\"],[0.7777777777777778,\"#fb9f3a\"],[0.8888888888888888,\"#fdca26\"],[1.0,\"#f0f921\"]],\"sequentialminus\":[[0.0,\"#0d0887\"],[0.1111111111111111,\"#46039f\"],[0.2222222222222222,\"#7201a8\"],[0.3333333333333333,\"#9c179e\"],[0.4444444444444444,\"#bd3786\"],[0.5555555555555556,\"#d8576b\"],[0.6666666666666666,\"#ed7953\"],[0.7777777777777778,\"#fb9f3a\"],[0.8888888888888888,\"#fdca26\"],[1.0,\"#f0f921\"]],\"diverging\":[[0,\"#8e0152\"],[0.1,\"#c51b7d\"],[0.2,\"#de77ae\"],[0.3,\"#f1b6da\"],[0.4,\"#fde0ef\"],[0.5,\"#f7f7f7\"],[0.6,\"#e6f5d0\"],[0.7,\"#b8e186\"],[0.8,\"#7fbc41\"],[0.9,\"#4d9221\"],[1,\"#276419\"]]},\"xaxis\":{\"gridcolor\":\"white\",\"linecolor\":\"white\",\"ticks\":\"\",\"title\":{\"standoff\":15},\"zerolinecolor\":\"white\",\"automargin\":true,\"zerolinewidth\":2},\"yaxis\":{\"gridcolor\":\"white\",\"linecolor\":\"white\",\"ticks\":\"\",\"title\":{\"standoff\":15},\"zerolinecolor\":\"white\",\"automargin\":true,\"zerolinewidth\":2},\"scene\":{\"xaxis\":{\"backgroundcolor\":\"#E5ECF6\",\"gridcolor\":\"white\",\"linecolor\":\"white\",\"showbackground\":true,\"ticks\":\"\",\"zerolinecolor\":\"white\",\"gridwidth\":2},\"yaxis\":{\"backgroundcolor\":\"#E5ECF6\",\"gridcolor\":\"white\",\"linecolor\":\"white\",\"showbackground\":true,\"ticks\":\"\",\"zerolinecolor\":\"white\",\"gridwidth\":2},\"zaxis\":{\"backgroundcolor\":\"#E5ECF6\",\"gridcolor\":\"white\",\"linecolor\":\"white\",\"showbackground\":true,\"ticks\":\"\",\"zerolinecolor\":\"white\",\"gridwidth\":2}},\"shapedefaults\":{\"line\":{\"color\":\"#2a3f5f\"}},\"annotationdefaults\":{\"arrowcolor\":\"#2a3f5f\",\"arrowhead\":0,\"arrowwidth\":1},\"geo\":{\"bgcolor\":\"white\",\"landcolor\":\"#E5ECF6\",\"subunitcolor\":\"white\",\"showland\":true,\"showlakes\":true,\"lakecolor\":\"white\"},\"title\":{\"x\":0.05},\"mapbox\":{\"style\":\"light\"}}},\"scene\":{\"domain\":{\"x\":[0.0,1.0],\"y\":[0.0,1.0]},\"xaxis\":{\"title\":{\"text\":\"bill_length_mm\"}},\"yaxis\":{\"title\":{\"text\":\"bill_depth_mm\"}},\"zaxis\":{\"title\":{\"text\":\"Adelie\"}}},\"legend\":{\"title\":{\"text\":\"species\"},\"tracegroupgap\":0},\"margin\":{\"t\":60}},                        {\"responsive\": true}                    ).then(function(){\n",
       "                            \n",
       "var gd = document.getElementById('f949b643-597e-421b-a2e5-b9d01e901cff');\n",
       "var x = new MutationObserver(function (mutations, observer) {{\n",
       "        var display = window.getComputedStyle(gd).display;\n",
       "        if (!display || display === 'none') {{\n",
       "            console.log([gd, 'removed!']);\n",
       "            Plotly.purge(gd);\n",
       "            observer.disconnect();\n",
       "        }}\n",
       "}});\n",
       "\n",
       "// Listen for the removal of the full notebook cells\n",
       "var notebookContainer = gd.closest('#notebook-container');\n",
       "if (notebookContainer) {{\n",
       "    x.observe(notebookContainer, {childList: true});\n",
       "}}\n",
       "\n",
       "// Listen for the clearing of the current output cell\n",
       "var outputEl = gd.closest('.output');\n",
       "if (outputEl) {{\n",
       "    x.observe(outputEl, {childList: true});\n",
       "}}\n",
       "\n",
       "                        })                };                });            </script>        </div>"
      ]
     },
     "metadata": {},
     "output_type": "display_data"
    }
   ],
   "source": [
    "#Looking at the 3D plot of the relationship\n",
    "fig = px.scatter_3d(penguinsAC_df,\n",
    "                    x='bill_length_mm',\n",
    "                    y='bill_depth_mm',\n",
    "                    z='Adelie',\n",
    "                    color='species')\n",
    "fig.update_traces(marker={'size': 4})"
   ]
  },
  {
   "cell_type": "code",
   "execution_count": 1005,
   "id": "67215aea",
   "metadata": {},
   "outputs": [
    {
     "data": {
      "text/plain": [
       "LogisticRegression(penalty='none')"
      ]
     },
     "execution_count": 1005,
     "metadata": {},
     "output_type": "execute_result"
    }
   ],
   "source": [
    "from sklearn.linear_model import LogisticRegression\n",
    "log_reg = LogisticRegression(penalty='none')\n",
    "log_reg.fit(X,y) "
   ]
  },
  {
   "cell_type": "code",
   "execution_count": 1006,
   "id": "cf0a00d4",
   "metadata": {},
   "outputs": [
    {
     "data": {
      "text/plain": [
       "(array([[-2.20057491,  3.97805587]]), array([24.09029087]))"
      ]
     },
     "execution_count": 1006,
     "metadata": {},
     "output_type": "execute_result"
    }
   ],
   "source": [
    "#Printing the regression coefficients\n",
    "log_reg.coef_, log_reg.intercept_"
   ]
  },
  {
   "cell_type": "code",
   "execution_count": 1007,
   "id": "c2f1c8fe",
   "metadata": {},
   "outputs": [],
   "source": [
    "w2 = log_reg.coef_[:,1]\n",
    "w1 = log_reg.coef_[:,0]\n",
    "w0 = log_reg.intercept_"
   ]
  },
  {
   "cell_type": "code",
   "execution_count": 1008,
   "id": "b9e68d79",
   "metadata": {},
   "outputs": [],
   "source": [
    "#Defining the sig curve relationship\n",
    "def sig_curve(XY):\n",
    "    return np.squeeze(1 / (1 + np.exp(-1 * (w0 +(w1 * XY[:,0])+ (w2 *XY[:,1])))))"
   ]
  },
  {
   "cell_type": "code",
   "execution_count": 1009,
   "id": "cf89e496",
   "metadata": {},
   "outputs": [],
   "source": [
    "# setup the boundaries for my plot\n",
    "X_pl = np.linspace(30,60,20)\n",
    "y_pl = np.linspace(15,25,20)\n",
    "X_pl,Y_pl = np.meshgrid(x_pl,y_pl)\n",
    "XY_pl = np.vstack((X_pl.ravel(),Y_pl.ravel())).T\n",
    "Z = sig_curve(XY_pl).reshape(20,20)"
   ]
  },
  {
   "cell_type": "markdown",
   "id": "9b537191",
   "metadata": {},
   "source": [
    "### Bonus\n",
    "\n",
    "Show a 2D figure, plotting the datapoints with your logistic regression line."
   ]
  },
  {
   "cell_type": "code",
   "execution_count": 1010,
   "id": "3f175e64",
   "metadata": {},
   "outputs": [
    {
     "data": {
      "text/plain": [
       "(20, 20)"
      ]
     },
     "execution_count": 1010,
     "metadata": {},
     "output_type": "execute_result"
    }
   ],
   "source": [
    "Z.shape"
   ]
  },
  {
   "cell_type": "code",
   "execution_count": 1011,
   "id": "234718a1",
   "metadata": {},
   "outputs": [
    {
     "ename": "ValueError",
     "evalue": "x and y must have same first dimension, but have shapes (400, 2) and (20, 20)",
     "output_type": "error",
     "traceback": [
      "\u001b[0;31m---------------------------------------------------------------------------\u001b[0m",
      "\u001b[0;31mValueError\u001b[0m                                Traceback (most recent call last)",
      "\u001b[0;32m<ipython-input-1011-c86e1b05ec25>\u001b[0m in \u001b[0;36m<module>\u001b[0;34m\u001b[0m\n\u001b[1;32m      5\u001b[0m \u001b[0;31m#Changed the line to the logistic regression coefficients and intercept\u001b[0m\u001b[0;34m\u001b[0m\u001b[0;34m\u001b[0m\u001b[0;34m\u001b[0m\u001b[0m\n\u001b[1;32m      6\u001b[0m \u001b[0;31m#but XY is in the wrong shape and unclear how to fix it\u001b[0m\u001b[0;34m\u001b[0m\u001b[0;34m\u001b[0m\u001b[0;34m\u001b[0m\u001b[0m\n\u001b[0;32m----> 7\u001b[0;31m \u001b[0mplt\u001b[0m\u001b[0;34m.\u001b[0m\u001b[0mplot\u001b[0m\u001b[0;34m(\u001b[0m\u001b[0mXY_pl\u001b[0m\u001b[0;34m,\u001b[0m\u001b[0mw2\u001b[0m\u001b[0;34m*\u001b[0m\u001b[0my_pl\u001b[0m\u001b[0;34m+\u001b[0m \u001b[0mw1\u001b[0m\u001b[0;34m*\u001b[0m\u001b[0mX_pl\u001b[0m \u001b[0;34m+\u001b[0m \u001b[0mw0\u001b[0m\u001b[0;34m,\u001b[0m \u001b[0mcolor\u001b[0m\u001b[0;34m=\u001b[0m\u001b[0mcolors\u001b[0m\u001b[0;34m[\u001b[0m\u001b[0;36m4\u001b[0m\u001b[0;34m]\u001b[0m\u001b[0;34m)\u001b[0m\u001b[0;34m\u001b[0m\u001b[0;34m\u001b[0m\u001b[0m\n\u001b[0m\u001b[1;32m      8\u001b[0m \u001b[0mplt\u001b[0m\u001b[0;34m.\u001b[0m\u001b[0mxlabel\u001b[0m\u001b[0;34m(\u001b[0m\u001b[0;34m'bill length'\u001b[0m\u001b[0;34m)\u001b[0m\u001b[0;34m\u001b[0m\u001b[0;34m\u001b[0m\u001b[0m\n\u001b[1;32m      9\u001b[0m \u001b[0mplt\u001b[0m\u001b[0;34m.\u001b[0m\u001b[0mylabel\u001b[0m\u001b[0;34m(\u001b[0m\u001b[0;34m'bill width'\u001b[0m\u001b[0;34m)\u001b[0m\u001b[0;34m;\u001b[0m\u001b[0;34m\u001b[0m\u001b[0;34m\u001b[0m\u001b[0m\n",
      "\u001b[0;32m~/opt/anaconda3/lib/python3.8/site-packages/matplotlib/pyplot.py\u001b[0m in \u001b[0;36mplot\u001b[0;34m(scalex, scaley, data, *args, **kwargs)\u001b[0m\n\u001b[1;32m   2838\u001b[0m \u001b[0;34m@\u001b[0m\u001b[0m_copy_docstring_and_deprecators\u001b[0m\u001b[0;34m(\u001b[0m\u001b[0mAxes\u001b[0m\u001b[0;34m.\u001b[0m\u001b[0mplot\u001b[0m\u001b[0;34m)\u001b[0m\u001b[0;34m\u001b[0m\u001b[0;34m\u001b[0m\u001b[0m\n\u001b[1;32m   2839\u001b[0m \u001b[0;32mdef\u001b[0m \u001b[0mplot\u001b[0m\u001b[0;34m(\u001b[0m\u001b[0;34m*\u001b[0m\u001b[0margs\u001b[0m\u001b[0;34m,\u001b[0m \u001b[0mscalex\u001b[0m\u001b[0;34m=\u001b[0m\u001b[0;32mTrue\u001b[0m\u001b[0;34m,\u001b[0m \u001b[0mscaley\u001b[0m\u001b[0;34m=\u001b[0m\u001b[0;32mTrue\u001b[0m\u001b[0;34m,\u001b[0m \u001b[0mdata\u001b[0m\u001b[0;34m=\u001b[0m\u001b[0;32mNone\u001b[0m\u001b[0;34m,\u001b[0m \u001b[0;34m**\u001b[0m\u001b[0mkwargs\u001b[0m\u001b[0;34m)\u001b[0m\u001b[0;34m:\u001b[0m\u001b[0;34m\u001b[0m\u001b[0;34m\u001b[0m\u001b[0m\n\u001b[0;32m-> 2840\u001b[0;31m     return gca().plot(\n\u001b[0m\u001b[1;32m   2841\u001b[0m         \u001b[0;34m*\u001b[0m\u001b[0margs\u001b[0m\u001b[0;34m,\u001b[0m \u001b[0mscalex\u001b[0m\u001b[0;34m=\u001b[0m\u001b[0mscalex\u001b[0m\u001b[0;34m,\u001b[0m \u001b[0mscaley\u001b[0m\u001b[0;34m=\u001b[0m\u001b[0mscaley\u001b[0m\u001b[0;34m,\u001b[0m\u001b[0;34m\u001b[0m\u001b[0;34m\u001b[0m\u001b[0m\n\u001b[1;32m   2842\u001b[0m         **({\"data\": data} if data is not None else {}), **kwargs)\n",
      "\u001b[0;32m~/opt/anaconda3/lib/python3.8/site-packages/matplotlib/axes/_axes.py\u001b[0m in \u001b[0;36mplot\u001b[0;34m(self, scalex, scaley, data, *args, **kwargs)\u001b[0m\n\u001b[1;32m   1741\u001b[0m         \"\"\"\n\u001b[1;32m   1742\u001b[0m         \u001b[0mkwargs\u001b[0m \u001b[0;34m=\u001b[0m \u001b[0mcbook\u001b[0m\u001b[0;34m.\u001b[0m\u001b[0mnormalize_kwargs\u001b[0m\u001b[0;34m(\u001b[0m\u001b[0mkwargs\u001b[0m\u001b[0;34m,\u001b[0m \u001b[0mmlines\u001b[0m\u001b[0;34m.\u001b[0m\u001b[0mLine2D\u001b[0m\u001b[0;34m)\u001b[0m\u001b[0;34m\u001b[0m\u001b[0;34m\u001b[0m\u001b[0m\n\u001b[0;32m-> 1743\u001b[0;31m         \u001b[0mlines\u001b[0m \u001b[0;34m=\u001b[0m \u001b[0;34m[\u001b[0m\u001b[0;34m*\u001b[0m\u001b[0mself\u001b[0m\u001b[0;34m.\u001b[0m\u001b[0m_get_lines\u001b[0m\u001b[0;34m(\u001b[0m\u001b[0;34m*\u001b[0m\u001b[0margs\u001b[0m\u001b[0;34m,\u001b[0m \u001b[0mdata\u001b[0m\u001b[0;34m=\u001b[0m\u001b[0mdata\u001b[0m\u001b[0;34m,\u001b[0m \u001b[0;34m**\u001b[0m\u001b[0mkwargs\u001b[0m\u001b[0;34m)\u001b[0m\u001b[0;34m]\u001b[0m\u001b[0;34m\u001b[0m\u001b[0;34m\u001b[0m\u001b[0m\n\u001b[0m\u001b[1;32m   1744\u001b[0m         \u001b[0;32mfor\u001b[0m \u001b[0mline\u001b[0m \u001b[0;32min\u001b[0m \u001b[0mlines\u001b[0m\u001b[0;34m:\u001b[0m\u001b[0;34m\u001b[0m\u001b[0;34m\u001b[0m\u001b[0m\n\u001b[1;32m   1745\u001b[0m             \u001b[0mself\u001b[0m\u001b[0;34m.\u001b[0m\u001b[0madd_line\u001b[0m\u001b[0;34m(\u001b[0m\u001b[0mline\u001b[0m\u001b[0;34m)\u001b[0m\u001b[0;34m\u001b[0m\u001b[0;34m\u001b[0m\u001b[0m\n",
      "\u001b[0;32m~/opt/anaconda3/lib/python3.8/site-packages/matplotlib/axes/_base.py\u001b[0m in \u001b[0;36m__call__\u001b[0;34m(self, data, *args, **kwargs)\u001b[0m\n\u001b[1;32m    271\u001b[0m                 \u001b[0mthis\u001b[0m \u001b[0;34m+=\u001b[0m \u001b[0margs\u001b[0m\u001b[0;34m[\u001b[0m\u001b[0;36m0\u001b[0m\u001b[0;34m]\u001b[0m\u001b[0;34m,\u001b[0m\u001b[0;34m\u001b[0m\u001b[0;34m\u001b[0m\u001b[0m\n\u001b[1;32m    272\u001b[0m                 \u001b[0margs\u001b[0m \u001b[0;34m=\u001b[0m \u001b[0margs\u001b[0m\u001b[0;34m[\u001b[0m\u001b[0;36m1\u001b[0m\u001b[0;34m:\u001b[0m\u001b[0;34m]\u001b[0m\u001b[0;34m\u001b[0m\u001b[0;34m\u001b[0m\u001b[0m\n\u001b[0;32m--> 273\u001b[0;31m             \u001b[0;32myield\u001b[0m \u001b[0;32mfrom\u001b[0m \u001b[0mself\u001b[0m\u001b[0;34m.\u001b[0m\u001b[0m_plot_args\u001b[0m\u001b[0;34m(\u001b[0m\u001b[0mthis\u001b[0m\u001b[0;34m,\u001b[0m \u001b[0mkwargs\u001b[0m\u001b[0;34m)\u001b[0m\u001b[0;34m\u001b[0m\u001b[0;34m\u001b[0m\u001b[0m\n\u001b[0m\u001b[1;32m    274\u001b[0m \u001b[0;34m\u001b[0m\u001b[0m\n\u001b[1;32m    275\u001b[0m     \u001b[0;32mdef\u001b[0m \u001b[0mget_next_color\u001b[0m\u001b[0;34m(\u001b[0m\u001b[0mself\u001b[0m\u001b[0;34m)\u001b[0m\u001b[0;34m:\u001b[0m\u001b[0;34m\u001b[0m\u001b[0;34m\u001b[0m\u001b[0m\n",
      "\u001b[0;32m~/opt/anaconda3/lib/python3.8/site-packages/matplotlib/axes/_base.py\u001b[0m in \u001b[0;36m_plot_args\u001b[0;34m(self, tup, kwargs)\u001b[0m\n\u001b[1;32m    397\u001b[0m \u001b[0;34m\u001b[0m\u001b[0m\n\u001b[1;32m    398\u001b[0m         \u001b[0;32mif\u001b[0m \u001b[0mx\u001b[0m\u001b[0;34m.\u001b[0m\u001b[0mshape\u001b[0m\u001b[0;34m[\u001b[0m\u001b[0;36m0\u001b[0m\u001b[0;34m]\u001b[0m \u001b[0;34m!=\u001b[0m \u001b[0my\u001b[0m\u001b[0;34m.\u001b[0m\u001b[0mshape\u001b[0m\u001b[0;34m[\u001b[0m\u001b[0;36m0\u001b[0m\u001b[0;34m]\u001b[0m\u001b[0;34m:\u001b[0m\u001b[0;34m\u001b[0m\u001b[0;34m\u001b[0m\u001b[0m\n\u001b[0;32m--> 399\u001b[0;31m             raise ValueError(f\"x and y must have same first dimension, but \"\n\u001b[0m\u001b[1;32m    400\u001b[0m                              f\"have shapes {x.shape} and {y.shape}\")\n\u001b[1;32m    401\u001b[0m         \u001b[0;32mif\u001b[0m \u001b[0mx\u001b[0m\u001b[0;34m.\u001b[0m\u001b[0mndim\u001b[0m \u001b[0;34m>\u001b[0m \u001b[0;36m2\u001b[0m \u001b[0;32mor\u001b[0m \u001b[0my\u001b[0m\u001b[0;34m.\u001b[0m\u001b[0mndim\u001b[0m \u001b[0;34m>\u001b[0m \u001b[0;36m2\u001b[0m\u001b[0;34m:\u001b[0m\u001b[0;34m\u001b[0m\u001b[0;34m\u001b[0m\u001b[0m\n",
      "\u001b[0;31mValueError\u001b[0m: x and y must have same first dimension, but have shapes (400, 2) and (20, 20)"
     ]
    },
    {
     "data": {
      "image/png": "[encoded data removed]",
      "text/plain": [
       "<Figure size 432x288 with 1 Axes>"
      ]
     },
     "metadata": {
      "needs_background": "light"
     },
     "output_type": "display_data"
    }
   ],
   "source": [
    "#2D relationship of the logistic regression \n",
    "plt.figure()\n",
    "plt.scatter(X[y==0,0],X[y==0,1],label='chinstrap');\n",
    "plt.scatter(X[y==1,0],X[y==1,1],label='adelie');\n",
    "#Changed the line to the logistic regression coefficients and intercept \n",
    "#but XY is in the wrong shape and unclear how to fix it\n",
    "plt.plot(XY_pl,w2*y_pl+ w1*X_pl + w0, color=colors[4])\n",
    "plt.xlabel('bill length')\n",
    "plt.ylabel('bill width');\n",
    "plt.legend();\n",
    "#This was my attempt at making a 2D plot but the code is from the linear regression example so I worked on \n",
    "#Changing the plt.plot information to fit the logistic regression but could not figure out how to get the right line "
   ]
  },
  {
   "cell_type": "code",
   "execution_count": 1022,
   "id": "1854b3d1",
   "metadata": {},
   "outputs": [
    {
     "data": {
      "application/vnd.plotly.v1+json": {
       "config": {
        "plotlyServerURL": "https://plot.ly"
       },
       "data": [
        {
         "colorscale": [
          [
           0,
           "#30123b"
          ],
          [
           0.07142857142857142,
           "#4145ab"
          ],
          [
           0.14285714285714285,
           "#4675ed"
          ],
          [
           0.21428571428571427,
           "#39a2fc"
          ],
          [
           0.2857142857142857,
           "#1bcfd4"
          ],
          [
           0.35714285714285715,
           "#24eca6"
          ],
          [
           0.42857142857142855,
           "#61fc6c"
          ],
          [
           0.5,
           "#a4fc3b"
          ],
          [
           0.5714285714285714,
           "#d1e834"
          ],
          [
           0.6428571428571429,
           "#f3c63a"
          ],
          [
           0.7142857142857143,
           "#fe9b2d"
          ],
          [
           0.7857142857142857,
           "#f36315"
          ],
          [
           0.8571428571428571,
           "#d93806"
          ],
          [
           0.9285714285714286,
           "#b11901"
          ],
          [
           1,
           "#7a0402"
          ]
         ],
         "opacity": 0.2,
         "showscale": false,
         "type": "surface",
         "x": [
          [
           30,
           31.57894736842105,
           33.1578947368421,
           34.73684210526316,
           36.31578947368421,
           37.89473684210526,
           39.473684210526315,
           41.05263157894737,
           42.631578947368425,
           44.21052631578947,
           45.78947368421053,
           47.368421052631575,
           48.94736842105263,
           50.526315789473685,
           52.10526315789474,
           53.684210526315795,
           55.26315789473684,
           56.84210526315789,
           58.421052631578945,
           60
          ],
          [
           30,
           31.57894736842105,
           33.1578947368421,
           34.73684210526316,
           36.31578947368421,
           37.89473684210526,
           39.473684210526315,
           41.05263157894737,
           42.631578947368425,
           44.21052631578947,
           45.78947368421053,
           47.368421052631575,
           48.94736842105263,
           50.526315789473685,
           52.10526315789474,
           53.684210526315795,
           55.26315789473684,
           56.84210526315789,
           58.421052631578945,
           60
          ],
          [
           30,
           31.57894736842105,
           33.1578947368421,
           34.73684210526316,
           36.31578947368421,
           37.89473684210526,
           39.473684210526315,
           41.05263157894737,
           42.631578947368425,
           44.21052631578947,
           45.78947368421053,
           47.368421052631575,
           48.94736842105263,
           50.526315789473685,
           52.10526315789474,
           53.684210526315795,
           55.26315789473684,
           56.84210526315789,
           58.421052631578945,
           60
          ],
          [
           30,
           31.57894736842105,
           33.1578947368421,
           34.73684210526316,
           36.31578947368421,
           37.89473684210526,
           39.473684210526315,
           41.05263157894737,
           42.631578947368425,
           44.21052631578947,
           45.78947368421053,
           47.368421052631575,
           48.94736842105263,
           50.526315789473685,
           52.10526315789474,
           53.684210526315795,
           55.26315789473684,
           56.84210526315789,
           58.421052631578945,
           60
          ],
          [
           30,
           31.57894736842105,
           33.1578947368421,
           34.73684210526316,
           36.31578947368421,
           37.89473684210526,
           39.473684210526315,
           41.05263157894737,
           42.631578947368425,
           44.21052631578947,
           45.78947368421053,
           47.368421052631575,
           48.94736842105263,
           50.526315789473685,
           52.10526315789474,
           53.684210526315795,
           55.26315789473684,
           56.84210526315789,
           58.421052631578945,
           60
          ],
          [
           30,
           31.57894736842105,
           33.1578947368421,
           34.73684210526316,
           36.31578947368421,
           37.89473684210526,
           39.473684210526315,
           41.05263157894737,
           42.631578947368425,
           44.21052631578947,
           45.78947368421053,
           47.368421052631575,
           48.94736842105263,
           50.526315789473685,
           52.10526315789474,
           53.684210526315795,
           55.26315789473684,
           56.84210526315789,
           58.421052631578945,
           60
          ],
          [
           30,
           31.57894736842105,
           33.1578947368421,
           34.73684210526316,
           36.31578947368421,
           37.89473684210526,
           39.473684210526315,
           41.05263157894737,
           42.631578947368425,
           44.21052631578947,
           45.78947368421053,
           47.368421052631575,
           48.94736842105263,
           50.526315789473685,
           52.10526315789474,
           53.684210526315795,
           55.26315789473684,
           56.84210526315789,
           58.421052631578945,
           60
          ],
          [
           30,
           31.57894736842105,
           33.1578947368421,
           34.73684210526316,
           36.31578947368421,
           37.89473684210526,
           39.473684210526315,
           41.05263157894737,
           42.631578947368425,
           44.21052631578947,
           45.78947368421053,
           47.368421052631575,
           48.94736842105263,
           50.526315789473685,
           52.10526315789474,
           53.684210526315795,
           55.26315789473684,
           56.84210526315789,
           58.421052631578945,
           60
          ],
          [
           30,
           31.57894736842105,
           33.1578947368421,
           34.73684210526316,
           36.31578947368421,
           37.89473684210526,
           39.473684210526315,
           41.05263157894737,
           42.631578947368425,
           44.21052631578947,
           45.78947368421053,
           47.368421052631575,
           48.94736842105263,
           50.526315789473685,
           52.10526315789474,
           53.684210526315795,
           55.26315789473684,
           56.84210526315789,
           58.421052631578945,
           60
          ],
          [
           30,
           31.57894736842105,
           33.1578947368421,
           34.73684210526316,
           36.31578947368421,
           37.89473684210526,
           39.473684210526315,
           41.05263157894737,
           42.631578947368425,
           44.21052631578947,
           45.78947368421053,
           47.368421052631575,
           48.94736842105263,
           50.526315789473685,
           52.10526315789474,
           53.684210526315795,
           55.26315789473684,
           56.84210526315789,
           58.421052631578945,
           60
          ],
          [
           30,
           31.57894736842105,
           33.1578947368421,
           34.73684210526316,
           36.31578947368421,
           37.89473684210526,
           39.473684210526315,
           41.05263157894737,
           42.631578947368425,
           44.21052631578947,
           45.78947368421053,
           47.368421052631575,
           48.94736842105263,
           50.526315789473685,
           52.10526315789474,
           53.684210526315795,
           55.26315789473684,
           56.84210526315789,
           58.421052631578945,
           60
          ],
          [
           30,
           31.57894736842105,
           33.1578947368421,
           34.73684210526316,
           36.31578947368421,
           37.89473684210526,
           39.473684210526315,
           41.05263157894737,
           42.631578947368425,
           44.21052631578947,
           45.78947368421053,
           47.368421052631575,
           48.94736842105263,
           50.526315789473685,
           52.10526315789474,
           53.684210526315795,
           55.26315789473684,
           56.84210526315789,
           58.421052631578945,
           60
          ],
          [
           30,
           31.57894736842105,
           33.1578947368421,
           34.73684210526316,
           36.31578947368421,
           37.89473684210526,
           39.473684210526315,
           41.05263157894737,
           42.631578947368425,
           44.21052631578947,
           45.78947368421053,
           47.368421052631575,
           48.94736842105263,
           50.526315789473685,
           52.10526315789474,
           53.684210526315795,
           55.26315789473684,
           56.84210526315789,
           58.421052631578945,
           60
          ],
          [
           30,
           31.57894736842105,
           33.1578947368421,
           34.73684210526316,
           36.31578947368421,
           37.89473684210526,
           39.473684210526315,
           41.05263157894737,
           42.631578947368425,
           44.21052631578947,
           45.78947368421053,
           47.368421052631575,
           48.94736842105263,
           50.526315789473685,
           52.10526315789474,
           53.684210526315795,
           55.26315789473684,
           56.84210526315789,
           58.421052631578945,
           60
          ],
          [
           30,
           31.57894736842105,
           33.1578947368421,
           34.73684210526316,
           36.31578947368421,
           37.89473684210526,
           39.473684210526315,
           41.05263157894737,
           42.631578947368425,
           44.21052631578947,
           45.78947368421053,
           47.368421052631575,
           48.94736842105263,
           50.526315789473685,
           52.10526315789474,
           53.684210526315795,
           55.26315789473684,
           56.84210526315789,
           58.421052631578945,
           60
          ],
          [
           30,
           31.57894736842105,
           33.1578947368421,
           34.73684210526316,
           36.31578947368421,
           37.89473684210526,
           39.473684210526315,
           41.05263157894737,
           42.631578947368425,
           44.21052631578947,
           45.78947368421053,
           47.368421052631575,
           48.94736842105263,
           50.526315789473685,
           52.10526315789474,
           53.684210526315795,
           55.26315789473684,
           56.84210526315789,
           58.421052631578945,
           60
          ],
          [
           30,
           31.57894736842105,
           33.1578947368421,
           34.73684210526316,
           36.31578947368421,
           37.89473684210526,
           39.473684210526315,
           41.05263157894737,
           42.631578947368425,
           44.21052631578947,
           45.78947368421053,
           47.368421052631575,
           48.94736842105263,
           50.526315789473685,
           52.10526315789474,
           53.684210526315795,
           55.26315789473684,
           56.84210526315789,
           58.421052631578945,
           60
          ],
          [
           30,
           31.57894736842105,
           33.1578947368421,
           34.73684210526316,
           36.31578947368421,
           37.89473684210526,
           39.473684210526315,
           41.05263157894737,
           42.631578947368425,
           44.21052631578947,
           45.78947368421053,
           47.368421052631575,
           48.94736842105263,
           50.526315789473685,
           52.10526315789474,
           53.684210526315795,
           55.26315789473684,
           56.84210526315789,
           58.421052631578945,
           60
          ],
          [
           30,
           31.57894736842105,
           33.1578947368421,
           34.73684210526316,
           36.31578947368421,
           37.89473684210526,
           39.473684210526315,
           41.05263157894737,
           42.631578947368425,
           44.21052631578947,
           45.78947368421053,
           47.368421052631575,
           48.94736842105263,
           50.526315789473685,
           52.10526315789474,
           53.684210526315795,
           55.26315789473684,
           56.84210526315789,
           58.421052631578945,
           60
          ],
          [
           30,
           31.57894736842105,
           33.1578947368421,
           34.73684210526316,
           36.31578947368421,
           37.89473684210526,
           39.473684210526315,
           41.05263157894737,
           42.631578947368425,
           44.21052631578947,
           45.78947368421053,
           47.368421052631575,
           48.94736842105263,
           50.526315789473685,
           52.10526315789474,
           53.684210526315795,
           55.26315789473684,
           56.84210526315789,
           58.421052631578945,
           60
          ]
         ],
         "y": [
          15,
          15.526315789473685,
          16.05263157894737,
          16.57894736842105,
          17.105263157894736,
          17.63157894736842,
          18.157894736842106,
          18.684210526315788,
          19.210526315789473,
          19.736842105263158,
          20.263157894736842,
          20.789473684210527,
          21.315789473684212,
          21.842105263157894,
          22.36842105263158,
          22.894736842105264,
          23.421052631578945,
          23.94736842105263,
          24.473684210526315,
          25
         ],
         "z": [
          [
           0.9999999803243035,
           0.99999936477737,
           0.9999794924656988,
           0.9993383458805456,
           0.979071929791822,
           0.5916817041988393,
           0.04295611888283608,
           0.0013883331854491882,
           4.306081566993824e-05,
           1.3338416018543245e-06,
           4.131509012752945e-08,
           1.2797130723391e-09,
           3.9638434260381786e-11,
           1.2277794942382094e-12,
           3.802981915263035e-14,
           1.1779534937398972e-15,
           3.648648519323839e-17,
           1.1301495422622993e-18,
           3.5005783130690374e-20,
           1.0842855805966907e-21
          ],
          [
           0.9999999975753902,
           0.999999921722322,
           0.9999974728385629,
           0.9999184179212951,
           0.9973728561151078,
           0.921625145828837,
           0.2669883590048589,
           0.011156117248193972,
           0.00034933128708684955,
           1.082401553141902e-05,
           3.35271661304752e-07,
           1.0384865400223977e-08,
           3.216657053828737e-10,
           9.963424755438105e-12,
           3.0861180152585663e-13,
           9.559086998490188e-15,
           2.960876537867002e-16,
           9.171158159640142e-18,
           2.840717635924259e-19,
           8.7989723288863e-21
          ],
          [
           0.9999999997012186,
           0.9999999903539459,
           0.9999996885805893,
           0.9999899460305093,
           0.9996755131516601,
           0.9896293322760779,
           0.74720431905386,
           0.08387425863685762,
           0.002827793279854323,
           8.783007050920109e-05,
           2.720721446528616e-06,
           8.427312709800191e-08,
           2.610315663130407e-09,
           8.085314449130845e-11,
           2.5043833013932344e-12,
           7.757194552272877e-14,
           2.402749902069486e-15,
           7.442390484073941e-17,
           2.3052410102993236e-18,
           7.140361859456019e-20
          ],
          [
           0.9999999999631817,
           0.9999999988113297,
           0.9999999616241925,
           0.9999987610518779,
           0.9999600025407731,
           0.9987103097277709,
           0.9599776019698858,
           0.42626136636126394,
           0.0224949368305542,
           0.000712295483447208,
           2.207821420852911e-05,
           6.838756154817998e-07,
           2.1182698796317877e-08,
           6.561228825727769e-10,
           2.0323058577763655e-11,
           6.294959689276372e-13,
           1.9498304026056083e-14,
           6.039496337680266e-16,
           1.870701983316522e-17,
           5.79440025246975e-19
          ],
          [
           0.999999999995463,
           0.9999999998535218,
           0.9999999952710004,
           0.9999998473259157,
           0.9999950709937919,
           0.9998408932822429,
           0.9948887367297942,
           0.8577336186754703,
           0.15736053620298424,
           0.00575112786486496,
           0.00017913646338188312,
           5.549620363435834e-06,
           1.7189747406420618e-07,
           5.324434046221302e-09,
           1.6492152366336296e-10,
           5.10835679348132e-12,
           1.5822864442321778e-13,
           4.901048405201006e-15,
           1.518073769618571e-16,
           4.702153048638331e-18
          ],
          [
           0.9999999999994409,
           0.9999999999819498,
           0.9999999994172517,
           0.9999999811861745,
           0.9999993926025387,
           0.9999803907566789,
           0.9993673105294635,
           0.9799702976488237,
           0.6024571971101853,
           0.04483573090159693,
           0.0014518410967875501,
           4.503336468529205e-05,
           1.3949454782731857e-06,
           4.320775532132768e-08,
           1.3383373784703049e-09,
           4.1454291078510916e-11,
           1.2840246968417393e-12,
           3.977198449523189e-14,
           1.231916141938489e-15,
           3.815794962281904e-17
          ],
          [
           0.9999999999999312,
           0.9999999999977758,
           0.9999999999281888,
           0.9999999976815974,
           0.999999925151184,
           0.9999975835376513,
           0.9999219912502242,
           0.9974876459663877,
           0.924800094582196,
           0.2758454015061512,
           0.011661224977069569,
           0.00036532848451499675,
           1.1319863570814656e-05,
           3.506306211129565e-07,
           1.0860601356756866e-08,
           3.364013748159454e-10,
           1.0419854307014242e-11,
           3.2274946499404674e-13,
           9.9969936319359e-15,
           3.0965157968203894e-16
          ],
          [
           0.9999999999999916,
           0.999999999999726,
           0.9999999999911509,
           0.9999999997143063,
           0.9999999907764799,
           0.999999702221949,
           0.9999903864286699,
           0.999689722508965,
           0.9900791004502656,
           0.7555710746286393,
           0.08738083570733488,
           0.002956952875620187,
           9.185324110033629e-05,
           2.84535872405916e-06,
           8.813372153874318e-08,
           2.7298955499262073e-09,
           8.455706813069683e-11,
           2.6191103731879514e-12,
           8.112555577013407e-14,
           2.5128210961901476e-15
          ],
          [
           0.9999999999999989,
           0.9999999999999662,
           0.9999999999989095,
           0.9999999999647944,
           0.9999999988633981,
           0.9999999633051999,
           0.9999988153224894,
           0.9999617545157653,
           0.9987667334328965,
           0.9616635273955194,
           0.43725031995207325,
           0.02350122320297019,
           0.0007449017949352044,
           2.3089605068685306e-05,
           7.152042825745418e-07,
           2.2153088971986094e-08,
           6.861802052524767e-10,
           2.125406821961821e-11,
           6.583334991817363e-13,
           2.039153124276633e-14
          ],
          [
           0.9999999999999998,
           0.9999999999999958,
           0.9999999999998657,
           0.9999999999956617,
           0.999999999859938,
           0.9999999954781487,
           0.9999998540136248,
           0.999995286902136,
           0.9998478617059141,
           0.9951115351567116,
           0.8631123733442866,
           0.1633914515759604,
           0.006013005756082579,
           0.0001873412584241054,
           5.803849817151573e-06,
           1.7977218329583015e-07,
           5.568349074463013e-09,
           1.7247666247621686e-10,
           5.342373214318864e-12,
           1.654771790379793e-13
          ],
          [
           1,
           0.9999999999999996,
           0.9999999999999833,
           0.9999999999994653,
           0.9999999999827403,
           0.9999999994427784,
           0.9999999820102922,
           0.9999994192088597,
           0.9999812497005809,
           0.9993950079861009,
           0.9808308567941649,
           0.6131342546684042,
           0.04679356698478796,
           0.0015182496971273781,
           4.709626884836585e-05,
           1.458848546336162e-06,
           4.5187124461864884e-08,
           1.3996472938516457e-09,
           4.335333322031241e-11,
           1.3428465207610393e-12
          ],
          [
           1,
           1,
           0.999999999999998,
           0.999999999999934,
           0.999999999997873,
           0.9999999999313343,
           0.9999999977831524,
           0.9999999284298489,
           0.9999976893877184,
           0.9999254080775374,
           0.9975974322970359,
           0.9278564947503756,
           0.2848820735893239,
           0.01218892021750012,
           0.0003820579739772649,
           1.1838426134849198e-05,
           3.666931821708731e-07,
           1.1358131018749362e-08,
           3.518120927541312e-10,
           1.0897193128310792e-11
          ],
          [
           1,
           1,
           0.9999999999999998,
           0.9999999999999918,
           0.999999999999738,
           0.9999999999915383,
           0.9999999997268207,
           0.9999999911805056,
           0.9999997152657649,
           0.9999908075360662,
           0.9997033098197583,
           0.9905095495737801,
           0.7637484712191377,
           0.09101944894100471,
           0.0030919935496684257,
           9.606068054775693e-05,
           2.975705665379136e-06,
           9.217117174093321e-08,
           2.8549534520776066e-09,
           8.843067039435921e-11
          ],
          [
           1,
           1,
           1,
           0.9999999999999989,
           0.9999999999999678,
           0.9999999999989573,
           0.9999999999663365,
           0.9999999989131856,
           0.9999999649125727,
           0.9999988672158457,
           0.9999634297532803,
           0.998820691526524,
           0.9632811504238399,
           0.44830121048139815,
           0.024551394077515953,
           0.0007789995418921029,
           2.4147326069550878e-05,
           7.479681297285261e-07,
           2.3167933212751755e-08,
           7.1761446915772e-10
          ],
          [
           1,
           1,
           1,
           0.9999999999999998,
           0.999999999999996,
           0.9999999999998714,
           0.9999999999958518,
           0.9999999998660734,
           0.9999999956762231,
           0.9999998604083866,
           0.9999954933529547,
           0.9998545249767676,
           0.9953246675060603,
           0.8683189899766187,
           0.16960698105105604,
           0.0062867328694478615,
           0.00019592177524211217,
           6.069725513060475e-06,
           1.8800763682670381e-07,
           5.823437973981789e-09
          ],
          [
           1,
           1,
           1,
           1,
           0.9999999999999996,
           0.9999999999999842,
           0.9999999999994889,
           0.9999999999834963,
           0.9999999994671869,
           0.9999999827983103,
           0.9999994446497233,
           0.9999820710208281,
           0.9994214936238951,
           0.9816551348783296,
           0.6237036630969692,
           0.0488325248582005,
           0.0015876910605902524,
           4.925366659422624e-05,
           1.5256790376864422e-06,
           4.725716950028788e-08
          ],
          [
           1,
           1,
           1,
           1,
           1,
           0.999999999999998,
           0.9999999999999369,
           0.9999999999979663,
           0.9999999999343421,
           0.9999999978802587,
           0.9999999315648955,
           0.9999977906011679,
           0.9999286752565593,
           0.9977024321701172,
           0.93079796712684,
           0.29409455790818806,
           0.012740186973596712,
           0.00039955325084283655,
           1.2380743738140874e-05,
           3.834915767620311e-07
          ],
          [
           1,
           1,
           1,
           1,
           1,
           0.9999999999999998,
           0.9999999999999922,
           0.9999999999997493,
           0.9999999999919091,
           0.9999999997387872,
           0.9999999915668333,
           0.9999997277382124,
           0.999991210197676,
           0.9997163022997024,
           0.9909214935741048,
           0.77173494187453,
           0.09479383928638077,
           0.003233181379017966,
           0.00010046082705609143,
           3.1120238299734793e-06
          ],
          [
           1,
           1,
           1,
           1,
           1,
           1,
           0.9999999999999991,
           0.9999999999999691,
           0.999999999999003,
           0.9999999999678111,
           0.9999999989607922,
           0.9999999664495363,
           0.9999989168360792,
           0.9999650316142215,
           0.9988722915018049,
           0.9648330132486646,
           0.45940339235031324,
           0.025647260140382072,
           0.0008146568346621865,
           2.5253499413310156e-05
          ],
          [
           1,
           1,
           1,
           1,
           1,
           1,
           0.9999999999999998,
           0.9999999999999962,
           0.9999999999998772,
           0.9999999999960334,
           0.9999999998719398,
           0.9999999958656212,
           0.9999998665230334,
           0.9999956907605156,
           0.9998608964538838,
           0.9955285492451361,
           0.8733566270635058,
           0.1760092098590512,
           0.006572838330086848,
           0.00020489521234469524
          ]
         ]
        },
        {
         "marker": {
          "color": "#1f77b4",
          "opacity": 0.8,
          "size": 4
         },
         "mode": "markers",
         "name": "chinstrap",
         "type": "scatter3d",
         "x": [
          46.5,
          50,
          51.3,
          45.4,
          52.7,
          45.2,
          46.1,
          51.3,
          46,
          51.3,
          46.6,
          51.7,
          47,
          52,
          45.9,
          50.5,
          50.3,
          58,
          46.4,
          49.2,
          42.4,
          48.5,
          43.2,
          50.6,
          46.7,
          52,
          50.5,
          49.5,
          46.4,
          52.8,
          40.9,
          54.2,
          42.5,
          51,
          49.7,
          47.5,
          47.6,
          52,
          46.9,
          53.5,
          49,
          46.2,
          50.9,
          45.5,
          50.9,
          50.8,
          50.1,
          49,
          51.5,
          49.8,
          48.1,
          51.4,
          45.7,
          50.7,
          42.5,
          52.2,
          45.2,
          49.3,
          50.2,
          45.6,
          51.9,
          46.8,
          45.7,
          55.8,
          43.5,
          49.6,
          50.8,
          50.2
         ],
         "y": [
          17.9,
          19.5,
          19.2,
          18.7,
          19.8,
          17.8,
          18.2,
          18.2,
          18.9,
          19.9,
          17.8,
          20.3,
          17.3,
          18.1,
          17.1,
          19.6,
          20,
          17.8,
          18.6,
          18.2,
          17.3,
          17.5,
          16.6,
          19.4,
          17.9,
          19,
          18.4,
          19,
          17.8,
          20,
          16.6,
          20.8,
          16.7,
          18.8,
          18.6,
          16.8,
          18.3,
          20.7,
          16.6,
          19.9,
          19.5,
          17.5,
          19.1,
          17,
          17.9,
          18.5,
          17.9,
          19.6,
          18.7,
          17.3,
          16.4,
          19,
          17.3,
          19.7,
          17.3,
          18.8,
          16.6,
          19.9,
          18.8,
          19.4,
          19.5,
          16.5,
          17,
          19.8,
          18.1,
          18.2,
          19,
          18.7
         ],
         "z": [
          0.0008848189063088055,
          0.0002325052685720392,
          4.03488274158065e-06,
          0.19369688521981623,
          2.0157834097238774e-06,
          0.010289377429188616,
          0.0069946142684093136,
          7.55413819336997e-08,
          0.1244553615868687,
          6.533677479701188e-05,
          0.00047719624491596033,
          0.00013301737264749503,
          2.7088794211454976e-05,
          1.0875066076466322e-08,
          0.00013755597075319146,
          0.00011518601662303723,
          0.00087754036424644,
          6.080682902819305e-15,
          0.01755775629813432,
          7.676203122032465e-06,
          0.4028224101944262,
          2.2119928082115498e-06,
          0.0071121171578184365,
          4.1718854205730214e-05,
          0.0005699696393701987,
          3.90224632825302e-07,
          9.733568954381129e-07,
          9.561305031007697e-05,
          0.0007408357958716495,
          3.5842886236781063e-06,
          0.5305878837521943,
          3.967751104986286e-06,
          0.04739833404195497,
          1.5903113440154254e-06,
          1.2541649519285054e-05,
          1.233469107302145e-06,
          0.00038624498222115483,
          0.0003374188935858314,
          2.084571945823801e-06,
          5.160018482784376e-07,
          0.002095657174233386,
          0.00034892930743080514,
          6.536482103115604e-06,
          0.0002228212744595822,
          5.5229312425074145e-08,
          7.487342789168683e-07,
          3.211645136897126e-07,
          0.0031163095300692834,
          3.555241870089739e-07,
          5.712790557177524e-08,
          6.708897777422084e-08,
          1.4612776416862186e-06,
          0.00047315420441389704,
          0.00011041475047489888,
          0.35119826964032214,
          1.1340853764868946e-07,
          8.783456687511053e-05,
          0.005299968403247891,
          9.247766661428715e-06,
          0.7147075963901374,
          3.5539140206571506e-06,
          1.7451068326561505e-06,
          0.00014349990087942594,
          2.196758762900115e-09,
          0.5909982328848136,
          3.1832400740014376e-06,
          5.472043251985684e-06,
          6.212600253907793e-06
         ]
        },
        {
         "marker": {
          "color": "#ff7f0e",
          "opacity": 0.8,
          "size": 4
         },
         "mode": "markers",
         "name": "adelie",
         "type": "scatter3d",
         "x": [
          39.1,
          39.5,
          40.3,
          36.7,
          39.3,
          38.9,
          39.2,
          41.1,
          38.6,
          34.6,
          36.6,
          38.7,
          42.5,
          34.4,
          46,
          37.8,
          37.7,
          35.9,
          38.2,
          38.8,
          35.3,
          40.6,
          40.5,
          37.9,
          40.5,
          39.5,
          37.2,
          39.5,
          40.9,
          36.4,
          39.2,
          38.8,
          42.2,
          37.6,
          39.8,
          36.5,
          40.8,
          36,
          44.1,
          37,
          39.6,
          41.1,
          36,
          42.3,
          39.6,
          40.1,
          35,
          42,
          34.5,
          41.4,
          39,
          40.6,
          36.5,
          37.6,
          35.7,
          41.3,
          37.6,
          41.1,
          36.4,
          41.6,
          35.5,
          41.1,
          35.9,
          41.8,
          33.5,
          39.7,
          39.6,
          45.8,
          35.5,
          42.8,
          40.9,
          37.2,
          36.2,
          42.1,
          34.6,
          42.9,
          36.7,
          35.1,
          37.3,
          41.3,
          36.3,
          36.9,
          38.3,
          38.9,
          35.7,
          41.1,
          34,
          39.6,
          36.2,
          40.8,
          38.1,
          40.3,
          33.1,
          43.2,
          35,
          41,
          37.7,
          37.8,
          37.9,
          39.7,
          38.6,
          38.2,
          38.1,
          43.2,
          38.1,
          45.6,
          39.7,
          42.2,
          39.6,
          42.7,
          38.6,
          37.3,
          35.7,
          41.1,
          36.2,
          37.7,
          40.2,
          41.4,
          35.2,
          40.6,
          38.8,
          41.5,
          39,
          44.1,
          38.5,
          43.1,
          36.8,
          37.5,
          38.1,
          41.1,
          35.6,
          40.2,
          37,
          39.7,
          40.2,
          40.6,
          32.1,
          40.7,
          37.3,
          39,
          39.2,
          36.6,
          36,
          37.8,
          36,
          41.5
         ],
         "y": [
          18.7,
          17.4,
          18,
          19.3,
          20.6,
          17.8,
          19.6,
          17.6,
          21.2,
          21.1,
          17.8,
          19,
          20.7,
          18.4,
          21.5,
          18.3,
          18.7,
          19.2,
          18.1,
          17.2,
          18.9,
          18.6,
          17.9,
          18.6,
          18.9,
          16.7,
          18.1,
          17.8,
          18.9,
          17,
          21.1,
          20,
          18.5,
          19.3,
          19.1,
          18,
          18.4,
          18.5,
          19.7,
          16.9,
          18.8,
          19,
          17.9,
          21.2,
          17.7,
          18.9,
          17.9,
          19.5,
          18.1,
          18.6,
          17.5,
          18.8,
          16.6,
          19.1,
          16.9,
          21.1,
          17,
          18.2,
          17.1,
          18,
          16.2,
          19.1,
          16.6,
          19.4,
          19,
          18.4,
          17.2,
          18.9,
          17.5,
          18.5,
          16.8,
          19.4,
          16.1,
          19.1,
          17.2,
          17.6,
          18.8,
          19.4,
          17.8,
          20.3,
          19.5,
          18.6,
          19.2,
          18.8,
          18,
          18.1,
          17.1,
          18.1,
          17.3,
          18.9,
          18.6,
          18.5,
          16.1,
          18.5,
          17.9,
          20,
          16,
          20,
          18.6,
          18.9,
          17.2,
          20,
          17,
          19,
          16.5,
          20.3,
          17.7,
          19.5,
          20.7,
          18.3,
          17,
          20.5,
          17,
          18.6,
          17.2,
          19.8,
          17,
          18.5,
          15.9,
          19,
          17.6,
          18.3,
          17.1,
          18,
          17.9,
          19.2,
          18.5,
          18.5,
          17.6,
          17.5,
          17.5,
          20.1,
          16.5,
          17.9,
          17.1,
          17.2,
          15.5,
          17,
          16.8,
          18.7,
          18.6,
          18.4,
          17.8,
          18.1,
          17.1,
          18.5
         ],
         "z": [
          0.9999960328421921,
          0.9983174386882284,
          0.9990999211217139,
          0.9999999981455356,
          0.999999996785673,
          0.999908338951097,
          0.9999998622257827,
          0.9749239289005318,
          0.999999999936684,
          0.9999999999999858,
          0.9999994190750379,
          0.9999995012215824,
          0.9999975307996033,
          0.9999999995783064,
          0.9997733883657364,
          0.9999988853641725,
          0.9999998178183779,
          0.9999999995252935,
          0.9999940442089297,
          0.9992003570984974,
          0.99999999958188,
          0.9998397777998235,
          0.9979218711766759,
          0.9999995788772148,
          0.9999610137663824,
          0.9734318573155119,
          0.9999993404553307,
          0.9996568420228145,
          0.9999059916566514,
          0.9999909823155098,
          0.9999999996470637,
          0.9999999883632981,
          0.9919982674937995,
          0.9999999865616405,
          0.9999962294148322,
          0.9999997896120302,
          0.9994489107621723,
          0.9999999904203781,
          0.9955599424389552,
          0.9999497356098636,
          0.9999919913056371,
          0.9999019292781912,
          0.999999895783388,
          0.9999997824325348,
          0.9993636424121286,
          0.9999838325258482,
          0.9999999884591061,
          0.999902760288324,
          0.9999999982667502,
          0.999069008320957,
          0.9996233611656509,
          0.9999276845104479,
          0.9999448298924376,
          0.9999999702233531,
          0.9999971234349693,
          0.9999999641357906,
          0.9998735609904608,
          0.9976412899882301,
          0.9999939419681774,
          0.9845013186358649,
          0.999970003104596,
          0.9999341146921344,
          0.9999852666037636,
          0.9999067882471032,
          0.999999999994651,
          0.9999510026313727,
          0.9953678231157547,
          0.1808226268297169,
          0.999999829726432,
          0.9706797539389795,
          0.7146580079627189,
          0.9999999962562875,
          0.9997916699588898,
          0.9994053568683166,
          0.9999999224978404,
          0.42541339647308823,
          0.999999986446785,
          0.9999999999631586,
          0.9999972891381155,
          0.9999991354719833,
          0.9999999996529356,
          0.9999999533650665,
          0.9999999066532352,
          0.9999982837672907,
          0.999999963820468,
          0.9964929726983239,
          0.9999999691922435,
          0.9998703232029672,
          0.999998239385127,
          0.9999245594736115,
          0.9999993460445753,
          0.9998767479195773,
          0.9999997729194625,
          0.9321053351246747,
          0.9999999884591061,
          0.9999985264534526,
          0.9916533281338832,
          0.9999999987113577,
          0.9999995788772148,
          0.9999932954865077,
          0.9994849134129886,
          0.9999999968924982,
          0.9996201433189779,
          0.9901317580350268,
          0.9972304821318789,
          0.9889979338158024,
          0.999207128222857,
          0.9998490059540718,
          0.9999999958213639,
          0.949028135967163,
          0.9988593881058122,
          0.999999999941324,
          0.999998067543016,
          0.9995186821519734,
          0.9999973792308737,
          0.9999999977086462,
          0.9628212098824532,
          0.9986147980925777,
          0.9999488727794877,
          0.9999673623394727,
          0.9998370277591275,
          0.9961844763508837,
          0.998153517794854,
          0.20586105621580902,
          0.9999744630071717,
          0.9964034778658938,
          0.9999999442934355,
          0.9999997400471609,
          0.9999650714165107,
          0.9631246597383941,
          0.9999997878138795,
          0.9999998297678351,
          0.9997532630665397,
          0.9996420170066261,
          0.9747150269934907,
          0.9596706439500292,
          0.9999997264284188,
          0.8960272369822534,
          0.9998552250574241,
          0.9999968164618193,
          0.9999926411063152,
          0.9999999466011824,
          0.9999998448678901,
          0.9999975301990561,
          0.9999974878007922,
          0.9982744212622886
         ]
        }
       ],
       "layout": {
        "autosize": false,
        "coloraxis": {
         "showscale": false
        },
        "height": 500,
        "margin": {
         "b": 0,
         "l": 0,
         "r": 0,
         "t": 0
        },
        "scene": {
         "xaxis": {
          "title": {
           "text": "bill_length_mm"
          }
         },
         "yaxis": {
          "title": {
           "text": "bill_width_mm"
          }
         }
        },
        "template": {
         "data": {
          "bar": [
           {
            "error_x": {
             "color": "#2a3f5f"
            },
            "error_y": {
             "color": "#2a3f5f"
            },
            "marker": {
             "line": {
              "color": "#E5ECF6",
              "width": 0.5
             },
             "pattern": {
              "fillmode": "overlay",
              "size": 10,
              "solidity": 0.2
             }
            },
            "type": "bar"
           }
          ],
          "barpolar": [
           {
            "marker": {
             "line": {
              "color": "#E5ECF6",
              "width": 0.5
             },
             "pattern": {
              "fillmode": "overlay",
              "size": 10,
              "solidity": 0.2
             }
            },
            "type": "barpolar"
           }
          ],
          "carpet": [
           {
            "aaxis": {
             "endlinecolor": "#2a3f5f",
             "gridcolor": "white",
             "linecolor": "white",
             "minorgridcolor": "white",
             "startlinecolor": "#2a3f5f"
            },
            "baxis": {
             "endlinecolor": "#2a3f5f",
             "gridcolor": "white",
             "linecolor": "white",
             "minorgridcolor": "white",
             "startlinecolor": "#2a3f5f"
            },
            "type": "carpet"
           }
          ],
          "choropleth": [
           {
            "colorbar": {
             "outlinewidth": 0,
             "ticks": ""
            },
            "type": "choropleth"
           }
          ],
          "contour": [
           {
            "colorbar": {
             "outlinewidth": 0,
             "ticks": ""
            },
            "colorscale": [
             [
              0,
              "#0d0887"
             ],
             [
              0.1111111111111111,
              "#46039f"
             ],
             [
              0.2222222222222222,
              "#7201a8"
             ],
             [
              0.3333333333333333,
              "#9c179e"
             ],
             [
              0.4444444444444444,
              "#bd3786"
             ],
             [
              0.5555555555555556,
              "#d8576b"
             ],
             [
              0.6666666666666666,
              "#ed7953"
             ],
             [
              0.7777777777777778,
              "#fb9f3a"
             ],
             [
              0.8888888888888888,
              "#fdca26"
             ],
             [
              1,
              "#f0f921"
             ]
            ],
            "type": "contour"
           }
          ],
          "contourcarpet": [
           {
            "colorbar": {
             "outlinewidth": 0,
             "ticks": ""
            },
            "type": "contourcarpet"
           }
          ],
          "heatmap": [
           {
            "colorbar": {
             "outlinewidth": 0,
             "ticks": ""
            },
            "colorscale": [
             [
              0,
              "#0d0887"
             ],
             [
              0.1111111111111111,
              "#46039f"
             ],
             [
              0.2222222222222222,
              "#7201a8"
             ],
             [
              0.3333333333333333,
              "#9c179e"
             ],
             [
              0.4444444444444444,
              "#bd3786"
             ],
             [
              0.5555555555555556,
              "#d8576b"
             ],
             [
              0.6666666666666666,
              "#ed7953"
             ],
             [
              0.7777777777777778,
              "#fb9f3a"
             ],
             [
              0.8888888888888888,
              "#fdca26"
             ],
             [
              1,
              "#f0f921"
             ]
            ],
            "type": "heatmap"
           }
          ],
          "heatmapgl": [
           {
            "colorbar": {
             "outlinewidth": 0,
             "ticks": ""
            },
            "colorscale": [
             [
              0,
              "#0d0887"
             ],
             [
              0.1111111111111111,
              "#46039f"
             ],
             [
              0.2222222222222222,
              "#7201a8"
             ],
             [
              0.3333333333333333,
              "#9c179e"
             ],
             [
              0.4444444444444444,
              "#bd3786"
             ],
             [
              0.5555555555555556,
              "#d8576b"
             ],
             [
              0.6666666666666666,
              "#ed7953"
             ],
             [
              0.7777777777777778,
              "#fb9f3a"
             ],
             [
              0.8888888888888888,
              "#fdca26"
             ],
             [
              1,
              "#f0f921"
             ]
            ],
            "type": "heatmapgl"
           }
          ],
          "histogram": [
           {
            "marker": {
             "pattern": {
              "fillmode": "overlay",
              "size": 10,
              "solidity": 0.2
             }
            },
            "type": "histogram"
           }
          ],
          "histogram2d": [
           {
            "colorbar": {
             "outlinewidth": 0,
             "ticks": ""
            },
            "colorscale": [
             [
              0,
              "#0d0887"
             ],
             [
              0.1111111111111111,
              "#46039f"
             ],
             [
              0.2222222222222222,
              "#7201a8"
             ],
             [
              0.3333333333333333,
              "#9c179e"
             ],
             [
              0.4444444444444444,
              "#bd3786"
             ],
             [
              0.5555555555555556,
              "#d8576b"
             ],
             [
              0.6666666666666666,
              "#ed7953"
             ],
             [
              0.7777777777777778,
              "#fb9f3a"
             ],
             [
              0.8888888888888888,
              "#fdca26"
             ],
             [
              1,
              "#f0f921"
             ]
            ],
            "type": "histogram2d"
           }
          ],
          "histogram2dcontour": [
           {
            "colorbar": {
             "outlinewidth": 0,
             "ticks": ""
            },
            "colorscale": [
             [
              0,
              "#0d0887"
             ],
             [
              0.1111111111111111,
              "#46039f"
             ],
             [
              0.2222222222222222,
              "#7201a8"
             ],
             [
              0.3333333333333333,
              "#9c179e"
             ],
             [
              0.4444444444444444,
              "#bd3786"
             ],
             [
              0.5555555555555556,
              "#d8576b"
             ],
             [
              0.6666666666666666,
              "#ed7953"
             ],
             [
              0.7777777777777778,
              "#fb9f3a"
             ],
             [
              0.8888888888888888,
              "#fdca26"
             ],
             [
              1,
              "#f0f921"
             ]
            ],
            "type": "histogram2dcontour"
           }
          ],
          "mesh3d": [
           {
            "colorbar": {
             "outlinewidth": 0,
             "ticks": ""
            },
            "type": "mesh3d"
           }
          ],
          "parcoords": [
           {
            "line": {
             "colorbar": {
              "outlinewidth": 0,
              "ticks": ""
             }
            },
            "type": "parcoords"
           }
          ],
          "pie": [
           {
            "automargin": true,
            "type": "pie"
           }
          ],
          "scatter": [
           {
            "fillpattern": {
             "fillmode": "overlay",
             "size": 10,
             "solidity": 0.2
            },
            "type": "scatter"
           }
          ],
          "scatter3d": [
           {
            "line": {
             "colorbar": {
              "outlinewidth": 0,
              "ticks": ""
             }
            },
            "marker": {
             "colorbar": {
              "outlinewidth": 0,
              "ticks": ""
             }
            },
            "type": "scatter3d"
           }
          ],
          "scattercarpet": [
           {
            "marker": {
             "colorbar": {
              "outlinewidth": 0,
              "ticks": ""
             }
            },
            "type": "scattercarpet"
           }
          ],
          "scattergeo": [
           {
            "marker": {
             "colorbar": {
              "outlinewidth": 0,
              "ticks": ""
             }
            },
            "type": "scattergeo"
           }
          ],
          "scattergl": [
           {
            "marker": {
             "colorbar": {
              "outlinewidth": 0,
              "ticks": ""
             }
            },
            "type": "scattergl"
           }
          ],
          "scattermapbox": [
           {
            "marker": {
             "colorbar": {
              "outlinewidth": 0,
              "ticks": ""
             }
            },
            "type": "scattermapbox"
           }
          ],
          "scatterpolar": [
           {
            "marker": {
             "colorbar": {
              "outlinewidth": 0,
              "ticks": ""
             }
            },
            "type": "scatterpolar"
           }
          ],
          "scatterpolargl": [
           {
            "marker": {
             "colorbar": {
              "outlinewidth": 0,
              "ticks": ""
             }
            },
            "type": "scatterpolargl"
           }
          ],
          "scatterternary": [
           {
            "marker": {
             "colorbar": {
              "outlinewidth": 0,
              "ticks": ""
             }
            },
            "type": "scatterternary"
           }
          ],
          "surface": [
           {
            "colorbar": {
             "outlinewidth": 0,
             "ticks": ""
            },
            "colorscale": [
             [
              0,
              "#0d0887"
             ],
             [
              0.1111111111111111,
              "#46039f"
             ],
             [
              0.2222222222222222,
              "#7201a8"
             ],
             [
              0.3333333333333333,
              "#9c179e"
             ],
             [
              0.4444444444444444,
              "#bd3786"
             ],
             [
              0.5555555555555556,
              "#d8576b"
             ],
             [
              0.6666666666666666,
              "#ed7953"
             ],
             [
              0.7777777777777778,
              "#fb9f3a"
             ],
             [
              0.8888888888888888,
              "#fdca26"
             ],
             [
              1,
              "#f0f921"
             ]
            ],
            "type": "surface"
           }
          ],
          "table": [
           {
            "cells": {
             "fill": {
              "color": "#EBF0F8"
             },
             "line": {
              "color": "white"
             }
            },
            "header": {
             "fill": {
              "color": "#C8D4E3"
             },
             "line": {
              "color": "white"
             }
            },
            "type": "table"
           }
          ]
         },
         "layout": {
          "annotationdefaults": {
           "arrowcolor": "#2a3f5f",
           "arrowhead": 0,
           "arrowwidth": 1
          },
          "autotypenumbers": "strict",
          "coloraxis": {
           "colorbar": {
            "outlinewidth": 0,
            "ticks": ""
           }
          },
          "colorscale": {
           "diverging": [
            [
             0,
             "#8e0152"
            ],
            [
             0.1,
             "#c51b7d"
            ],
            [
             0.2,
             "#de77ae"
            ],
            [
             0.3,
             "#f1b6da"
            ],
            [
             0.4,
             "#fde0ef"
            ],
            [
             0.5,
             "#f7f7f7"
            ],
            [
             0.6,
             "#e6f5d0"
            ],
            [
             0.7,
             "#b8e186"
            ],
            [
             0.8,
             "#7fbc41"
            ],
            [
             0.9,
             "#4d9221"
            ],
            [
             1,
             "#276419"
            ]
           ],
           "sequential": [
            [
             0,
             "#0d0887"
            ],
            [
             0.1111111111111111,
             "#46039f"
            ],
            [
             0.2222222222222222,
             "#7201a8"
            ],
            [
             0.3333333333333333,
             "#9c179e"
            ],
            [
             0.4444444444444444,
             "#bd3786"
            ],
            [
             0.5555555555555556,
             "#d8576b"
            ],
            [
             0.6666666666666666,
             "#ed7953"
            ],
            [
             0.7777777777777778,
             "#fb9f3a"
            ],
            [
             0.8888888888888888,
             "#fdca26"
            ],
            [
             1,
             "#f0f921"
            ]
           ],
           "sequentialminus": [
            [
             0,
             "#0d0887"
            ],
            [
             0.1111111111111111,
             "#46039f"
            ],
            [
             0.2222222222222222,
             "#7201a8"
            ],
            [
             0.3333333333333333,
             "#9c179e"
            ],
            [
             0.4444444444444444,
             "#bd3786"
            ],
            [
             0.5555555555555556,
             "#d8576b"
            ],
            [
             0.6666666666666666,
             "#ed7953"
            ],
            [
             0.7777777777777778,
             "#fb9f3a"
            ],
            [
             0.8888888888888888,
             "#fdca26"
            ],
            [
             1,
             "#f0f921"
            ]
           ]
          },
          "colorway": [
           "#636efa",
           "#EF553B",
           "#00cc96",
           "#ab63fa",
           "#FFA15A",
           "#19d3f3",
           "#FF6692",
           "#B6E880",
           "#FF97FF",
           "#FECB52"
          ],
          "font": {
           "color": "#2a3f5f"
          },
          "geo": {
           "bgcolor": "white",
           "lakecolor": "white",
           "landcolor": "#E5ECF6",
           "showlakes": true,
           "showland": true,
           "subunitcolor": "white"
          },
          "hoverlabel": {
           "align": "left"
          },
          "hovermode": "closest",
          "mapbox": {
           "style": "light"
          },
          "paper_bgcolor": "white",
          "plot_bgcolor": "#E5ECF6",
          "polar": {
           "angularaxis": {
            "gridcolor": "white",
            "linecolor": "white",
            "ticks": ""
           },
           "bgcolor": "#E5ECF6",
           "radialaxis": {
            "gridcolor": "white",
            "linecolor": "white",
            "ticks": ""
           }
          },
          "scene": {
           "xaxis": {
            "backgroundcolor": "#E5ECF6",
            "gridcolor": "white",
            "gridwidth": 2,
            "linecolor": "white",
            "showbackground": true,
            "ticks": "",
            "zerolinecolor": "white"
           },
           "yaxis": {
            "backgroundcolor": "#E5ECF6",
            "gridcolor": "white",
            "gridwidth": 2,
            "linecolor": "white",
            "showbackground": true,
            "ticks": "",
            "zerolinecolor": "white"
           },
           "zaxis": {
            "backgroundcolor": "#E5ECF6",
            "gridcolor": "white",
            "gridwidth": 2,
            "linecolor": "white",
            "showbackground": true,
            "ticks": "",
            "zerolinecolor": "white"
           }
          },
          "shapedefaults": {
           "line": {
            "color": "#2a3f5f"
           }
          },
          "ternary": {
           "aaxis": {
            "gridcolor": "white",
            "linecolor": "white",
            "ticks": ""
           },
           "baxis": {
            "gridcolor": "white",
            "linecolor": "white",
            "ticks": ""
           },
           "bgcolor": "#E5ECF6",
           "caxis": {
            "gridcolor": "white",
            "linecolor": "white",
            "ticks": ""
           }
          },
          "title": {
           "x": 0.05
          },
          "xaxis": {
           "automargin": true,
           "gridcolor": "white",
           "linecolor": "white",
           "ticks": "",
           "title": {
            "standoff": 15
           },
           "zerolinecolor": "white",
           "zerolinewidth": 2
          },
          "yaxis": {
           "automargin": true,
           "gridcolor": "white",
           "linecolor": "white",
           "ticks": "",
           "title": {
            "standoff": 15
           },
           "zerolinecolor": "white",
           "zerolinewidth": 2
          }
         }
        },
        "width": 500
       }
      },
      "text/html": [
       "<div>                            <div id=\"160f8c9f-66c6-4eda-abb9-387601c0b098\" class=\"plotly-graph-div\" style=\"height:500px; width:500px;\"></div>            <script type=\"text/javascript\">                require([\"plotly\"], function(Plotly) {                    window.PLOTLYENV=window.PLOTLYENV || {};                                    if (document.getElementById(\"160f8c9f-66c6-4eda-abb9-387601c0b098\")) {                    Plotly.newPlot(                        \"160f8c9f-66c6-4eda-abb9-387601c0b098\",                        [{\"colorscale\":[[0.0,\"#30123b\"],[0.07142857142857142,\"#4145ab\"],[0.14285714285714285,\"#4675ed\"],[0.21428571428571427,\"#39a2fc\"],[0.2857142857142857,\"#1bcfd4\"],[0.35714285714285715,\"#24eca6\"],[0.42857142857142855,\"#61fc6c\"],[0.5,\"#a4fc3b\"],[0.5714285714285714,\"#d1e834\"],[0.6428571428571429,\"#f3c63a\"],[0.7142857142857143,\"#fe9b2d\"],[0.7857142857142857,\"#f36315\"],[0.8571428571428571,\"#d93806\"],[0.9285714285714286,\"#b11901\"],[1.0,\"#7a0402\"]],\"opacity\":0.2,\"showscale\":false,\"x\":[[30.0,31.57894736842105,33.1578947368421,34.73684210526316,36.31578947368421,37.89473684210526,39.473684210526315,41.05263157894737,42.631578947368425,44.21052631578947,45.78947368421053,47.368421052631575,48.94736842105263,50.526315789473685,52.10526315789474,53.684210526315795,55.26315789473684,56.84210526315789,58.421052631578945,60.0],[30.0,31.57894736842105,33.1578947368421,34.73684210526316,36.31578947368421,37.89473684210526,39.473684210526315,41.05263157894737,42.631578947368425,44.21052631578947,45.78947368421053,47.368421052631575,48.94736842105263,50.526315789473685,52.10526315789474,53.684210526315795,55.26315789473684,56.84210526315789,58.421052631578945,60.0],[30.0,31.57894736842105,33.1578947368421,34.73684210526316,36.31578947368421,37.89473684210526,39.473684210526315,41.05263157894737,42.631578947368425,44.21052631578947,45.78947368421053,47.368421052631575,48.94736842105263,50.526315789473685,52.10526315789474,53.684210526315795,55.26315789473684,56.84210526315789,58.421052631578945,60.0],[30.0,31.57894736842105,33.1578947368421,34.73684210526316,36.31578947368421,37.89473684210526,39.473684210526315,41.05263157894737,42.631578947368425,44.21052631578947,45.78947368421053,47.368421052631575,48.94736842105263,50.526315789473685,52.10526315789474,53.684210526315795,55.26315789473684,56.84210526315789,58.421052631578945,60.0],[30.0,31.57894736842105,33.1578947368421,34.73684210526316,36.31578947368421,37.89473684210526,39.473684210526315,41.05263157894737,42.631578947368425,44.21052631578947,45.78947368421053,47.368421052631575,48.94736842105263,50.526315789473685,52.10526315789474,53.684210526315795,55.26315789473684,56.84210526315789,58.421052631578945,60.0],[30.0,31.57894736842105,33.1578947368421,34.73684210526316,36.31578947368421,37.89473684210526,39.473684210526315,41.05263157894737,42.631578947368425,44.21052631578947,45.78947368421053,47.368421052631575,48.94736842105263,50.526315789473685,52.10526315789474,53.684210526315795,55.26315789473684,56.84210526315789,58.421052631578945,60.0],[30.0,31.57894736842105,33.1578947368421,34.73684210526316,36.31578947368421,37.89473684210526,39.473684210526315,41.05263157894737,42.631578947368425,44.21052631578947,45.78947368421053,47.368421052631575,48.94736842105263,50.526315789473685,52.10526315789474,53.684210526315795,55.26315789473684,56.84210526315789,58.421052631578945,60.0],[30.0,31.57894736842105,33.1578947368421,34.73684210526316,36.31578947368421,37.89473684210526,39.473684210526315,41.05263157894737,42.631578947368425,44.21052631578947,45.78947368421053,47.368421052631575,48.94736842105263,50.526315789473685,52.10526315789474,53.684210526315795,55.26315789473684,56.84210526315789,58.421052631578945,60.0],[30.0,31.57894736842105,33.1578947368421,34.73684210526316,36.31578947368421,37.89473684210526,39.473684210526315,41.05263157894737,42.631578947368425,44.21052631578947,45.78947368421053,47.368421052631575,48.94736842105263,50.526315789473685,52.10526315789474,53.684210526315795,55.26315789473684,56.84210526315789,58.421052631578945,60.0],[30.0,31.57894736842105,33.1578947368421,34.73684210526316,36.31578947368421,37.89473684210526,39.473684210526315,41.05263157894737,42.631578947368425,44.21052631578947,45.78947368421053,47.368421052631575,48.94736842105263,50.526315789473685,52.10526315789474,53.684210526315795,55.26315789473684,56.84210526315789,58.421052631578945,60.0],[30.0,31.57894736842105,33.1578947368421,34.73684210526316,36.31578947368421,37.89473684210526,39.473684210526315,41.05263157894737,42.631578947368425,44.21052631578947,45.78947368421053,47.368421052631575,48.94736842105263,50.526315789473685,52.10526315789474,53.684210526315795,55.26315789473684,56.84210526315789,58.421052631578945,60.0],[30.0,31.57894736842105,33.1578947368421,34.73684210526316,36.31578947368421,37.89473684210526,39.473684210526315,41.05263157894737,42.631578947368425,44.21052631578947,45.78947368421053,47.368421052631575,48.94736842105263,50.526315789473685,52.10526315789474,53.684210526315795,55.26315789473684,56.84210526315789,58.421052631578945,60.0],[30.0,31.57894736842105,33.1578947368421,34.73684210526316,36.31578947368421,37.89473684210526,39.473684210526315,41.05263157894737,42.631578947368425,44.21052631578947,45.78947368421053,47.368421052631575,48.94736842105263,50.526315789473685,52.10526315789474,53.684210526315795,55.26315789473684,56.84210526315789,58.421052631578945,60.0],[30.0,31.57894736842105,33.1578947368421,34.73684210526316,36.31578947368421,37.89473684210526,39.473684210526315,41.05263157894737,42.631578947368425,44.21052631578947,45.78947368421053,47.368421052631575,48.94736842105263,50.526315789473685,52.10526315789474,53.684210526315795,55.26315789473684,56.84210526315789,58.421052631578945,60.0],[30.0,31.57894736842105,33.1578947368421,34.73684210526316,36.31578947368421,37.89473684210526,39.473684210526315,41.05263157894737,42.631578947368425,44.21052631578947,45.78947368421053,47.368421052631575,48.94736842105263,50.526315789473685,52.10526315789474,53.684210526315795,55.26315789473684,56.84210526315789,58.421052631578945,60.0],[30.0,31.57894736842105,33.1578947368421,34.73684210526316,36.31578947368421,37.89473684210526,39.473684210526315,41.05263157894737,42.631578947368425,44.21052631578947,45.78947368421053,47.368421052631575,48.94736842105263,50.526315789473685,52.10526315789474,53.684210526315795,55.26315789473684,56.84210526315789,58.421052631578945,60.0],[30.0,31.57894736842105,33.1578947368421,34.73684210526316,36.31578947368421,37.89473684210526,39.473684210526315,41.05263157894737,42.631578947368425,44.21052631578947,45.78947368421053,47.368421052631575,48.94736842105263,50.526315789473685,52.10526315789474,53.684210526315795,55.26315789473684,56.84210526315789,58.421052631578945,60.0],[30.0,31.57894736842105,33.1578947368421,34.73684210526316,36.31578947368421,37.89473684210526,39.473684210526315,41.05263157894737,42.631578947368425,44.21052631578947,45.78947368421053,47.368421052631575,48.94736842105263,50.526315789473685,52.10526315789474,53.684210526315795,55.26315789473684,56.84210526315789,58.421052631578945,60.0],[30.0,31.57894736842105,33.1578947368421,34.73684210526316,36.31578947368421,37.89473684210526,39.473684210526315,41.05263157894737,42.631578947368425,44.21052631578947,45.78947368421053,47.368421052631575,48.94736842105263,50.526315789473685,52.10526315789474,53.684210526315795,55.26315789473684,56.84210526315789,58.421052631578945,60.0],[30.0,31.57894736842105,33.1578947368421,34.73684210526316,36.31578947368421,37.89473684210526,39.473684210526315,41.05263157894737,42.631578947368425,44.21052631578947,45.78947368421053,47.368421052631575,48.94736842105263,50.526315789473685,52.10526315789474,53.684210526315795,55.26315789473684,56.84210526315789,58.421052631578945,60.0]],\"y\":[15.0,15.526315789473685,16.05263157894737,16.57894736842105,17.105263157894736,17.63157894736842,18.157894736842106,18.684210526315788,19.210526315789473,19.736842105263158,20.263157894736842,20.789473684210527,21.315789473684212,21.842105263157894,22.36842105263158,22.894736842105264,23.421052631578945,23.94736842105263,24.473684210526315,25.0],\"z\":[[0.9999999803243035,0.99999936477737,0.9999794924656988,0.9993383458805456,0.979071929791822,0.5916817041988393,0.04295611888283608,0.0013883331854491882,4.306081566993824e-05,1.3338416018543245e-06,4.131509012752945e-08,1.2797130723391e-09,3.9638434260381786e-11,1.2277794942382094e-12,3.802981915263035e-14,1.1779534937398972e-15,3.648648519323839e-17,1.1301495422622993e-18,3.5005783130690374e-20,1.0842855805966907e-21],[0.9999999975753902,0.999999921722322,0.9999974728385629,0.9999184179212951,0.9973728561151078,0.921625145828837,0.2669883590048589,0.011156117248193972,0.00034933128708684955,1.082401553141902e-05,3.35271661304752e-07,1.0384865400223977e-08,3.216657053828737e-10,9.963424755438105e-12,3.0861180152585663e-13,9.559086998490188e-15,2.960876537867002e-16,9.171158159640142e-18,2.840717635924259e-19,8.7989723288863e-21],[0.9999999997012186,0.9999999903539459,0.9999996885805893,0.9999899460305093,0.9996755131516601,0.9896293322760779,0.74720431905386,0.08387425863685762,0.002827793279854323,8.783007050920109e-05,2.720721446528616e-06,8.427312709800191e-08,2.610315663130407e-09,8.085314449130845e-11,2.5043833013932344e-12,7.757194552272877e-14,2.402749902069486e-15,7.442390484073941e-17,2.3052410102993236e-18,7.140361859456019e-20],[0.9999999999631817,0.9999999988113297,0.9999999616241925,0.9999987610518779,0.9999600025407731,0.9987103097277709,0.9599776019698858,0.42626136636126394,0.0224949368305542,0.000712295483447208,2.207821420852911e-05,6.838756154817998e-07,2.1182698796317877e-08,6.561228825727769e-10,2.0323058577763655e-11,6.294959689276372e-13,1.9498304026056083e-14,6.039496337680266e-16,1.870701983316522e-17,5.79440025246975e-19],[0.999999999995463,0.9999999998535218,0.9999999952710004,0.9999998473259157,0.9999950709937919,0.9998408932822429,0.9948887367297942,0.8577336186754703,0.15736053620298424,0.00575112786486496,0.00017913646338188312,5.549620363435834e-06,1.7189747406420618e-07,5.324434046221302e-09,1.6492152366336296e-10,5.10835679348132e-12,1.5822864442321778e-13,4.901048405201006e-15,1.518073769618571e-16,4.702153048638331e-18],[0.9999999999994409,0.9999999999819498,0.9999999994172517,0.9999999811861745,0.9999993926025387,0.9999803907566789,0.9993673105294635,0.9799702976488237,0.6024571971101853,0.04483573090159693,0.0014518410967875501,4.503336468529205e-05,1.3949454782731857e-06,4.320775532132768e-08,1.3383373784703049e-09,4.1454291078510916e-11,1.2840246968417393e-12,3.977198449523189e-14,1.231916141938489e-15,3.815794962281904e-17],[0.9999999999999312,0.9999999999977758,0.9999999999281888,0.9999999976815974,0.999999925151184,0.9999975835376513,0.9999219912502242,0.9974876459663877,0.924800094582196,0.2758454015061512,0.011661224977069569,0.00036532848451499675,1.1319863570814656e-05,3.506306211129565e-07,1.0860601356756866e-08,3.364013748159454e-10,1.0419854307014242e-11,3.2274946499404674e-13,9.9969936319359e-15,3.0965157968203894e-16],[0.9999999999999916,0.999999999999726,0.9999999999911509,0.9999999997143063,0.9999999907764799,0.999999702221949,0.9999903864286699,0.999689722508965,0.9900791004502656,0.7555710746286393,0.08738083570733488,0.002956952875620187,9.185324110033629e-05,2.84535872405916e-06,8.813372153874318e-08,2.7298955499262073e-09,8.455706813069683e-11,2.6191103731879514e-12,8.112555577013407e-14,2.5128210961901476e-15],[0.9999999999999989,0.9999999999999662,0.9999999999989095,0.9999999999647944,0.9999999988633981,0.9999999633051999,0.9999988153224894,0.9999617545157653,0.9987667334328965,0.9616635273955194,0.43725031995207325,0.02350122320297019,0.0007449017949352044,2.3089605068685306e-05,7.152042825745418e-07,2.2153088971986094e-08,6.861802052524767e-10,2.125406821961821e-11,6.583334991817363e-13,2.039153124276633e-14],[0.9999999999999998,0.9999999999999958,0.9999999999998657,0.9999999999956617,0.999999999859938,0.9999999954781487,0.9999998540136248,0.999995286902136,0.9998478617059141,0.9951115351567116,0.8631123733442866,0.1633914515759604,0.006013005756082579,0.0001873412584241054,5.803849817151573e-06,1.7977218329583015e-07,5.568349074463013e-09,1.7247666247621686e-10,5.342373214318864e-12,1.654771790379793e-13],[1.0,0.9999999999999996,0.9999999999999833,0.9999999999994653,0.9999999999827403,0.9999999994427784,0.9999999820102922,0.9999994192088597,0.9999812497005809,0.9993950079861009,0.9808308567941649,0.6131342546684042,0.04679356698478796,0.0015182496971273781,4.709626884836585e-05,1.458848546336162e-06,4.5187124461864884e-08,1.3996472938516457e-09,4.335333322031241e-11,1.3428465207610393e-12],[1.0,1.0,0.999999999999998,0.999999999999934,0.999999999997873,0.9999999999313343,0.9999999977831524,0.9999999284298489,0.9999976893877184,0.9999254080775374,0.9975974322970359,0.9278564947503756,0.2848820735893239,0.01218892021750012,0.0003820579739772649,1.1838426134849198e-05,3.666931821708731e-07,1.1358131018749362e-08,3.518120927541312e-10,1.0897193128310792e-11],[1.0,1.0,0.9999999999999998,0.9999999999999918,0.999999999999738,0.9999999999915383,0.9999999997268207,0.9999999911805056,0.9999997152657649,0.9999908075360662,0.9997033098197583,0.9905095495737801,0.7637484712191377,0.09101944894100471,0.0030919935496684257,9.606068054775693e-05,2.975705665379136e-06,9.217117174093321e-08,2.8549534520776066e-09,8.843067039435921e-11],[1.0,1.0,1.0,0.9999999999999989,0.9999999999999678,0.9999999999989573,0.9999999999663365,0.9999999989131856,0.9999999649125727,0.9999988672158457,0.9999634297532803,0.998820691526524,0.9632811504238399,0.44830121048139815,0.024551394077515953,0.0007789995418921029,2.4147326069550878e-05,7.479681297285261e-07,2.3167933212751755e-08,7.1761446915772e-10],[1.0,1.0,1.0,0.9999999999999998,0.999999999999996,0.9999999999998714,0.9999999999958518,0.9999999998660734,0.9999999956762231,0.9999998604083866,0.9999954933529547,0.9998545249767676,0.9953246675060603,0.8683189899766187,0.16960698105105604,0.0062867328694478615,0.00019592177524211217,6.069725513060475e-06,1.8800763682670381e-07,5.823437973981789e-09],[1.0,1.0,1.0,1.0,0.9999999999999996,0.9999999999999842,0.9999999999994889,0.9999999999834963,0.9999999994671869,0.9999999827983103,0.9999994446497233,0.9999820710208281,0.9994214936238951,0.9816551348783296,0.6237036630969692,0.0488325248582005,0.0015876910605902524,4.925366659422624e-05,1.5256790376864422e-06,4.725716950028788e-08],[1.0,1.0,1.0,1.0,1.0,0.999999999999998,0.9999999999999369,0.9999999999979663,0.9999999999343421,0.9999999978802587,0.9999999315648955,0.9999977906011679,0.9999286752565593,0.9977024321701172,0.93079796712684,0.29409455790818806,0.012740186973596712,0.00039955325084283655,1.2380743738140874e-05,3.834915767620311e-07],[1.0,1.0,1.0,1.0,1.0,0.9999999999999998,0.9999999999999922,0.9999999999997493,0.9999999999919091,0.9999999997387872,0.9999999915668333,0.9999997277382124,0.999991210197676,0.9997163022997024,0.9909214935741048,0.77173494187453,0.09479383928638077,0.003233181379017966,0.00010046082705609143,3.1120238299734793e-06],[1.0,1.0,1.0,1.0,1.0,1.0,0.9999999999999991,0.9999999999999691,0.999999999999003,0.9999999999678111,0.9999999989607922,0.9999999664495363,0.9999989168360792,0.9999650316142215,0.9988722915018049,0.9648330132486646,0.45940339235031324,0.025647260140382072,0.0008146568346621865,2.5253499413310156e-05],[1.0,1.0,1.0,1.0,1.0,1.0,0.9999999999999998,0.9999999999999962,0.9999999999998772,0.9999999999960334,0.9999999998719398,0.9999999958656212,0.9999998665230334,0.9999956907605156,0.9998608964538838,0.9955285492451361,0.8733566270635058,0.1760092098590512,0.006572838330086848,0.00020489521234469524]],\"type\":\"surface\"},{\"marker\":{\"color\":\"#1f77b4\",\"opacity\":0.8,\"size\":4},\"mode\":\"markers\",\"name\":\"chinstrap\",\"x\":[46.5,50.0,51.3,45.4,52.7,45.2,46.1,51.3,46.0,51.3,46.6,51.7,47.0,52.0,45.9,50.5,50.3,58.0,46.4,49.2,42.4,48.5,43.2,50.6,46.7,52.0,50.5,49.5,46.4,52.8,40.9,54.2,42.5,51.0,49.7,47.5,47.6,52.0,46.9,53.5,49.0,46.2,50.9,45.5,50.9,50.8,50.1,49.0,51.5,49.8,48.1,51.4,45.7,50.7,42.5,52.2,45.2,49.3,50.2,45.6,51.9,46.8,45.7,55.8,43.5,49.6,50.8,50.2],\"y\":[17.9,19.5,19.2,18.7,19.8,17.8,18.2,18.2,18.9,19.9,17.8,20.3,17.3,18.1,17.1,19.6,20.0,17.8,18.6,18.2,17.3,17.5,16.6,19.4,17.9,19.0,18.4,19.0,17.8,20.0,16.6,20.8,16.7,18.8,18.6,16.8,18.3,20.7,16.6,19.9,19.5,17.5,19.1,17.0,17.9,18.5,17.9,19.6,18.7,17.3,16.4,19.0,17.3,19.7,17.3,18.8,16.6,19.9,18.8,19.4,19.5,16.5,17.0,19.8,18.1,18.2,19.0,18.7],\"z\":[0.0008848189063088055,0.0002325052685720392,4.03488274158065e-06,0.19369688521981623,2.0157834097238774e-06,0.010289377429188616,0.0069946142684093136,7.55413819336997e-08,0.1244553615868687,6.533677479701188e-05,0.00047719624491596033,0.00013301737264749503,2.7088794211454976e-05,1.0875066076466322e-08,0.00013755597075319146,0.00011518601662303723,0.00087754036424644,6.080682902819305e-15,0.01755775629813432,7.676203122032465e-06,0.4028224101944262,2.2119928082115498e-06,0.0071121171578184365,4.1718854205730214e-05,0.0005699696393701987,3.90224632825302e-07,9.733568954381129e-07,9.561305031007697e-05,0.0007408357958716495,3.5842886236781063e-06,0.5305878837521943,3.967751104986286e-06,0.04739833404195497,1.5903113440154254e-06,1.2541649519285054e-05,1.233469107302145e-06,0.00038624498222115483,0.0003374188935858314,2.084571945823801e-06,5.160018482784376e-07,0.002095657174233386,0.00034892930743080514,6.536482103115604e-06,0.0002228212744595822,5.5229312425074145e-08,7.487342789168683e-07,3.211645136897126e-07,0.0031163095300692834,3.555241870089739e-07,5.712790557177524e-08,6.708897777422084e-08,1.4612776416862186e-06,0.00047315420441389704,0.00011041475047489888,0.35119826964032214,1.1340853764868946e-07,8.783456687511053e-05,0.005299968403247891,9.247766661428715e-06,0.7147075963901374,3.5539140206571506e-06,1.7451068326561505e-06,0.00014349990087942594,2.196758762900115e-09,0.5909982328848136,3.1832400740014376e-06,5.472043251985684e-06,6.212600253907793e-06],\"type\":\"scatter3d\"},{\"marker\":{\"color\":\"#ff7f0e\",\"opacity\":0.8,\"size\":4},\"mode\":\"markers\",\"name\":\"adelie\",\"x\":[39.1,39.5,40.3,36.7,39.3,38.9,39.2,41.1,38.6,34.6,36.6,38.7,42.5,34.4,46.0,37.8,37.7,35.9,38.2,38.8,35.3,40.6,40.5,37.9,40.5,39.5,37.2,39.5,40.9,36.4,39.2,38.8,42.2,37.6,39.8,36.5,40.8,36.0,44.1,37.0,39.6,41.1,36.0,42.3,39.6,40.1,35.0,42.0,34.5,41.4,39.0,40.6,36.5,37.6,35.7,41.3,37.6,41.1,36.4,41.6,35.5,41.1,35.9,41.8,33.5,39.7,39.6,45.8,35.5,42.8,40.9,37.2,36.2,42.1,34.6,42.9,36.7,35.1,37.3,41.3,36.3,36.9,38.3,38.9,35.7,41.1,34.0,39.6,36.2,40.8,38.1,40.3,33.1,43.2,35.0,41.0,37.7,37.8,37.9,39.7,38.6,38.2,38.1,43.2,38.1,45.6,39.7,42.2,39.6,42.7,38.6,37.3,35.7,41.1,36.2,37.7,40.2,41.4,35.2,40.6,38.8,41.5,39.0,44.1,38.5,43.1,36.8,37.5,38.1,41.1,35.6,40.2,37.0,39.7,40.2,40.6,32.1,40.7,37.3,39.0,39.2,36.6,36.0,37.8,36.0,41.5],\"y\":[18.7,17.4,18.0,19.3,20.6,17.8,19.6,17.6,21.2,21.1,17.8,19.0,20.7,18.4,21.5,18.3,18.7,19.2,18.1,17.2,18.9,18.6,17.9,18.6,18.9,16.7,18.1,17.8,18.9,17.0,21.1,20.0,18.5,19.3,19.1,18.0,18.4,18.5,19.7,16.9,18.8,19.0,17.9,21.2,17.7,18.9,17.9,19.5,18.1,18.6,17.5,18.8,16.6,19.1,16.9,21.1,17.0,18.2,17.1,18.0,16.2,19.1,16.6,19.4,19.0,18.4,17.2,18.9,17.5,18.5,16.8,19.4,16.1,19.1,17.2,17.6,18.8,19.4,17.8,20.3,19.5,18.6,19.2,18.8,18.0,18.1,17.1,18.1,17.3,18.9,18.6,18.5,16.1,18.5,17.9,20.0,16.0,20.0,18.6,18.9,17.2,20.0,17.0,19.0,16.5,20.3,17.7,19.5,20.7,18.3,17.0,20.5,17.0,18.6,17.2,19.8,17.0,18.5,15.9,19.0,17.6,18.3,17.1,18.0,17.9,19.2,18.5,18.5,17.6,17.5,17.5,20.1,16.5,17.9,17.1,17.2,15.5,17.0,16.8,18.7,18.6,18.4,17.8,18.1,17.1,18.5],\"z\":[0.9999960328421921,0.9983174386882284,0.9990999211217139,0.9999999981455356,0.999999996785673,0.999908338951097,0.9999998622257827,0.9749239289005318,0.999999999936684,0.9999999999999858,0.9999994190750379,0.9999995012215824,0.9999975307996033,0.9999999995783064,0.9997733883657364,0.9999988853641725,0.9999998178183779,0.9999999995252935,0.9999940442089297,0.9992003570984974,0.99999999958188,0.9998397777998235,0.9979218711766759,0.9999995788772148,0.9999610137663824,0.9734318573155119,0.9999993404553307,0.9996568420228145,0.9999059916566514,0.9999909823155098,0.9999999996470637,0.9999999883632981,0.9919982674937995,0.9999999865616405,0.9999962294148322,0.9999997896120302,0.9994489107621723,0.9999999904203781,0.9955599424389552,0.9999497356098636,0.9999919913056371,0.9999019292781912,0.999999895783388,0.9999997824325348,0.9993636424121286,0.9999838325258482,0.9999999884591061,0.999902760288324,0.9999999982667502,0.999069008320957,0.9996233611656509,0.9999276845104479,0.9999448298924376,0.9999999702233531,0.9999971234349693,0.9999999641357906,0.9998735609904608,0.9976412899882301,0.9999939419681774,0.9845013186358649,0.999970003104596,0.9999341146921344,0.9999852666037636,0.9999067882471032,0.999999999994651,0.9999510026313727,0.9953678231157547,0.1808226268297169,0.999999829726432,0.9706797539389795,0.7146580079627189,0.9999999962562875,0.9997916699588898,0.9994053568683166,0.9999999224978404,0.42541339647308823,0.999999986446785,0.9999999999631586,0.9999972891381155,0.9999991354719833,0.9999999996529356,0.9999999533650665,0.9999999066532352,0.9999982837672907,0.999999963820468,0.9964929726983239,0.9999999691922435,0.9998703232029672,0.999998239385127,0.9999245594736115,0.9999993460445753,0.9998767479195773,0.9999997729194625,0.9321053351246747,0.9999999884591061,0.9999985264534526,0.9916533281338832,0.9999999987113577,0.9999995788772148,0.9999932954865077,0.9994849134129886,0.9999999968924982,0.9996201433189779,0.9901317580350268,0.9972304821318789,0.9889979338158024,0.999207128222857,0.9998490059540718,0.9999999958213639,0.949028135967163,0.9988593881058122,0.999999999941324,0.999998067543016,0.9995186821519734,0.9999973792308737,0.9999999977086462,0.9628212098824532,0.9986147980925777,0.9999488727794877,0.9999673623394727,0.9998370277591275,0.9961844763508837,0.998153517794854,0.20586105621580902,0.9999744630071717,0.9964034778658938,0.9999999442934355,0.9999997400471609,0.9999650714165107,0.9631246597383941,0.9999997878138795,0.9999998297678351,0.9997532630665397,0.9996420170066261,0.9747150269934907,0.9596706439500292,0.9999997264284188,0.8960272369822534,0.9998552250574241,0.9999968164618193,0.9999926411063152,0.9999999466011824,0.9999998448678901,0.9999975301990561,0.9999974878007922,0.9982744212622886],\"type\":\"scatter3d\"}],                        {\"template\":{\"data\":{\"histogram2dcontour\":[{\"type\":\"histogram2dcontour\",\"colorbar\":{\"outlinewidth\":0,\"ticks\":\"\"},\"colorscale\":[[0.0,\"#0d0887\"],[0.1111111111111111,\"#46039f\"],[0.2222222222222222,\"#7201a8\"],[0.3333333333333333,\"#9c179e\"],[0.4444444444444444,\"#bd3786\"],[0.5555555555555556,\"#d8576b\"],[0.6666666666666666,\"#ed7953\"],[0.7777777777777778,\"#fb9f3a\"],[0.8888888888888888,\"#fdca26\"],[1.0,\"#f0f921\"]]}],\"choropleth\":[{\"type\":\"choropleth\",\"colorbar\":{\"outlinewidth\":0,\"ticks\":\"\"}}],\"histogram2d\":[{\"type\":\"histogram2d\",\"colorbar\":{\"outlinewidth\":0,\"ticks\":\"\"},\"colorscale\":[[0.0,\"#0d0887\"],[0.1111111111111111,\"#46039f\"],[0.2222222222222222,\"#7201a8\"],[0.3333333333333333,\"#9c179e\"],[0.4444444444444444,\"#bd3786\"],[0.5555555555555556,\"#d8576b\"],[0.6666666666666666,\"#ed7953\"],[0.7777777777777778,\"#fb9f3a\"],[0.8888888888888888,\"#fdca26\"],[1.0,\"#f0f921\"]]}],\"heatmap\":[{\"type\":\"heatmap\",\"colorbar\":{\"outlinewidth\":0,\"ticks\":\"\"},\"colorscale\":[[0.0,\"#0d0887\"],[0.1111111111111111,\"#46039f\"],[0.2222222222222222,\"#7201a8\"],[0.3333333333333333,\"#9c179e\"],[0.4444444444444444,\"#bd3786\"],[0.5555555555555556,\"#d8576b\"],[0.6666666666666666,\"#ed7953\"],[0.7777777777777778,\"#fb9f3a\"],[0.8888888888888888,\"#fdca26\"],[1.0,\"#f0f921\"]]}],\"heatmapgl\":[{\"type\":\"heatmapgl\",\"colorbar\":{\"outlinewidth\":0,\"ticks\":\"\"},\"colorscale\":[[0.0,\"#0d0887\"],[0.1111111111111111,\"#46039f\"],[0.2222222222222222,\"#7201a8\"],[0.3333333333333333,\"#9c179e\"],[0.4444444444444444,\"#bd3786\"],[0.5555555555555556,\"#d8576b\"],[0.6666666666666666,\"#ed7953\"],[0.7777777777777778,\"#fb9f3a\"],[0.8888888888888888,\"#fdca26\"],[1.0,\"#f0f921\"]]}],\"contourcarpet\":[{\"type\":\"contourcarpet\",\"colorbar\":{\"outlinewidth\":0,\"ticks\":\"\"}}],\"contour\":[{\"type\":\"contour\",\"colorbar\":{\"outlinewidth\":0,\"ticks\":\"\"},\"colorscale\":[[0.0,\"#0d0887\"],[0.1111111111111111,\"#46039f\"],[0.2222222222222222,\"#7201a8\"],[0.3333333333333333,\"#9c179e\"],[0.4444444444444444,\"#bd3786\"],[0.5555555555555556,\"#d8576b\"],[0.6666666666666666,\"#ed7953\"],[0.7777777777777778,\"#fb9f3a\"],[0.8888888888888888,\"#fdca26\"],[1.0,\"#f0f921\"]]}],\"surface\":[{\"type\":\"surface\",\"colorbar\":{\"outlinewidth\":0,\"ticks\":\"\"},\"colorscale\":[[0.0,\"#0d0887\"],[0.1111111111111111,\"#46039f\"],[0.2222222222222222,\"#7201a8\"],[0.3333333333333333,\"#9c179e\"],[0.4444444444444444,\"#bd3786\"],[0.5555555555555556,\"#d8576b\"],[0.6666666666666666,\"#ed7953\"],[0.7777777777777778,\"#fb9f3a\"],[0.8888888888888888,\"#fdca26\"],[1.0,\"#f0f921\"]]}],\"mesh3d\":[{\"type\":\"mesh3d\",\"colorbar\":{\"outlinewidth\":0,\"ticks\":\"\"}}],\"scatter\":[{\"fillpattern\":{\"fillmode\":\"overlay\",\"size\":10,\"solidity\":0.2},\"type\":\"scatter\"}],\"parcoords\":[{\"type\":\"parcoords\",\"line\":{\"colorbar\":{\"outlinewidth\":0,\"ticks\":\"\"}}}],\"scatterpolargl\":[{\"type\":\"scatterpolargl\",\"marker\":{\"colorbar\":{\"outlinewidth\":0,\"ticks\":\"\"}}}],\"bar\":[{\"error_x\":{\"color\":\"#2a3f5f\"},\"error_y\":{\"color\":\"#2a3f5f\"},\"marker\":{\"line\":{\"color\":\"#E5ECF6\",\"width\":0.5},\"pattern\":{\"fillmode\":\"overlay\",\"size\":10,\"solidity\":0.2}},\"type\":\"bar\"}],\"scattergeo\":[{\"type\":\"scattergeo\",\"marker\":{\"colorbar\":{\"outlinewidth\":0,\"ticks\":\"\"}}}],\"scatterpolar\":[{\"type\":\"scatterpolar\",\"marker\":{\"colorbar\":{\"outlinewidth\":0,\"ticks\":\"\"}}}],\"histogram\":[{\"marker\":{\"pattern\":{\"fillmode\":\"overlay\",\"size\":10,\"solidity\":0.2}},\"type\":\"histogram\"}],\"scattergl\":[{\"type\":\"scattergl\",\"marker\":{\"colorbar\":{\"outlinewidth\":0,\"ticks\":\"\"}}}],\"scatter3d\":[{\"type\":\"scatter3d\",\"line\":{\"colorbar\":{\"outlinewidth\":0,\"ticks\":\"\"}},\"marker\":{\"colorbar\":{\"outlinewidth\":0,\"ticks\":\"\"}}}],\"scattermapbox\":[{\"type\":\"scattermapbox\",\"marker\":{\"colorbar\":{\"outlinewidth\":0,\"ticks\":\"\"}}}],\"scatterternary\":[{\"type\":\"scatterternary\",\"marker\":{\"colorbar\":{\"outlinewidth\":0,\"ticks\":\"\"}}}],\"scattercarpet\":[{\"type\":\"scattercarpet\",\"marker\":{\"colorbar\":{\"outlinewidth\":0,\"ticks\":\"\"}}}],\"carpet\":[{\"aaxis\":{\"endlinecolor\":\"#2a3f5f\",\"gridcolor\":\"white\",\"linecolor\":\"white\",\"minorgridcolor\":\"white\",\"startlinecolor\":\"#2a3f5f\"},\"baxis\":{\"endlinecolor\":\"#2a3f5f\",\"gridcolor\":\"white\",\"linecolor\":\"white\",\"minorgridcolor\":\"white\",\"startlinecolor\":\"#2a3f5f\"},\"type\":\"carpet\"}],\"table\":[{\"cells\":{\"fill\":{\"color\":\"#EBF0F8\"},\"line\":{\"color\":\"white\"}},\"header\":{\"fill\":{\"color\":\"#C8D4E3\"},\"line\":{\"color\":\"white\"}},\"type\":\"table\"}],\"barpolar\":[{\"marker\":{\"line\":{\"color\":\"#E5ECF6\",\"width\":0.5},\"pattern\":{\"fillmode\":\"overlay\",\"size\":10,\"solidity\":0.2}},\"type\":\"barpolar\"}],\"pie\":[{\"automargin\":true,\"type\":\"pie\"}]},\"layout\":{\"autotypenumbers\":\"strict\",\"colorway\":[\"#636efa\",\"#EF553B\",\"#00cc96\",\"#ab63fa\",\"#FFA15A\",\"#19d3f3\",\"#FF6692\",\"#B6E880\",\"#FF97FF\",\"#FECB52\"],\"font\":{\"color\":\"#2a3f5f\"},\"hovermode\":\"closest\",\"hoverlabel\":{\"align\":\"left\"},\"paper_bgcolor\":\"white\",\"plot_bgcolor\":\"#E5ECF6\",\"polar\":{\"bgcolor\":\"#E5ECF6\",\"angularaxis\":{\"gridcolor\":\"white\",\"linecolor\":\"white\",\"ticks\":\"\"},\"radialaxis\":{\"gridcolor\":\"white\",\"linecolor\":\"white\",\"ticks\":\"\"}},\"ternary\":{\"bgcolor\":\"#E5ECF6\",\"aaxis\":{\"gridcolor\":\"white\",\"linecolor\":\"white\",\"ticks\":\"\"},\"baxis\":{\"gridcolor\":\"white\",\"linecolor\":\"white\",\"ticks\":\"\"},\"caxis\":{\"gridcolor\":\"white\",\"linecolor\":\"white\",\"ticks\":\"\"}},\"coloraxis\":{\"colorbar\":{\"outlinewidth\":0,\"ticks\":\"\"}},\"colorscale\":{\"sequential\":[[0.0,\"#0d0887\"],[0.1111111111111111,\"#46039f\"],[0.2222222222222222,\"#7201a8\"],[0.3333333333333333,\"#9c179e\"],[0.4444444444444444,\"#bd3786\"],[0.5555555555555556,\"#d8576b\"],[0.6666666666666666,\"#ed7953\"],[0.7777777777777778,\"#fb9f3a\"],[0.8888888888888888,\"#fdca26\"],[1.0,\"#f0f921\"]],\"sequentialminus\":[[0.0,\"#0d0887\"],[0.1111111111111111,\"#46039f\"],[0.2222222222222222,\"#7201a8\"],[0.3333333333333333,\"#9c179e\"],[0.4444444444444444,\"#bd3786\"],[0.5555555555555556,\"#d8576b\"],[0.6666666666666666,\"#ed7953\"],[0.7777777777777778,\"#fb9f3a\"],[0.8888888888888888,\"#fdca26\"],[1.0,\"#f0f921\"]],\"diverging\":[[0,\"#8e0152\"],[0.1,\"#c51b7d\"],[0.2,\"#de77ae\"],[0.3,\"#f1b6da\"],[0.4,\"#fde0ef\"],[0.5,\"#f7f7f7\"],[0.6,\"#e6f5d0\"],[0.7,\"#b8e186\"],[0.8,\"#7fbc41\"],[0.9,\"#4d9221\"],[1,\"#276419\"]]},\"xaxis\":{\"gridcolor\":\"white\",\"linecolor\":\"white\",\"ticks\":\"\",\"title\":{\"standoff\":15},\"zerolinecolor\":\"white\",\"automargin\":true,\"zerolinewidth\":2},\"yaxis\":{\"gridcolor\":\"white\",\"linecolor\":\"white\",\"ticks\":\"\",\"title\":{\"standoff\":15},\"zerolinecolor\":\"white\",\"automargin\":true,\"zerolinewidth\":2},\"scene\":{\"xaxis\":{\"backgroundcolor\":\"#E5ECF6\",\"gridcolor\":\"white\",\"linecolor\":\"white\",\"showbackground\":true,\"ticks\":\"\",\"zerolinecolor\":\"white\",\"gridwidth\":2},\"yaxis\":{\"backgroundcolor\":\"#E5ECF6\",\"gridcolor\":\"white\",\"linecolor\":\"white\",\"showbackground\":true,\"ticks\":\"\",\"zerolinecolor\":\"white\",\"gridwidth\":2},\"zaxis\":{\"backgroundcolor\":\"#E5ECF6\",\"gridcolor\":\"white\",\"linecolor\":\"white\",\"showbackground\":true,\"ticks\":\"\",\"zerolinecolor\":\"white\",\"gridwidth\":2}},\"shapedefaults\":{\"line\":{\"color\":\"#2a3f5f\"}},\"annotationdefaults\":{\"arrowcolor\":\"#2a3f5f\",\"arrowhead\":0,\"arrowwidth\":1},\"geo\":{\"bgcolor\":\"white\",\"landcolor\":\"#E5ECF6\",\"subunitcolor\":\"white\",\"showland\":true,\"showlakes\":true,\"lakecolor\":\"white\"},\"title\":{\"x\":0.05},\"mapbox\":{\"style\":\"light\"}}},\"coloraxis\":{\"showscale\":false},\"margin\":{\"l\":0,\"r\":0,\"b\":0,\"t\":0},\"autosize\":false,\"width\":500,\"height\":500,\"scene\":{\"xaxis\":{\"title\":{\"text\":\"bill_length_mm\"}},\"yaxis\":{\"title\":{\"text\":\"bill_width_mm\"}}}},                        {\"responsive\": true}                    ).then(function(){\n",
       "                            \n",
       "var gd = document.getElementById('160f8c9f-66c6-4eda-abb9-387601c0b098');\n",
       "var x = new MutationObserver(function (mutations, observer) {{\n",
       "        var display = window.getComputedStyle(gd).display;\n",
       "        if (!display || display === 'none') {{\n",
       "            console.log([gd, 'removed!']);\n",
       "            Plotly.purge(gd);\n",
       "            observer.disconnect();\n",
       "        }}\n",
       "}});\n",
       "\n",
       "// Listen for the removal of the full notebook cells\n",
       "var notebookContainer = gd.closest('#notebook-container');\n",
       "if (notebookContainer) {{\n",
       "    x.observe(notebookContainer, {childList: true});\n",
       "}}\n",
       "\n",
       "// Listen for the clearing of the current output cell\n",
       "var outputEl = gd.closest('.output');\n",
       "if (outputEl) {{\n",
       "    x.observe(outputEl, {childList: true});\n",
       "}}\n",
       "\n",
       "                        })                };                });            </script>        </div>"
      ]
     },
     "metadata": {},
     "output_type": "display_data"
    }
   ],
   "source": [
    "# 3d plot of the logistic regression\n",
    "import plotly.graph_objects as go\n",
    "fig = go.Figure(data=[go.Surface(z=Z,\n",
    "                                 x=X_pl,\n",
    "                                 y=y_pl,\n",
    "                                 opacity=0.2,\n",
    "                                 colorscale='Turbo',\n",
    "                                 showscale=False),\n",
    "                      go.Scatter3d(z=sig_curve(chinstrap_X),\n",
    "                                   x=chinstrap_X[:,0],\n",
    "                                   y=chinstrap_X[:,1],\n",
    "                                   mode='markers',\n",
    "                                   marker=dict(\n",
    "                                       size=4,\n",
    "                                       color=colors[0],\n",
    "                                       opacity=0.8),\n",
    "                                   name='chinstrap'\n",
    "                                  ),\n",
    "                      go.Scatter3d(z=sig_curve(adelie_X),\n",
    "                                   x=adelie_X[:,0],\n",
    "                                   y=adelie_X[:,1],\n",
    "                                   mode='markers',\n",
    "                                   marker=dict(\n",
    "                                       size=4,\n",
    "                                       color=colors[1],\n",
    "                                       opacity=0.8),  \n",
    "                                   name='adelie'\n",
    "                      )])\n",
    "fig.update_coloraxes(showscale=False)\n",
    "fig.update_layout(autosize=False,\n",
    "                  width=500,\n",
    "                  height=500,\n",
    "                  scene = dict(\n",
    "                    xaxis_title='bill_length_mm',\n",
    "                    yaxis_title='bill_width_mm'),\n",
    "                    margin=dict(l=0, r=0, b=0, t=0)\n",
    "                 )"
   ]
  },
  {
   "cell_type": "markdown",
   "id": "e8f209cc",
   "metadata": {},
   "source": [
    "## 1.E\n",
    "\n",
    "Calculate the error in both the linear regression and logistic regression models. Which performs better?"
   ]
  },
  {
   "cell_type": "code",
   "execution_count": 1015,
   "id": "98dbb791",
   "metadata": {},
   "outputs": [
    {
     "data": {
      "text/plain": [
       "array([[ 1. , 39.1, 18.7],\n",
       "       [ 1. , 39.5, 17.4],\n",
       "       [ 1. , 40.3, 18. ],\n",
       "       [ 1. , 36.7, 19.3],\n",
       "       [ 1. , 39.3, 20.6]])"
      ]
     },
     "execution_count": 1015,
     "metadata": {},
     "output_type": "execute_result"
    }
   ],
   "source": [
    "#Redefine linear X so it doesn't get confused with logistic regression X\n",
    "#Then I spliced to make x the two factor columns and y the species column \n",
    "X = penguinsAC_df.iloc[:214,[2,3]].to_numpy()\n",
    "X.shape\n",
    "#y.shape\n",
    "\n",
    "#I made a column of ones to attatch to X\n",
    "ones_col_vec = np.ones(214)\n",
    "ones_col_vec=ones_col_vec.reshape(214,1)\n",
    "ones_col_vec.shape\n",
    "\n",
    "#And added it to X\n",
    "X = np.concatenate((ones_col_vec, X), axis=1)\n",
    "X.shape\n",
    "\n",
    "#Checking the first few rows to make sure it looks okay\n",
    "X[:5]"
   ]
  },
  {
   "cell_type": "code",
   "execution_count": 1016,
   "id": "3007aac1",
   "metadata": {},
   "outputs": [
    {
     "data": {
      "text/plain": [
       "0.3177570093457794"
      ]
     },
     "execution_count": 1016,
     "metadata": {},
     "output_type": "execute_result"
    }
   ],
   "source": [
    "#linear regression error\n",
    "#creating a function to calculate MSE\n",
    "def myMSE(a,b):\n",
    "    totale= np.sum(np.square(np.subtract(a,b)))\n",
    "    N = a.shape[0]\n",
    "    return totale*(1/N)\n",
    "\n",
    "#finding the predicted values of y\n",
    "y_hat = X.dot(w_lin)\n",
    "\n",
    "#finding MSE between real values of y and predicted values of y\n",
    "myMSE(y_hat,y)"
   ]
  },
  {
   "cell_type": "code",
   "execution_count": 1018,
   "id": "a86effc0",
   "metadata": {},
   "outputs": [],
   "source": [
    "#Logistic regression error\n",
    "#Setting the t\n",
    "chinstrap_hat = sig_curve(chinstrap_X)\n",
    "errorc=sum(i >.5 for i in chinstrap_hat)"
   ]
  },
  {
   "cell_type": "code",
   "execution_count": 1019,
   "id": "27f711dd",
   "metadata": {},
   "outputs": [
    {
     "data": {
      "text/plain": [
       "3"
      ]
     },
     "execution_count": 1019,
     "metadata": {},
     "output_type": "execute_result"
    }
   ],
   "source": [
    "adelie_hat = sig_curve(adelie_X)\n",
    "errora=sum(i <.5 for i in adelie_hat)\n",
    "errora"
   ]
  },
  {
   "cell_type": "code",
   "execution_count": 1020,
   "id": "1c3085b4",
   "metadata": {},
   "outputs": [
    {
     "data": {
      "text/plain": [
       "0.028037383177570093"
      ]
     },
     "execution_count": 1020,
     "metadata": {},
     "output_type": "execute_result"
    }
   ],
   "source": [
    "#sum of total errors divided by total number of predictions \n",
    "np.sum([errora,errorc])/214"
   ]
  },
  {
   "cell_type": "code",
   "execution_count": 1021,
   "id": "cd4c65e9",
   "metadata": {},
   "outputs": [
    {
     "data": {
      "text/plain": [
       "((146, 2), (68, 2))"
      ]
     },
     "execution_count": 1021,
     "metadata": {},
     "output_type": "execute_result"
    }
   ],
   "source": [
    "adelie_X.shape, chinstrap_X.shape"
   ]
  },
  {
   "cell_type": "markdown",
   "id": "b1651e73",
   "metadata": {},
   "source": [
    "While accounting for the two seperate measures of error, since the logistic regression cannot use MSE as a means of measuring error, the logistic regression does seem to be a better predictor of species, since the calculated error of .028 is lower than the MSE of .05. Since we are using both as a classifier problem, they can be compared to evaluate which of the two performs better as a classifier, but there is not an equivalent to the MSE for logistic regression like there is for linear regression, so I instead calculated the classification loss."
   ]
  },
  {
   "cell_type": "markdown",
   "id": "4d9a266a",
   "metadata": {},
   "source": [
    "## 1.F \n",
    "\n",
    "<br/>\n",
    "<div class='info'>\n",
    "\n",
    "<font size='5'>🤔</font> **Question:**  Wait a minute. How did we use linear regression and logistic regression for **classification**? Explain why these are called regression models, and how we used them for classification!\n",
    "\n",
    "</div>\n",
    "\n",
    "---"
   ]
  },
  {
   "cell_type": "markdown",
   "id": "5f3a760c",
   "metadata": {},
   "source": [
    "In linear regression, the two relationship of the two features is used to generate regression coefficients that determine a threshold line in 3D space, in which any values that cross the predicted regression threshold will be classified as that kind of species. In this case, crossing the regression threshold would mean being predicted to be an adelie, while staying under would mean being predicted to be a chinstrap.\n",
    "\n",
    "In logistic regression, the coefficients of the weight vector gives a sig curve function that predicts a probability or Z value of being a certain species classification. Then if the probability is over the determined threshold, in this case .5, that would predict an adelie, and if it is under the threshold it would be predicted to be a chinstrap. \n",
    "\n",
    "Both are called regression models because they require regressing two variables against each other to find the predicted relationships and the classification comes from these outputs, which are either linear or discrete, depending on the type of regression used. "
   ]
  },
  {
   "cell_type": "markdown",
   "id": "3aff085b",
   "metadata": {},
   "source": [
    "---"
   ]
  },
  {
   "cell_type": "markdown",
   "id": "9de69247",
   "metadata": {},
   "source": [
    "# Problem 2\n",
    "\n",
    "For this problem, we are going to do a basic **exploration** of a KNN, along the lines of how we did it in class.\n",
    "\n",
    "I will give you the code to create/train one. I just want you to think conceptually like we did in class about KNNs.\n",
    "\n",
    "To make this part simpler, I will assume above you already generated a dataframe containing only **Adelie** and  **Chinstrap** penguins. \n",
    "\n",
    "Copy/paste it below:"
   ]
  },
  {
   "cell_type": "code",
   "execution_count": 450,
   "id": "b59e1250",
   "metadata": {},
   "outputs": [
    {
     "data": {
      "text/html": [
       "<div>\n",
       "<style scoped>\n",
       "    .dataframe tbody tr th:only-of-type {\n",
       "        vertical-align: middle;\n",
       "    }\n",
       "\n",
       "    .dataframe tbody tr th {\n",
       "        vertical-align: top;\n",
       "    }\n",
       "\n",
       "    .dataframe thead th {\n",
       "        text-align: right;\n",
       "    }\n",
       "</style>\n",
       "<table border=\"1\" class=\"dataframe\">\n",
       "  <thead>\n",
       "    <tr style=\"text-align: right;\">\n",
       "      <th></th>\n",
       "      <th>species</th>\n",
       "      <th>island</th>\n",
       "      <th>bill_length_mm</th>\n",
       "      <th>bill_depth_mm</th>\n",
       "      <th>flipper_length_mm</th>\n",
       "      <th>body_mass_g</th>\n",
       "      <th>sex</th>\n",
       "    </tr>\n",
       "  </thead>\n",
       "  <tbody>\n",
       "    <tr>\n",
       "      <th>0</th>\n",
       "      <td>Adelie</td>\n",
       "      <td>Torgersen</td>\n",
       "      <td>39.1</td>\n",
       "      <td>18.7</td>\n",
       "      <td>181.0</td>\n",
       "      <td>3750.0</td>\n",
       "      <td>Male</td>\n",
       "    </tr>\n",
       "    <tr>\n",
       "      <th>1</th>\n",
       "      <td>Adelie</td>\n",
       "      <td>Torgersen</td>\n",
       "      <td>39.5</td>\n",
       "      <td>17.4</td>\n",
       "      <td>186.0</td>\n",
       "      <td>3800.0</td>\n",
       "      <td>Female</td>\n",
       "    </tr>\n",
       "    <tr>\n",
       "      <th>2</th>\n",
       "      <td>Adelie</td>\n",
       "      <td>Torgersen</td>\n",
       "      <td>40.3</td>\n",
       "      <td>18.0</td>\n",
       "      <td>195.0</td>\n",
       "      <td>3250.0</td>\n",
       "      <td>Female</td>\n",
       "    </tr>\n",
       "    <tr>\n",
       "      <th>4</th>\n",
       "      <td>Adelie</td>\n",
       "      <td>Torgersen</td>\n",
       "      <td>36.7</td>\n",
       "      <td>19.3</td>\n",
       "      <td>193.0</td>\n",
       "      <td>3450.0</td>\n",
       "      <td>Female</td>\n",
       "    </tr>\n",
       "    <tr>\n",
       "      <th>5</th>\n",
       "      <td>Adelie</td>\n",
       "      <td>Torgersen</td>\n",
       "      <td>39.3</td>\n",
       "      <td>20.6</td>\n",
       "      <td>190.0</td>\n",
       "      <td>3650.0</td>\n",
       "      <td>Male</td>\n",
       "    </tr>\n",
       "    <tr>\n",
       "      <th>...</th>\n",
       "      <td>...</td>\n",
       "      <td>...</td>\n",
       "      <td>...</td>\n",
       "      <td>...</td>\n",
       "      <td>...</td>\n",
       "      <td>...</td>\n",
       "      <td>...</td>\n",
       "    </tr>\n",
       "    <tr>\n",
       "      <th>215</th>\n",
       "      <td>Chinstrap</td>\n",
       "      <td>Dream</td>\n",
       "      <td>55.8</td>\n",
       "      <td>19.8</td>\n",
       "      <td>207.0</td>\n",
       "      <td>4000.0</td>\n",
       "      <td>Male</td>\n",
       "    </tr>\n",
       "    <tr>\n",
       "      <th>216</th>\n",
       "      <td>Chinstrap</td>\n",
       "      <td>Dream</td>\n",
       "      <td>43.5</td>\n",
       "      <td>18.1</td>\n",
       "      <td>202.0</td>\n",
       "      <td>3400.0</td>\n",
       "      <td>Female</td>\n",
       "    </tr>\n",
       "    <tr>\n",
       "      <th>217</th>\n",
       "      <td>Chinstrap</td>\n",
       "      <td>Dream</td>\n",
       "      <td>49.6</td>\n",
       "      <td>18.2</td>\n",
       "      <td>193.0</td>\n",
       "      <td>3775.0</td>\n",
       "      <td>Male</td>\n",
       "    </tr>\n",
       "    <tr>\n",
       "      <th>218</th>\n",
       "      <td>Chinstrap</td>\n",
       "      <td>Dream</td>\n",
       "      <td>50.8</td>\n",
       "      <td>19.0</td>\n",
       "      <td>210.0</td>\n",
       "      <td>4100.0</td>\n",
       "      <td>Male</td>\n",
       "    </tr>\n",
       "    <tr>\n",
       "      <th>219</th>\n",
       "      <td>Chinstrap</td>\n",
       "      <td>Dream</td>\n",
       "      <td>50.2</td>\n",
       "      <td>18.7</td>\n",
       "      <td>198.0</td>\n",
       "      <td>3775.0</td>\n",
       "      <td>Female</td>\n",
       "    </tr>\n",
       "  </tbody>\n",
       "</table>\n",
       "<p>214 rows × 7 columns</p>\n",
       "</div>"
      ],
      "text/plain": [
       "       species     island  bill_length_mm  bill_depth_mm  flipper_length_mm  \\\n",
       "0       Adelie  Torgersen            39.1           18.7              181.0   \n",
       "1       Adelie  Torgersen            39.5           17.4              186.0   \n",
       "2       Adelie  Torgersen            40.3           18.0              195.0   \n",
       "4       Adelie  Torgersen            36.7           19.3              193.0   \n",
       "5       Adelie  Torgersen            39.3           20.6              190.0   \n",
       "..         ...        ...             ...            ...                ...   \n",
       "215  Chinstrap      Dream            55.8           19.8              207.0   \n",
       "216  Chinstrap      Dream            43.5           18.1              202.0   \n",
       "217  Chinstrap      Dream            49.6           18.2              193.0   \n",
       "218  Chinstrap      Dream            50.8           19.0              210.0   \n",
       "219  Chinstrap      Dream            50.2           18.7              198.0   \n",
       "\n",
       "     body_mass_g     sex  \n",
       "0         3750.0    Male  \n",
       "1         3800.0  Female  \n",
       "2         3250.0  Female  \n",
       "4         3450.0  Female  \n",
       "5         3650.0    Male  \n",
       "..           ...     ...  \n",
       "215       4000.0    Male  \n",
       "216       3400.0  Female  \n",
       "217       3775.0    Male  \n",
       "218       4100.0    Male  \n",
       "219       3775.0  Female  \n",
       "\n",
       "[214 rows x 7 columns]"
      ]
     },
     "execution_count": 450,
     "metadata": {},
     "output_type": "execute_result"
    }
   ],
   "source": [
    "penguins_df = penguinsAC_df\n",
    "penguins_df"
   ]
  },
  {
   "cell_type": "markdown",
   "id": "a3f07e01",
   "metadata": {},
   "source": [
    "Now, we can define a list of **feature names** we are interested in looking at:"
   ]
  },
  {
   "cell_type": "code",
   "execution_count": 451,
   "id": "bcffebd8",
   "metadata": {},
   "outputs": [],
   "source": [
    "feature_names = ['bill_length_mm', 'bill_depth_mm']"
   ]
  },
  {
   "cell_type": "markdown",
   "id": "67ee3277",
   "metadata": {},
   "source": [
    "Now, we can use that to **select those features** from of our dataframe along with labels:"
   ]
  },
  {
   "cell_type": "code",
   "execution_count": 452,
   "id": "13f6ab85",
   "metadata": {},
   "outputs": [],
   "source": [
    "X = penguins_df[feature_names].values\n",
    "y = penguins_df['species'].replace({'Adelie':0,'Chinstrap':1}).values"
   ]
  },
  {
   "cell_type": "markdown",
   "id": "7fc16496",
   "metadata": {},
   "source": [
    "<br/>\n",
    "<div class='info'>\n",
    "\n",
    "<font size='5'>🤩</font> Now we're ready to train a KNN!\n",
    "\n",
    "</div>"
   ]
  },
  {
   "cell_type": "code",
   "execution_count": 453,
   "id": "8341b71a",
   "metadata": {},
   "outputs": [],
   "source": [
    "from sklearn.neighbors import KNeighborsClassifier"
   ]
  },
  {
   "cell_type": "markdown",
   "id": "18c91937",
   "metadata": {},
   "source": [
    "Lets set the very important `n_neighbors` parameter. For right now, lets jsut set it to `10` and we will experiment with it later:"
   ]
  },
  {
   "cell_type": "code",
   "execution_count": 454,
   "id": "42e61cec",
   "metadata": {},
   "outputs": [],
   "source": [
    "n_neighbors = 10"
   ]
  },
  {
   "cell_type": "markdown",
   "id": "99f0ca6b",
   "metadata": {},
   "source": [
    "Lets fit it!"
   ]
  },
  {
   "cell_type": "code",
   "execution_count": 455,
   "id": "5bec15ae",
   "metadata": {},
   "outputs": [
    {
     "data": {
      "text/plain": [
       "KNeighborsClassifier(n_neighbors=10)"
      ]
     },
     "execution_count": 455,
     "metadata": {},
     "output_type": "execute_result"
    }
   ],
   "source": [
    "knn_model = KNeighborsClassifier(n_neighbors)\n",
    "knn_model.fit(X, y)"
   ]
  },
  {
   "cell_type": "markdown",
   "id": "5c8561d0",
   "metadata": {},
   "source": [
    "Lets see how we did by calculating our **accuracy** on our entire dataset:"
   ]
  },
  {
   "cell_type": "code",
   "execution_count": 456,
   "id": "7f8812da",
   "metadata": {},
   "outputs": [
    {
     "name": "stdout",
     "output_type": "stream",
     "text": [
      "Accuracy: 95.79%\n"
     ]
    }
   ],
   "source": [
    "print(f'Accuracy: {knn_model.score(X, y)*100:.2f}%')"
   ]
  },
  {
   "cell_type": "markdown",
   "id": "0e6d614c",
   "metadata": {},
   "source": [
    "Hm. This seems pretty good, but lets visualize it!\n",
    "\n",
    "<br/>\n",
    "<div class='info'>\n",
    "\n",
    "<font size='5'>☝🏽</font> **Note:** This is where I updated this NB to version 2 to account for an old Colab version.\n",
    "\n",
    "</div>"
   ]
  },
  {
   "cell_type": "code",
   "execution_count": 457,
   "id": "09da12b3",
   "metadata": {
    "code_folding": [
     0
    ]
   },
   "outputs": [],
   "source": [
    "# decision boundary plotting function\n",
    "from matplotlib.colors import ListedColormap\n",
    "def plot_decision_boundary(model, X, y, scale=1):\n",
    "    # Plot the decision boundary. For that, we will assign a color to each\n",
    "    # point in the mesh [x_min, x_max]x[y_min, y_max].\n",
    "    h=0.5\n",
    "    x_min, x_max = X[:, 0].min() - 1, X[:, 0].max() + 1\n",
    "    y_min, y_max = X[:, 1].min() - 1, X[:, 1].max() + 1\n",
    "    xx, yy = np.meshgrid(np.arange(x_min, x_max, h), np.arange(y_min, y_max, h*scale))\n",
    "    Z = model.predict(np.c_[xx.ravel(), yy.ravel()])\n",
    "\n",
    "    cmap = sns.palettes.color_palette('muted',as_cmap=True)\n",
    "    cmap_light = ListedColormap(cmap[:2])\n",
    "\n",
    "    # Put the result into a color plot\n",
    "    Z = Z.reshape(xx.shape)\n",
    "    plt.figure(figsize=(8, 6))\n",
    "    plt.contourf(xx, yy, Z, cmap=cmap_light,alpha=0.5);\n",
    "    # Plot also the training points\n",
    "    ax = sns.scatterplot(\n",
    "        x=X[:, 0],\n",
    "        y=X[:, 1],\n",
    "        hue=y,\n",
    "        alpha=1.0,\n",
    "        edgecolor=\"black\",\n",
    "        palette='muted'\n",
    "    )\n",
    "    plt.xlim(xx.min(), xx.max())\n",
    "    plt.ylim(yy.min(), yy.max())\n",
    "    plt.title(f'KNN: K={n_neighbors} and Accuracy: {model.score(X, y)*100:.2f}%');\n",
    "    plt.xlabel(feature_names[0]);\n",
    "    plt.ylabel(feature_names[1]);\n",
    "    handles,labels = ax.get_legend_handles_labels()\n",
    "    ax.legend(handles, ['Adelie','Chinsrap'])"
   ]
  },
  {
   "cell_type": "markdown",
   "id": "cba65e74",
   "metadata": {},
   "source": [
    "Now we can call it:"
   ]
  },
  {
   "cell_type": "code",
   "execution_count": 458,
   "id": "cfda875e",
   "metadata": {},
   "outputs": [
    {
     "data": {
      "image/png": "[encoded data removed]",
      "text/plain": [
       "<Figure size 576x432 with 1 Axes>"
      ]
     },
     "metadata": {
      "needs_background": "light"
     },
     "output_type": "display_data"
    }
   ],
   "source": [
    "plot_decision_boundary(knn_model,X,y)"
   ]
  },
  {
   "cell_type": "markdown",
   "id": "13521d45",
   "metadata": {},
   "source": [
    "Now lets use it on two new features:\n",
    "\n",
    "* `flipper_length_mm`\n",
    "* `body_mass_g`"
   ]
  },
  {
   "cell_type": "code",
   "execution_count": 486,
   "id": "8c99f071",
   "metadata": {},
   "outputs": [
    {
     "data": {
      "text/plain": [
       "KNeighborsClassifier(n_neighbors=10)"
      ]
     },
     "execution_count": 486,
     "metadata": {},
     "output_type": "execute_result"
    }
   ],
   "source": [
    "feature_names = ['flipper_length_mm', 'body_mass_g']\n",
    "X, y = penguins_df[feature_names].values, y\n",
    "n_neighbors = 10\n",
    "\n",
    "knn_model = KNeighborsClassifier(n_neighbors)\n",
    "knn_model.fit(X, y)"
   ]
  },
  {
   "cell_type": "code",
   "execution_count": 487,
   "id": "a1d17a22",
   "metadata": {},
   "outputs": [
    {
     "data": {
      "image/png": "[encoded data removed]",
      "text/plain": [
       "<Figure size 576x432 with 1 Axes>"
      ]
     },
     "metadata": {
      "needs_background": "light"
     },
     "output_type": "display_data"
    }
   ],
   "source": [
    "plot_decision_boundary(knn_model,X,y)"
   ]
  },
  {
   "cell_type": "markdown",
   "id": "c8adc2f3",
   "metadata": {},
   "source": [
    "## 2.A\n",
    "\n",
    "<br/>\n",
    "<div class='info'>\n",
    "\n",
    "<font size='5'>🤔</font> **Pause-and-Ponder:**  What are we looking at here? Is this good or bad? Why do you think so? Give a **thorough** explanation here! \n",
    "    \n",
    "**Hint:** Pay attention to the *scale* of our axes! \n",
    "\n",
    "</div>\n",
    "\n",
    "---\n"
   ]
  },
  {
   "cell_type": "markdown",
   "id": "96476b04",
   "metadata": {},
   "source": [
    "The second plot shows how the knearnest neighbors is less successful when the two species are much more integrated and have a lot more overlap in the plot. This makes it harder for the nearest neighbors to make any meaningful distinction between the adelie and chinstrip values since they perform relatively similarly. This is shown in the accuracy of the plot decreasing from 95.79% to 71.50% whcih shows that the KNeighborsClassifier can only correctly predict the class of a new value given the body mass and flipper length 71% of the time. This is not a strong predictor since a 50% predictor relationship is no better than guessing 50-50 on every prediction, so we want as high of a value above 50% as possible. Using bill length and bill depth clearly had a better predicting power since the adelie and the chinstrap penguins occupy very different areas on the graph and have a clear distinction in their distribution of values. \n",
    "\n",
    "In addition, the scales of the axis show how knearest neighbors is performing poorly because if you look at the paired plot that showed the different correlation of values in the earlier section, it showed the most relevant ranges of values for flipper length and body mass, and body mass was graphed up into the 6000 g range, but this plot is only showing values up to the 4750 range. The plot itself seems to cut off some of the values, which may be a fault of the display axis chosen, but it further goes to show a weakness of the second plot that the first plot does not suffer from. \n",
    "\n",
    "This was a 10 k nearest neighbors problem which means that each point was evaluated against every other point in the dataset and their differences were ranked and whatever the majority of their ten closest neighbors identified as, that was the region that point on the graph was classified as, until suffiicent neighborhoods began to emerge. "
   ]
  },
  {
   "cell_type": "markdown",
   "id": "681d12aa",
   "metadata": {},
   "source": [
    "---"
   ]
  },
  {
   "cell_type": "markdown",
   "id": "8a6916a0",
   "metadata": {},
   "source": [
    "## 2.B\n",
    "\n",
    "Now, go back, and repeat this experiment with different groups of features and different values for **K**/`n_neighbors`. Report the pair of features used, the `K` used, and what you observed for the accuracy:\n",
    "\n",
    "|Features Used|K|Accuracy|\n",
    "|-------------|---|---------|\n",
    "|['bill_depth_mm', 'body_mass_g']|10|70.09|\n",
    "|['bill_depth_mm', 'body_mass_g']|5|74.77|\n",
    "|['bill_depth_mm', 'bill_length_mm']|5|98.13|\n",
    "|['bill_depth_mm', 'bill_length_mm']|2|97.66|\n",
    "|['bill_depth_mm', 'flipper_length_mm']|25|74.3|\n",
    "|['bill_depth_mm', 'flipper_length_mm']|5|75.7|\n",
    "\n"
   ]
  },
  {
   "cell_type": "markdown",
   "id": "8a8b0148",
   "metadata": {},
   "source": [
    "## 2.C\n",
    "\n",
    "<br/>\n",
    "<div class='info'>\n",
    "\n",
    "<font size='5'>🤔</font> **Pause-and-Ponder:**  Does this match what you thought would happen from the exploratory section above? Why or why not? Comment below!\n",
    "\n",
    "</div>\n",
    "\n",
    "---\n"
   ]
  },
  {
   "cell_type": "markdown",
   "id": "9ce0dba4",
   "metadata": {},
   "source": [
    "Yes this matches the exploratory section because this both demonstrated how the features selected can make a difference if the relationship between the two shows a larger amount of distinction between the two species, which woudl increase the accuracy of the knearest neighbors. LIke how the bill depth versus bill length had a much higher accuracy than the bill depth versus flipper length, whcih had a much lower accuracy even when the same K was used. \n",
    "\n",
    "However, K does have an impact because this showed that as the K decreases, the accuracy goes up when the same features are used. This makes sense in reference to what we discussed in class that since this is not mapping the nearest neighbors to a testing dataset and is simply fitting the dataset by comparing the distance of each point to one point to make neighborhoods of similar values. The smaller the neighborhoods get to be, the more accurate they will be because they can more closely match the data to itself. This does not guarantee a 100% accuracy since there can still be some uncertainty in the dataset itself from overlapping values. But in the features that are really good predictors, the smaller the K, the closer to 100% accuracy they become. With bill depth and flipper length, even with K=1 the accuracy only went to 92.99% which shows the limits of certain sets of features. But with bill depth and bill length, when K=1, the model reaches 100% accuracy which shows the impact of K on accuracy if the features are a good fit."
   ]
  },
  {
   "cell_type": "markdown",
   "id": "c94ffc36",
   "metadata": {},
   "source": [
    "---"
   ]
  },
  {
   "cell_type": "markdown",
   "id": "aa999e23",
   "metadata": {},
   "source": [
    "# Bonus Problems\n",
    "\n",
    "Below are 2 bonus problems. You may attempt both, but **only serious attempts will be graded!** If you attempt them do so seriously! Short/simple answers will not receive any points!"
   ]
  },
  {
   "cell_type": "markdown",
   "id": "ca617e79",
   "metadata": {},
   "source": [
    "## Bonus - 1\n",
    "\n",
    "For this problem, implement a simple gradient descent loop to solve the same **linear regression** that you solved above!\n",
    "\n",
    "<br/>\n",
    "<div class='info'>\n",
    "\n",
    "<font size='5'>🙋🏽‍♀️</font> **Hint:**  In class, we gave the **gradient** for Linear-Regression! Just use it as you normally would in gradient descent! \n",
    "\n",
    "</div>"
   ]
  },
  {
   "cell_type": "code",
   "execution_count": 930,
   "id": "7089e894",
   "metadata": {},
   "outputs": [],
   "source": [
    "#Making f_prime the function for finding the weight vectors \n",
    "def f_prime(X,y):\n",
    "    return (np.linalg.inv(X.T.dot(X)).dot(X.T).dot(y))\n",
    "#unclear of how to make a weight vector formaula with only one variable which seems to be needed for gradient descent"
   ]
  },
  {
   "cell_type": "code",
   "execution_count": 931,
   "id": "28c98a7d",
   "metadata": {},
   "outputs": [
    {
     "ename": "TypeError",
     "evalue": "'NoneType' object is not callable",
     "output_type": "error",
     "traceback": [
      "\u001b[0;31m---------------------------------------------------------------------------\u001b[0m",
      "\u001b[0;31mTypeError\u001b[0m                                 Traceback (most recent call last)",
      "\u001b[0;32m<ipython-input-931-f0c7f5cb61a7>\u001b[0m in \u001b[0;36m<module>\u001b[0;34m\u001b[0m\n\u001b[1;32m      9\u001b[0m \u001b[0;31m# setup path holding variables\u001b[0m\u001b[0;34m\u001b[0m\u001b[0;34m\u001b[0m\u001b[0;34m\u001b[0m\u001b[0m\n\u001b[1;32m     10\u001b[0m \u001b[0mwPath\u001b[0m \u001b[0;34m=\u001b[0m \u001b[0;34m[\u001b[0m\u001b[0minitialGuess\u001b[0m\u001b[0;34m]\u001b[0m\u001b[0;34m\u001b[0m\u001b[0;34m\u001b[0m\u001b[0m\n\u001b[0;32m---> 11\u001b[0;31m \u001b[0mfPath\u001b[0m \u001b[0;34m=\u001b[0m \u001b[0;34m[\u001b[0m\u001b[0mf\u001b[0m\u001b[0;34m(\u001b[0m\u001b[0minitialGuess\u001b[0m\u001b[0;34m)\u001b[0m\u001b[0;34m]\u001b[0m\u001b[0;34m\u001b[0m\u001b[0;34m\u001b[0m\u001b[0m\n\u001b[0m",
      "\u001b[0;31mTypeError\u001b[0m: 'NoneType' object is not callable"
     ]
    }
   ],
   "source": [
    "initialGuess = .1\n",
    "# step-size/learning-rate\n",
    "eta = .1\n",
    "\n",
    "# delta value (difference of new weight and old)\n",
    "# that I want to stop at:\n",
    "delta_stop = 0.001\n",
    "\n",
    "# setup path holding variables\n",
    "wPath = [initialGuess]\n",
    "fPath = [f(initialGuess)]"
   ]
  },
  {
   "cell_type": "code",
   "execution_count": 932,
   "id": "6fdb6573",
   "metadata": {},
   "outputs": [],
   "source": [
    "# setup initial weights\n",
    "w_t = 0\n",
    "w_y = 0 #Adding another weight for y but now I don't know where to put this in the formula\n",
    "#Would that need a second gradient descent?\n",
    "w_t_new = initialGuess"
   ]
  },
  {
   "cell_type": "code",
   "execution_count": 933,
   "id": "8013aebd",
   "metadata": {},
   "outputs": [],
   "source": [
    "# trying to include both the variables needed for the weight vectors \n",
    "delta_w = w_t_new - w_t+w_y\n",
    "#From what I saw of linear regression gradient descent, it needed a more complicated while loop like a \n",
    "#locally weighted linear regression but I did not know how to implement that into code"
   ]
  },
  {
   "cell_type": "code",
   "execution_count": 935,
   "id": "f62c4c49",
   "metadata": {},
   "outputs": [
    {
     "ename": "AttributeError",
     "evalue": "'float' object has no attribute 'T'",
     "output_type": "error",
     "traceback": [
      "\u001b[0;31m---------------------------------------------------------------------------\u001b[0m",
      "\u001b[0;31mAttributeError\u001b[0m                            Traceback (most recent call last)",
      "\u001b[0;32m<ipython-input-935-2c55e093faf1>\u001b[0m in \u001b[0;36m<module>\u001b[0;34m\u001b[0m\n\u001b[1;32m      7\u001b[0m \u001b[0;34m\u001b[0m\u001b[0m\n\u001b[1;32m      8\u001b[0m     \u001b[0;31m# update weights using the gradient\u001b[0m\u001b[0;34m\u001b[0m\u001b[0;34m\u001b[0m\u001b[0;34m\u001b[0m\u001b[0m\n\u001b[0;32m----> 9\u001b[0;31m     \u001b[0mw_t_new\u001b[0m \u001b[0;34m=\u001b[0m \u001b[0mw_t\u001b[0m \u001b[0;34m-\u001b[0m \u001b[0meta\u001b[0m \u001b[0;34m*\u001b[0m \u001b[0mf_prime\u001b[0m\u001b[0;34m(\u001b[0m\u001b[0mw_t\u001b[0m\u001b[0;34m,\u001b[0m\u001b[0mw_y\u001b[0m\u001b[0;34m)\u001b[0m\u001b[0;34m\u001b[0m\u001b[0;34m\u001b[0m\u001b[0m\n\u001b[0m\u001b[1;32m     10\u001b[0m     \u001b[0;31m#maybe but fix the f_prime\u001b[0m\u001b[0;34m\u001b[0m\u001b[0;34m\u001b[0m\u001b[0;34m\u001b[0m\u001b[0m\n\u001b[1;32m     11\u001b[0m     \u001b[0;31m#w_t_new = w_t - eta * f_prime\u001b[0m\u001b[0;34m\u001b[0m\u001b[0;34m\u001b[0m\u001b[0;34m\u001b[0m\u001b[0m\n",
      "\u001b[0;32m<ipython-input-930-8f2d0c9b1ab4>\u001b[0m in \u001b[0;36mf_prime\u001b[0;34m(X, y)\u001b[0m\n\u001b[1;32m      1\u001b[0m \u001b[0;31m#Making f_prime the function for finding the weight vectors\u001b[0m\u001b[0;34m\u001b[0m\u001b[0;34m\u001b[0m\u001b[0;34m\u001b[0m\u001b[0m\n\u001b[1;32m      2\u001b[0m \u001b[0;32mdef\u001b[0m \u001b[0mf_prime\u001b[0m\u001b[0;34m(\u001b[0m\u001b[0mX\u001b[0m\u001b[0;34m,\u001b[0m\u001b[0my\u001b[0m\u001b[0;34m)\u001b[0m\u001b[0;34m:\u001b[0m\u001b[0;34m\u001b[0m\u001b[0;34m\u001b[0m\u001b[0m\n\u001b[0;32m----> 3\u001b[0;31m     \u001b[0;32mreturn\u001b[0m \u001b[0;34m(\u001b[0m\u001b[0mnp\u001b[0m\u001b[0;34m.\u001b[0m\u001b[0mlinalg\u001b[0m\u001b[0;34m.\u001b[0m\u001b[0minv\u001b[0m\u001b[0;34m(\u001b[0m\u001b[0mX\u001b[0m\u001b[0;34m.\u001b[0m\u001b[0mT\u001b[0m\u001b[0;34m.\u001b[0m\u001b[0mdot\u001b[0m\u001b[0;34m(\u001b[0m\u001b[0mX\u001b[0m\u001b[0;34m)\u001b[0m\u001b[0;34m)\u001b[0m\u001b[0;34m.\u001b[0m\u001b[0mdot\u001b[0m\u001b[0;34m(\u001b[0m\u001b[0mX\u001b[0m\u001b[0;34m.\u001b[0m\u001b[0mT\u001b[0m\u001b[0;34m)\u001b[0m\u001b[0;34m.\u001b[0m\u001b[0mdot\u001b[0m\u001b[0;34m(\u001b[0m\u001b[0my\u001b[0m\u001b[0;34m)\u001b[0m\u001b[0;34m)\u001b[0m\u001b[0;34m\u001b[0m\u001b[0;34m\u001b[0m\u001b[0m\n\u001b[0m\u001b[1;32m      4\u001b[0m \u001b[0;31m#unclear of how to make a weight vector formaula with only one variable which seems to be needed for gradient descent\u001b[0m\u001b[0;34m\u001b[0m\u001b[0;34m\u001b[0m\u001b[0;34m\u001b[0m\u001b[0m\n",
      "\u001b[0;31mAttributeError\u001b[0m: 'float' object has no attribute 'T'"
     ]
    }
   ],
   "source": [
    "#Using the same while loop but unclear how to include two variables\n",
    "while abs(delta_w) > delta_stop:\n",
    "    \n",
    "    # set last iterations \"new\" weights as our current weights\n",
    "    w_t = w_t_new\n",
    "    \n",
    "    # update weights using the gradient\n",
    "    w_t_new = w_t - eta * f_prime(w_t,w_y) #the f_prime isn't working if the weights start at zero bc it needs an array \n",
    "    #to transpose in the linalg formula so I don't know how you would iterate over that \n",
    "    \n",
    "    # store the weights for plotting\n",
    "    wPath.append(w_t_new)\n",
    "    fPath.append(f(w_t_new))\n",
    "    \n",
    "    # recalculate delta_w\n",
    "    delta_w = w_t_new-w_t\n",
    "\n",
    "# convert back from list to array for plotting\n",
    "wPath = np.asarray(wPath)\n",
    "fPath = np.asarray(fPath)\n",
    "\n",
    "# print start and end points\n",
    "endPoint = np.round((wPath[-1],wPath[-1]),2)\n",
    "print(\"Staring at:{}, GD ended at:{} with {} steps\".format(initialGuess, endPoint,fPath.shape[0]))\n",
    "\n",
    "#Final values needed to plot\n",
    "slope_lin = -(w_lin[0]/w_lin[2])/(w_lin[0]/w_lin[1])\n",
    "intercept_lin = -w_lin[0]/w_lin[2]"
   ]
  },
  {
   "cell_type": "markdown",
   "id": "dea92b11",
   "metadata": {},
   "source": [
    "<br/>\n",
    "<div class='info'>\n",
    "\n",
    "<font size='5'>🤔</font> **Pause-and-Ponder:**  Compare your answer to the one above. Should they match? Why or why not? Comment below!\n",
    "\n",
    "</div>\n",
    "\n",
    "---"
   ]
  },
  {
   "cell_type": "markdown",
   "id": "64933b75",
   "metadata": {},
   "source": [
    "The gradient descent is iterating over each potential regression line until it hits a local minimum of the best solution possible for this set of data, so hypothetically this would end up being the same answer to the part one solution of just calcualating it. But this could depend on the starting point and stepping value because if it started in the wrong direction or took too big of learning jumps, it could potentially descend too far in the opposite direction and miss the optimim values from part one. But for the most part these should be the same.  "
   ]
  },
  {
   "cell_type": "markdown",
   "id": "a62d6699",
   "metadata": {},
   "source": [
    "---\n",
    "## Bonus - 2\n",
    "\n",
    "How does the material we've learned so far relate to any other material you've seen before? Any similarities? Differences? \n",
    "\n",
    "If this is your first exposure to the material, then how does this relate to what you thought it was going to be before taking the class? How about what you wanted to use ML for in the future?\n",
    "\n",
    "\n",
    "- Note: I'm **not** asking about style, difficulty, or coverage in the class!\n",
    "- This question is **not a request for feedback**! \n",
    "\n",
    "It's asking you to reconcile the material we've learned in class with the other material you've learned so far in other classes/your career, or what you thought it was going to be! I'm looking for things like: \n",
    "\n",
    " - \"In class A we learned about the Bias-Variance trade-off like this, which is different than how we learned about it here. They are different in this way, they are similar in this way. I'm having a hard time seeing how they are talking about the same thing because ... etc.\n",
    " - I haven't had any previous exposure to these topics before. I didn't realize what a big deal it was to select an appropriate hypothesis space and algorithm, etc. \n",
    " - I always heard deep learning just works. But how come they don't overfit all the time? etc.\n",
    " - I'm confused about how exactly Linear regression can ever do better than KNNs, since KNNs use distance to .... etc.\n",
    " - In my lab project we always use ___ method, but that doesn't seem to fit with what we are learning about, etc.\n",
    " \n",
    "I want you to think deeply about this question. This exercise causes you to re-evaluate what you know, in terms of what you're learning and vice-versa, often changing your interpretation of both! \n",
    "\n",
    "<br/>\n",
    "<div class='info'>\n",
    "\n",
    "<font size='5'>☝🏽</font> **Note: This bonus is \"open ended\", and I will award points based on the depth of your answer.**\n",
    "\n",
    "</div>\n",
    "\n",
    "---"
   ]
  },
  {
   "cell_type": "markdown",
   "id": "6cb327d9",
   "metadata": {},
   "source": [
    "Since I am a Data Science minor, I have taken the DS 1000 and DS 3100 class that are both introductions to the fundamentals of data science taught in R. As a result, we have looked at a very similar syllabus of linear regression and logistic regression, ans since I am taking Fundamentals concurrently, even on the same timeline as this class. \n",
    "\n",
    "The last homework assignment we turned in was a linear regression on a dataset of our choosing and I did a regression to predict housing price given number of bedrooms, land value, and other variables of construction. The process of a DS linear regression assignment focused much more specifically on running tests of significance such as looking at the correlations of the dataset, much like we did in the paired plots here, but we spend more of the assignment's focus on seeing if there were any suppression effects from overfitting the model or from multicollinearity. I ran shapiro tests and graphed the fitted values against the residuals as well as a Q2 plot to see if the residuals are equally distributed along the regression line or if it performs poorly at the ends, which signals the weakness of the model. All of these are more concerned with the evaluation stage of regression than the actual learning stage of building intuition about what regression is really calculating and what the line represents which has been more of the focus of our class time so far. \n",
    "\n",
    "I also took Applied Econometrics which was entirely focused on different models of constructing regressions and the specifics rules they must satisfy in order to have the results be fully interpretable. This deals with biased estimators, multicollinearity again, sampling errors, and the minimum number of time and factors samples necessary to qualify for difference in difference models to truly make ab impact estimate of beta1. To me this signals the difference of this class focused on the learning stage and the econometrics focus on interpretation of the results. \n",
    "\n",
    "I am also taking a Poverty and Discrimination class that uses published papers’ regression tables to practice interpreting results to prove existing theories on discrimination. This is a different goal also since it is more situated in understanding academic understanding of real life phenemoma, whereas one of the goals of machine learning is to find relationships in the data that might have gone unnoticed by human eyes and academic theories. In more formal research that is being done to create a new economic theory, there might be an incentive to look for variable relationships that make sense with preexisting understandings of human behavior but with linear regression and especially the knnearest neighbors human behavior might be grouped in unexpected ways that could even be indecipherable to us making the interpretation stage much more difficult. \n",
    "\n",
    "This far in our discussion of regressions we have focused less on this evaluation or interpretation of results in their context, like the ability to drop variables that are less relevant from the model or address multicollinearity within the variables. Part of this has to do with our focus on linear or logistic regression for classification, which we talked about getting complicated if it uses more than two variables. Since the number of variables we are starting with is much smaller, we get to spend much less time thinking about the implications of each one and how useful of a predictor it is compared to my other classes where it is common for the regression to include five or more indicators. \n",
    "\n",
    "This makes sense since the point of machine learning is to build algorithms that can operate on larger scales and learn about huge amounts of information, so any attempt to be overly specific about what is included might come at a detriment to our model. To me, this intersection of policy and data evaluation that I am more formally focused on in my professional interests and the functions machine learning is capable of was one of the most exciting parts of this class that I am interested in learning more about.\n",
    "\n",
    "I read the book \"Weapons of Math Destruction\" this semester and learned more about the real life applications of algorithms and models that are used today to predict everything from prison sentencing to predicted credit score so as to increase efficiency in all aspects of human life. Reading it made me somewhat hesitant about this intersection I discussed because of the indecipherable nature of certain machine learning models like I described, but I am hopeful that with enough background in these other subjects that focus on interpretation and evaluation, along with the more formal understanding of machine learning modeling and how it works that I am getting from this class, I can be the most effective and ethical programmer possible!"
   ]
  },
  {
   "cell_type": "markdown",
   "id": "1affa313",
   "metadata": {},
   "source": [
    "---"
   ]
  }
 ],
 "metadata": {
  "kernelspec": {
   "display_name": "Python 3 (ipykernel)",
   "language": "python",
   "name": "python3"
  },
  "language_info": {
   "codemirror_mode": {
    "name": "ipython",
    "version": 3
   },
   "file_extension": ".py",
   "mimetype": "text/x-python",
   "name": "python",
   "nbconvert_exporter": "python",
   "pygments_lexer": "ipython3",
   "version": "3.8.13"
  },
  "toc": {
   "base_numbering": 1,
   "nav_menu": {},
   "number_sections": false,
   "sideBar": true,
   "skip_h1_title": false,
   "title_cell": "Table of Contents",
   "title_sidebar": "Contents",
   "toc_cell": false,
   "toc_position": {
    "height": "calc(100% - 180px)",
    "left": "10px",
    "top": "150px",
    "width": "171.333px"
   },
   "toc_section_display": true,
   "toc_window_display": false
  }
 },
 "nbformat": 4,
 "nbformat_minor": 5
}
